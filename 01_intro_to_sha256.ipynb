{
 "cells": [
  {
   "cell_type": "markdown",
   "metadata": {},
   "source": [
    "# Undestanding SHA-256 from First Principles\n",
    "\n",
    "This is a project where we're going to figure out, from scratch, how to build the SHA-256 algorithm, which is a one-way cryptographic function, converting any input, such as `Hi!`, into the 256-bit (32-bye) hash: `ca51ce1fb15acc6d69b8a5700256172fcc507e02073e6f19592e341bd6508ab8`.\n",
    "\n",
    "**NOTE:** This is a beginner-friendly tutorial where I'm assuming you have _some_ Python experience, but are unfamiliar with some funtions which I will xplain on the way."
   ]
  },
  {
   "cell_type": "markdown",
   "metadata": {},
   "source": [
    "# Full Hashing Algorithm"
   ]
  },
  {
   "cell_type": "markdown",
   "metadata": {},
   "source": [
    "# UTF-8 Version"
   ]
  },
  {
   "cell_type": "code",
   "execution_count": null,
   "metadata": {},
   "outputs": [
    {
     "name": "stdout",
     "output_type": "stream",
     "text": [
      "SHA-256 Hash of 'Hi!': ca51ce1fb15acc6d69b8a5700256172fcc507e02073e6f19592e341bd6508ab8\n"
     ]
    }
   ],
   "source": [
    "import struct\n",
    "\n",
    "# Constants for SHA-256\n",
    "K = [\n",
    "    0x428a2f98, 0x71374491, 0xb5c0fbcf, 0xe9b5dba5, 0x3956c25b, 0x59f111f1, 0x923f82a4, 0xab1c5ed5,\n",
    "    0xd807aa98, 0x12835b01, 0x243185be, 0x550c7dc3, 0x72be5d74, 0x80deb1fe, 0x9bdc06a7, 0xc19bf174,\n",
    "    0xe49b69c1, 0xefbe4786, 0x0fc19dc6, 0x240ca1cc, 0x2de92c6f, 0x4a7484aa, 0x5cb0a9dc, 0x76f988da,\n",
    "    0x983e5152, 0xa831c66d, 0xb00327c8, 0xbf597fc7, 0xc6e00bf3, 0xd5a79147, 0x06ca6351, 0x14292967,\n",
    "    0x27b70a85, 0x2e1b2138, 0x4d2c6dfc, 0x53380d13, 0x650a7354, 0x766a0abb, 0x81c2c92e, 0x92722c85,\n",
    "    0xa2bfe8a1, 0xa81a664b, 0xc24b8b70, 0xc76c51a3, 0xd192e819, 0xd6990624, 0xf40e3585, 0x106aa070,\n",
    "    0x19a4c116, 0x1e376c08, 0x2748774c, 0x34b0bcb5, 0x391c0cb3, 0x4ed8aa4a, 0x5b9cca4f, 0x682e6ff3,\n",
    "    0x748f82ee, 0x78a5636f, 0x84c87814, 0x8cc70208, 0x90befffa, 0xa4506ceb, 0xbef9a3f7, 0xc67178f2\n",
    "]\n",
    "\n",
    "# Initial hash values\n",
    "H = [\n",
    "    0x6a09e667, 0xbb67ae85, 0x3c6ef372, 0xa54ff53a,\n",
    "    0x510e527f, 0x9b05688c, 0x1f83d9ab, 0x5be0cd19\n",
    "]\n",
    "\n",
    "def rightrotate(value, shift):\n",
    "    \"\"\"Right rotate a 32-bit integer value by shift bits.\"\"\"\n",
    "    return (value >> shift) | (value << (32 - shift)) & 0xFFFFFFFF\n",
    "\n",
    "def sha256(message):\n",
    "    # Pre-processing: Padding the message\n",
    "    message = bytearray(message, 'utf-8')  # Convert to bytearray using UTF-8 encoding\n",
    "    original_length = len(message) * 8  # Length in bits\n",
    "    message.append(0x80)  # Append the bit '1' to the message\n",
    "\n",
    "    while (len(message) * 8 + 64) % 512 != 0:\n",
    "        message.append(0)  # Append '0' bits until message length is 64 bits shy of 512\n",
    "\n",
    "    message += struct.pack('>Q', original_length)  # Append the original length as a 64-bit big-endian integer\n",
    "\n",
    "    # Process the message in successive 512-bit chunks\n",
    "    for i in range(0, len(message), 64):\n",
    "        chunk = message[i:i + 64]\n",
    "        W = [0] * 64\n",
    "\n",
    "        # Break chunk into sixteen 32-bit big-endian words\n",
    "        for j in range(16):\n",
    "            W[j] = struct.unpack('>I', chunk[j * 4:j * 4 + 4])[0]\n",
    "\n",
    "        # Extend the first 16 words into the remaining 48 words\n",
    "        for j in range(16, 64):\n",
    "            s0 = rightrotate(W[j - 15], 7) ^ rightrotate(W[j - 15], 18) ^ (W[j - 15] >> 3)\n",
    "            s1 = rightrotate(W[j - 2], 17) ^ rightrotate(W[j - 2], 19) ^ (W[j - 2] >> 10)\n",
    "            W[j] = (W[j - 16] + s0 + W[j - 7] + s1) & 0xFFFFFFFF\n",
    "\n",
    "        # Initialize working variables to current hash value\n",
    "        a, b, c, d, e, f, g, h = H\n",
    "\n",
    "        # Compression function main loop\n",
    "        for j in range(64):\n",
    "            S1 = rightrotate(e, 6) ^ rightrotate(e, 11) ^ rightrotate(e, 25)\n",
    "            ch = (e & f) ^ (~e & g)\n",
    "            temp1 = (h + S1 + ch + K[j] + W[j]) & 0xFFFFFFFF\n",
    "            S0 = rightrotate(a, 2) ^ rightrotate(a, 13) ^ rightrotate(a, 22)\n",
    "            maj = (a & b) ^ (a & c) ^ (b & c)\n",
    "            temp2 = (S0 + maj) & 0xFFFFFFFF\n",
    "\n",
    "            h = g\n",
    "            g = f\n",
    "            f = e\n",
    "            e = (d + temp1) & 0xFFFFFFFF\n",
    "            d = c\n",
    "            c = b\n",
    "            b = a\n",
    "            a = (temp1 + temp2) & 0xFFFFFFFF\n",
    "\n",
    "        # Add the compressed chunk to the current hash value\n",
    "        H[0] = (H[0] + a) & 0xFFFFFFFF\n",
    "        H[1] = (H[1] + b) & 0xFFFFFFFF\n",
    "        H[2] = (H[2] + c) & 0xFFFFFFFF\n",
    "        H[3] = (H[3] + d) & 0xFFFFFFFF\n",
    "        H[4] = (H[4] + e) & 0xFFFFFFFF\n",
    "        H[5] = (H[5] + f) & 0xFFFFFFFF\n",
    "        H[6] = (H[6] + g) & 0xFFFFFFFF\n",
    "        H[7] = (H[7] + h) & 0xFFFFFFFF\n",
    "\n",
    "    # Produce the final hash value (big-endian) as a 256-bit number\n",
    "    return ''.join(f'{x:08x}' for x in H)\n",
    "\n",
    "# Example usage\n",
    "message = \"Hi!\"\n",
    "hash_value = sha256(message)\n",
    "print(f\"SHA-256 Hash of '{message}': {hash_value}\")"
   ]
  },
  {
   "cell_type": "code",
   "execution_count": null,
   "metadata": {},
   "outputs": [],
   "source": []
  },
  {
   "cell_type": "code",
   "execution_count": null,
   "metadata": {},
   "outputs": [
    {
     "name": "stdout",
     "output_type": "stream",
     "text": [
      "SHA-256 Hash of 'Hi!': ca51ce1fb15acc6d69b8a5700256172fcc507e02073e6f19592e341bd6508ab8\n"
     ]
    }
   ],
   "source": [
    "import struct\n",
    "\n",
    "# Constants for SHA-256\n",
    "K = [\n",
    "    0x428a2f98, 0x71374491, 0xb5c0fbcf, 0xe9b5dba5, 0x3956c25b, 0x59f111f1, 0x923f82a4, 0xab1c5ed5,\n",
    "    0xd807aa98, 0x12835b01, 0x243185be, 0x550c7dc3, 0x72be5d74, 0x80deb1fe, 0x9bdc06a7, 0xc19bf174,\n",
    "    0xe49b69c1, 0xefbe4786, 0x0fc19dc6, 0x240ca1cc, 0x2de92c6f, 0x4a7484aa, 0x5cb0a9dc, 0x76f988da,\n",
    "    0x983e5152, 0xa831c66d, 0xb00327c8, 0xbf597fc7, 0xc6e00bf3, 0xd5a79147, 0x06ca6351, 0x14292967,\n",
    "    0x27b70a85, 0x2e1b2138, 0x4d2c6dfc, 0x53380d13, 0x650a7354, 0x766a0abb, 0x81c2c92e, 0x92722c85,\n",
    "    0xa2bfe8a1, 0xa81a664b, 0xc24b8b70, 0xc76c51a3, 0xd192e819, 0xd6990624, 0xf40e3585, 0x106aa070,\n",
    "    0x19a4c116, 0x1e376c08, 0x2748774c, 0x34b0bcb5, 0x391c0cb3, 0x4ed8aa4a, 0x5b9cca4f, 0x682e6ff3,\n",
    "    0x748f82ee, 0x78a5636f, 0x84c87814, 0x8cc70208, 0x90befffa, 0xa4506ceb, 0xbef9a3f7, 0xc67178f2\n",
    "]\n",
    "\n",
    "# Initial hash values\n",
    "H = [\n",
    "    0x6a09e667, 0xbb67ae85, 0x3c6ef372, 0xa54ff53a,\n",
    "    0x510e527f, 0x9b05688c, 0x1f83d9ab, 0x5be0cd19\n",
    "]\n",
    "\n",
    "def rightrotate(value, shift):\n",
    "    \"\"\"Right rotate a 32-bit integer value by shift bits.\"\"\"\n",
    "    return (value >> shift) | (value << (32 - shift)) & 0xFFFFFFFF\n",
    "\n",
    "def sha256(message):\n",
    "    # Pre-processing: Padding the message\n",
    "    message = bytearray(message, 'ascii')  # Convert to bytearray\n",
    "    original_length = len(message) * 8  # Length in bits\n",
    "    message.append(0x80)  # Append the bit '1' to the message\n",
    "\n",
    "    while (len(message) * 8 + 64) % 512 != 0:\n",
    "        message.append(0)  # Append '0' bits until message length is 64 bits shy of 512\n",
    "\n",
    "    message += struct.pack('>Q', original_length)  # Append the original length as a 64-bit big-endian integer\n",
    "\n",
    "    # Process the message in successive 512-bit chunks\n",
    "    for i in range(0, len(message), 64):\n",
    "        chunk = message[i:i + 64]\n",
    "        W = [0] * 64\n",
    "\n",
    "        # Break chunk into sixteen 32-bit big-endian words\n",
    "        for j in range(16):\n",
    "            W[j] = struct.unpack('>I', chunk[j * 4:j * 4 + 4])[0]\n",
    "\n",
    "        # Extend the first 16 words into the remaining 48 words\n",
    "        for j in range(16, 64):\n",
    "            s0 = rightrotate(W[j - 15], 7) ^ rightrotate(W[j - 15], 18) ^ (W[j - 15] >> 3)\n",
    "            s1 = rightrotate(W[j - 2], 17) ^ rightrotate(W[j - 2], 19) ^ (W[j - 2] >> 10)\n",
    "            W[j] = (W[j - 16] + s0 + W[j - 7] + s1) & 0xFFFFFFFF\n",
    "\n",
    "        # Initialize working variables to current hash value\n",
    "        a, b, c, d, e, f, g, h = H\n",
    "\n",
    "        # Compression function main loop\n",
    "        for j in range(64):\n",
    "            S1 = rightrotate(e, 6) ^ rightrotate(e, 11) ^ rightrotate(e, 25)\n",
    "            ch = (e & f) ^ (~e & g)\n",
    "            temp1 = (h + S1 + ch + K[j] + W[j]) & 0xFFFFFFFF\n",
    "            S0 = rightrotate(a, 2) ^ rightrotate(a, 13) ^ rightrotate(a, 22)\n",
    "            maj = (a & b) ^ (a & c) ^ (b & c)\n",
    "            temp2 = (S0 + maj) & 0xFFFFFFFF\n",
    "\n",
    "            h = g\n",
    "            g = f\n",
    "            f = e\n",
    "            e = (d + temp1) & 0xFFFFFFFF\n",
    "            d = c\n",
    "            c = b\n",
    "            b = a\n",
    "            a = (temp1 + temp2) & 0xFFFFFFFF\n",
    "\n",
    "        # Add the compressed chunk to the current hash value\n",
    "        H[0] = (H[0] + a) & 0xFFFFFFFF\n",
    "        H[1] = (H[1] + b) & 0xFFFFFFFF\n",
    "        H[2] = (H[2] + c) & 0xFFFFFFFF\n",
    "        H[3] = (H[3] + d) & 0xFFFFFFFF\n",
    "        H[4] = (H[4] + e) & 0xFFFFFFFF\n",
    "        H[5] = (H[5] + f) & 0xFFFFFFFF\n",
    "        H[6] = (H[6] + g) & 0xFFFFFFFF\n",
    "        H[7] = (H[7] + h) & 0xFFFFFFFF\n",
    "\n",
    "    # Produce the final hash value (big-endian) as a 256-bit number\n",
    "    return ''.join(f'{x:08x}' for x in H)\n",
    "\n",
    "# Example usage\n",
    "message = \"Hi!\"\n",
    "hash_value = sha256(message)\n",
    "print(f\"SHA-256 Hash of '{message}': {hash_value}\")"
   ]
  },
  {
   "cell_type": "markdown",
   "metadata": {},
   "source": [
    "Constants and Initial Hash Values: The constants K and initial hash values H are defined as per the SHA-256 specification.\n",
    "\n",
    "rightrotate Function: This function performs a right rotation on a 32-bit integer.\n",
    "sha256 Function:\n",
    "\n",
    "Padding: The message is padded to ensure its length is a multiple of 512 bits.\n",
    "\n",
    "Processing: The message is processed in 512-bit chunks. Each chunk is extended into a 64-word message schedule array W.\n",
    "\n",
    "Compression: The main loop of the compression function updates the working variables and the hash values.\n",
    "\n",
    "Final Hash: The final hash value is produced by concatenating the hash values in hexadecimal format."
   ]
  },
  {
   "cell_type": "markdown",
   "metadata": {},
   "source": [
    "### Input and Output\n",
    "\n",
    "During this tutorial, we're going to use `Hi!` as the input message, but you can make it anything you want."
   ]
  },
  {
   "cell_type": "code",
   "execution_count": null,
   "metadata": {},
   "outputs": [],
   "source": [
    "sha_256_input = r\"Hi!\""
   ]
  },
  {
   "cell_type": "markdown",
   "metadata": {},
   "source": [
    "#### SHA-256: The _EASY_ Way.\n",
    "\n",
    "The easiest way to get the SHA-256 Hash is to use `hashlib`."
   ]
  },
  {
   "cell_type": "code",
   "execution_count": null,
   "metadata": {},
   "outputs": [
    {
     "name": "stdout",
     "output_type": "stream",
     "text": [
      "SHA-256 INPUT: Hi!\n",
      "\n",
      "If our algorithm is correct, this should be the output hash:\n",
      "\n",
      "SHA-256 OUTPUT: ca51ce1fb15acc6d69b8a5700256172fcc507e02073e6f19592e341bd6508ab8\n"
     ]
    }
   ],
   "source": [
    "import hashlib\n",
    "\n",
    "def quick_sha256(text):\n",
    "    return hashlib.sha256(text.encode('utf-8')).hexdigest()\n",
    "\n",
    "correct_sha_256_output_hash = quick_sha256(sha_256_input)\n",
    "\n",
    "print(f\"SHA-256 INPUT: {sha_256_input}\")\n",
    "print(\"\\nIf our algorithm is correct, this should be the output hash:\\n\")\n",
    "print(f\"SHA-256 OUTPUT: {correct_sha_256_output_hash}\")\n"
   ]
  }
 ],
 "metadata": {
  "language_info": {
   "name": "python"
  }
 },
 "nbformat": 4,
 "nbformat_minor": 2
}
