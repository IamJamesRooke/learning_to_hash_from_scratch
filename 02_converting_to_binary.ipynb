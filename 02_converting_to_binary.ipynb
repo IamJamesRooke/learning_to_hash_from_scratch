{
 "cells": [
  {
   "cell_type": "markdown",
   "metadata": {},
   "source": [
    "## Step 1: Convert Input to Binary\n",
    "\n",
    "...But, we're masochists who want to understand this at a deep level, so we're gonna do this step-by-step. And the tThe first thing we need to do is convert each of the characters in the text `Hi!` to `ASCII` then `8-bit binary` and combine those numbers into a single string. Like this:\n",
    "- `H` -> `72` -> `01001000` \n",
    "- `i` -> `105` -> `01101001`\n",
    "- `!` -> `33` -> `00100001`\n",
    "\n",
    "Combining the three, we get our output binary string:\n",
    "\n",
    "`01001000` + `01101001` + `00100001` ➡ `010010000110100100100001`"
   ]
  },
  {
   "cell_type": "markdown",
   "metadata": {},
   "source": [
    "#### `ord()`\n",
    "\n",
    "We're going to need some lesser known functions, and the first one is `ord()` converts **ONE** character into its ascii equivalent."
   ]
  },
  {
   "cell_type": "code",
   "execution_count": null,
   "metadata": {},
   "outputs": [
    {
     "name": "stdout",
     "output_type": "stream",
     "text": [
      "H 72\n",
      "i 105\n",
      "! 33\n"
     ]
    }
   ],
   "source": [
    "print('H', ord('H'))\n",
    "print('i', ord('i'))\n",
    "print('!', ord('!'))"
   ]
  },
  {
   "cell_type": "markdown",
   "metadata": {},
   "source": [
    "Let's do this for the entire message."
   ]
  },
  {
   "cell_type": "code",
   "execution_count": null,
   "metadata": {},
   "outputs": [
    {
     "name": "stdout",
     "output_type": "stream",
     "text": [
      "H -> 72\n",
      "i -> 105\n",
      "! -> 33\n"
     ]
    }
   ],
   "source": [
    "for char in sha_256_input:\n",
    "    print(f'{char} -> {ord(char)}')"
   ]
  },
  {
   "cell_type": "markdown",
   "metadata": {},
   "source": [
    "#### `bin()`\n",
    "We also have `bin()` which converts an integer into its binary equivalent."
   ]
  },
  {
   "cell_type": "code",
   "execution_count": null,
   "metadata": {},
   "outputs": [
    {
     "name": "stdout",
     "output_type": "stream",
     "text": [
      "0b1 0b10 0b11 0b100 0b101\n"
     ]
    }
   ],
   "source": [
    "print(bin(1), bin(2), bin(3), bin(4), bin(5))\n"
   ]
  },
  {
   "cell_type": "markdown",
   "metadata": {},
   "source": [
    "Notice how\n",
    "1. The output is a string, meaning we can't do any math on it.\n",
    "2. The string starts with the '0b' prefix, which is no good.\n",
    "3. For SHA-256, the output must be exactly 8-bits. No more, no less."
   ]
  },
  {
   "cell_type": "code",
   "execution_count": null,
   "metadata": {},
   "outputs": [
    {
     "name": "stdout",
     "output_type": "stream",
     "text": [
      "H 0b1001000\n",
      "String Length: 9\n"
     ]
    }
   ],
   "source": [
    "print('H', bin(ord('H')))\n",
    "print(f\"String Length: {len(bin(ord('H')))}\")\n"
   ]
  },
  {
   "cell_type": "markdown",
   "metadata": {},
   "source": [
    "But this is what it looks like when we convert the message."
   ]
  },
  {
   "cell_type": "code",
   "execution_count": null,
   "metadata": {},
   "outputs": [
    {
     "name": "stdout",
     "output_type": "stream",
     "text": [
      "H -> 72 -> 0b1001000\n",
      "i -> 105 -> 0b1101001\n",
      "! -> 33 -> 0b100001\n"
     ]
    }
   ],
   "source": [
    "for char in sha_256_input:\n",
    "    ascii_val = ord(char)\n",
    "    binary_val = bin(ascii_val)\n",
    "    print(f'{char} -> {ascii_val} -> {binary_val}')"
   ]
  },
  {
   "cell_type": "markdown",
   "metadata": {},
   "source": [
    "#### `format()`\n",
    "So what we're going to use instead is `format()` which allows us to convert the ascii to binary and add zeros to the left to make it exactly 8 bits.\n",
    "\n",
    "`H` ➡ `72` ➡ `1001000` ➡ `01001000` (add zero to left to make 8 bits)"
   ]
  },
  {
   "cell_type": "code",
   "execution_count": null,
   "metadata": {},
   "outputs": [
    {
     "name": "stdout",
     "output_type": "stream",
     "text": [
      "H -> 72 -> 01001000 (length: 8)\n"
     ]
    }
   ],
   "source": [
    "char = 'H'\n",
    "ascii_val = ord(char)\n",
    "\n",
    "# format() works with ascii values\n",
    "# '0' means fill with zeros, '8' means 8 bits, 'b' means binary\n",
    "binary_val = format(ascii_val, '08b')\n",
    "print(f\"{char} -> {ascii_val} -> {binary_val} (length: {len(binary_val)})\")"
   ]
  },
  {
   "cell_type": "markdown",
   "metadata": {},
   "source": [
    "### Combining the Binary Strings\n",
    "Now that we know how to convert characters into 8-bit binary, we're going to put it all together to create our binary message, which comes out as a *STRING*."
   ]
  },
  {
   "cell_type": "code",
   "execution_count": null,
   "metadata": {},
   "outputs": [
    {
     "name": "stdout",
     "output_type": "stream",
     "text": [
      "010010000110100100100001 <class 'str'>\n"
     ]
    }
   ],
   "source": [
    "binary_message = ''\n",
    "\n",
    "for char in sha_256_input:\n",
    "    ascii_val = ord(char)\n",
    "    for bit in format(ascii_val, '08b'):\n",
    "        binary_message += bit\n",
    "\n",
    "print(binary_message, type(binary_message))"
   ]
  },
  {
   "cell_type": "markdown",
   "metadata": {},
   "source": [
    "A more elegant way to write it with `join()` which iterates through every `char` of the input message, converts it to ascii, then binary, then squishes them all into one string."
   ]
  },
  {
   "cell_type": "code",
   "execution_count": null,
   "metadata": {},
   "outputs": [],
   "source": [
    "binary_message = ''.join(format(ord(char), '08b') for char in sha_256_input)"
   ]
  },
  {
   "cell_type": "markdown",
   "metadata": {},
   "source": [
    "#### `text_to_binary()`\n",
    "Let's abstract this and turn it into a function."
   ]
  },
  {
   "cell_type": "code",
   "execution_count": null,
   "metadata": {},
   "outputs": [
    {
     "name": "stdout",
     "output_type": "stream",
     "text": [
      "010010000110100100100001 <class 'str'>\n"
     ]
    }
   ],
   "source": [
    "def text_to_binary(input_text):\n",
    "    return ''.join(format(ord(char), '08b') for char in input_text)\n",
    "\n",
    "binary_message = text_to_binary(sha_256_input)\n",
    "print(binary_message, type(binary_message))"
   ]
  }
 ],
 "metadata": {
  "language_info": {
   "name": "python"
  }
 },
 "nbformat": 4,
 "nbformat_minor": 2
}
