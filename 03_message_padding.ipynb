{
 "cells": [
  {
   "cell_type": "markdown",
   "metadata": {},
   "source": [
    "## Step 2: Padding the Binary Message"
   ]
  },
  {
   "cell_type": "markdown",
   "metadata": {},
   "source": [
    "### Recap\n",
    "Step 1 was turning the each character of the input message `Hi!` into the binary message `010010000110100100100001` using our custom `text_to_binary()` function."
   ]
  },
  {
   "cell_type": "code",
   "execution_count": null,
   "metadata": {},
   "outputs": [
    {
     "name": "stdout",
     "output_type": "stream",
     "text": [
      "SHA-256 INPUT: Hi!\n",
      "BINARY MESSAGE: 010010000110100100100001\n"
     ]
    }
   ],
   "source": [
    "sha_256_input = 'Hi!'\n",
    "binary_message = text_to_binary(sha_256_input)\n",
    "\n",
    "print('SHA-256 INPUT:', sha_256_input)\n",
    "print('BINARY MESSAGE:', binary_message)"
   ]
  },
  {
   "cell_type": "markdown",
   "metadata": {},
   "source": [
    "### SHA-256 Structure\n",
    "Now what we need to do is modify that binary message according to the SHA-256 block structure.\n",
    "- First, we have our binary message `'Hi!'` in binary.\n",
    "- We add a '1' to indicate that this is the end of the message.\n",
    "- We add zeros until we reach bit 447.\n",
    "- The last 64 bits of the message—bits 448 to 511—are reserved to indicate the length of the message."
   ]
  },
  {
   "cell_type": "markdown",
   "metadata": {},
   "source": [
    "![image-2.png](attachment:image-2.png)"
   ]
  },
  {
   "cell_type": "markdown",
   "metadata": {},
   "source": [
    "#### What happens if the message is longer than `'Hi!'` and the binary message takes up more than 512 bits?\n",
    "In that case, the message would be expanded to several blocks, like so:\n",
    "\n",
    "![image-2.png](attachment:image-2.png)\n",
    "![image-3.png](attachment:image-3.png)"
   ]
  },
  {
   "cell_type": "markdown",
   "metadata": {},
   "source": [
    "#### What happens if the message length is greater than 2^64 characters?\n",
    "That would be more than 2 exobytes of data, and most implementations of SHA-256 would raise an error."
   ]
  },
  {
   "cell_type": "markdown",
   "metadata": {},
   "source": [
    "### Anyways, let's Code!\n",
    "Let's pad the binary message according to the SHA-256 standard."
   ]
  },
  {
   "cell_type": "markdown",
   "metadata": {},
   "source": [
    "\n",
    "\n",
    "### Step 2.1: Add the '1' Bit\n",
    "First, we simply append a '1' to our binary message:"
   ]
  },
  {
   "cell_type": "code",
   "execution_count": null,
   "metadata": {},
   "outputs": [],
   "source": [
    "padded_message = binary_message + '1'"
   ]
  },
  {
   "cell_type": "markdown",
   "metadata": {},
   "source": [
    "### Step 2.2: Calculate Required Padding\n",
    "Now we need to figure out how many zeros to add. And to do that, we need to remember a few things.\n",
    "\n",
    "First, SHA-256 processes messages in 512-bit blocks."
   ]
  },
  {
   "cell_type": "code",
   "execution_count": null,
   "metadata": {},
   "outputs": [],
   "source": [
    "BLOCK_SIZE = 512    # SHA-256 processes messages in 512-bit blocks"
   ]
  },
  {
   "cell_type": "markdown",
   "metadata": {},
   "source": [
    "And there will always be *64 bits* reserved for the length field which comes at the **FINAL** block."
   ]
  },
  {
   "cell_type": "code",
   "execution_count": null,
   "metadata": {},
   "outputs": [],
   "source": [
    "LENGTH_FIELD = 64   # Last 64 bits reserved for message length"
   ]
  },
  {
   "cell_type": "markdown",
   "metadata": {},
   "source": [
    "So our final block length must be *448 bits*."
   ]
  },
  {
   "cell_type": "code",
   "execution_count": null,
   "metadata": {},
   "outputs": [
    {
     "data": {
      "text/plain": [
       "448"
      ]
     },
     "metadata": {},
     "output_type": "display_data"
    }
   ],
   "source": [
    "final_block_size = BLOCK_SIZE - LENGTH_FIELD\n",
    "final_block_size"
   ]
  },
  {
   "cell_type": "markdown",
   "metadata": {},
   "source": [
    "Remember, we only add zero padding to the *FINAL* block of the message. \n",
    "\n",
    "If the message is 900 bits for example, it will be structured like this:\n",
    "\n",
    "- **BLOCK 1:** 512 bits allocated to Part I of message.\n",
    "- **BLOCK 2** \n",
    "    - The final *388 bits* the of message\n",
    "    - *1 bit* to indicate beginning of padding\n",
    "    - *59 bits* of zeros\n",
    "    - final *64 bits* to mark the message length\n",
    "    - for a **TOTAL** of *512 bits*."
   ]
  },
  {
   "cell_type": "markdown",
   "metadata": {},
   "source": [
    "Considering this, we will use the modulo operator `%` to calculate how many zeros we need for the padding.\n",
    "\n",
    "In the case of `Hi!` we need 423 zeros of padding."
   ]
  },
  {
   "cell_type": "code",
   "execution_count": null,
   "metadata": {},
   "outputs": [
    {
     "data": {
      "text/plain": [
       "423"
      ]
     },
     "metadata": {},
     "output_type": "display_data"
    }
   ],
   "source": [
    "padding_zeros = final_block_size - (len(padded_message) % BLOCK_SIZE)\n",
    "padding_zeros"
   ]
  },
  {
   "cell_type": "markdown",
   "metadata": {},
   "source": [
    "\n",
    "### Step 2.3: Add the Zero Padding\n",
    "This is easy. We just add 423 zeros to our message."
   ]
  },
  {
   "cell_type": "code",
   "execution_count": null,
   "metadata": {},
   "outputs": [
    {
     "name": "stdout",
     "output_type": "stream",
     "text": [
      "BINARY MESSAGE: 010010000110100100100001\n",
      "PADDED MESSAGE: 0100100001101001001000011\n"
     ]
    }
   ],
   "source": [
    "print(f\"BINARY MESSAGE: {binary_message}\")\n",
    "print(f\"PADDED MESSAGE: {padded_message}\")\n"
   ]
  },
  {
   "cell_type": "code",
   "execution_count": null,
   "metadata": {},
   "outputs": [
    {
     "name": "stdout",
     "output_type": "stream",
     "text": [
      "PADDED MESSAGE WITH ZEROS: 0100100001101001001000011000000000000000000000000000000000000000000000000000000000000000000000000000000000000000000000000000000000000000000000000000000000000000000000000000000000000000000000000000000000000000000000000000000000000000000000000000000000000000000000000000000000000000000000000000000000000000000000000000000000000000000000000000000000000000000000000000000000000000000000000000000000000000000000000000000000000000000000000000000000000000\n"
     ]
    }
   ],
   "source": [
    "padded_message_with_zeros = padded_message + '0' * padding_zeros\n",
    "print(f\"PADDED MESSAGE WITH ZEROS: {padded_message_with_zeros}\")"
   ]
  },
  {
   "cell_type": "markdown",
   "metadata": {},
   "source": [
    "\n",
    "### Step 2.4: Add the Length\n",
    "Finally, add the original message length as a 64-bit number:"
   ]
  },
  {
   "cell_type": "code",
   "execution_count": null,
   "metadata": {},
   "outputs": [
    {
     "name": "stdout",
     "output_type": "stream",
     "text": [
      "FORMATTED MESSAGE LENGTH: 0000000000000000000000000000000000000000000000000000000000011000\n"
     ]
    }
   ],
   "source": [
    "message_length = len(binary_message)\n",
    "\n",
    "formatted_message_length = format(message_length, '064b')\n",
    "print(\"FORMATTED MESSAGE LENGTH:\", formatted_message_length)\n"
   ]
  },
  {
   "cell_type": "markdown",
   "metadata": {},
   "source": [
    "### Step 2.5: Put it All Together."
   ]
  },
  {
   "cell_type": "code",
   "execution_count": null,
   "metadata": {},
   "outputs": [
    {
     "name": "stdout",
     "output_type": "stream",
     "text": [
      "FINAL PADDED BLOCK:\n",
      "\n",
      "Bits 000 to 064: 0100100001101001001000011000000000000000000000000000000000000000\n",
      "Bits 064 to 128: 0000000000000000000000000000000000000000000000000000000000000000\n",
      "Bits 128 to 192: 0000000000000000000000000000000000000000000000000000000000000000\n",
      "Bits 192 to 256: 0000000000000000000000000000000000000000000000000000000000000000\n",
      "Bits 256 to 320: 0000000000000000000000000000000000000000000000000000000000000000\n",
      "Bits 320 to 384: 0000000000000000000000000000000000000000000000000000000000000000\n",
      "Bits 384 to 448: 0000000000000000000000000000000000000000000000000000000000000000\n",
      "Bits 448 to 512: 0000000000000000000000000000000000000000000000000000000000011000\n"
     ]
    }
   ],
   "source": [
    "#! Need to accound for longer blocks.\n",
    "\n",
    "final_padded_block = padded_message_with_zeros + formatted_message_length\n",
    "print(\"FINAL PADDED BLOCK:\\n\")\n",
    "\n",
    "for bit in range(0, 512, 64):\n",
    "    print(f\"Bits {format(bit, '03d')} to {format(bit+64, '03d')}:\", final_padded_block[bit:bit+64])\n"
   ]
  },
  {
   "cell_type": "markdown",
   "metadata": {},
   "source": [
    "### Everything at once\n",
    "Here's the cleaner code that pads the binary message with the correct number of zeros and adds the length of the message at the end."
   ]
  },
  {
   "cell_type": "code",
   "execution_count": null,
   "metadata": {},
   "outputs": [
    {
     "name": "stdout",
     "output_type": "stream",
     "text": [
      "Original message: Hi!\n",
      "As binary: 010010000110100100100001\n",
      "Length: 24 bits\n",
      "\n",
      "Complete 512-bit block breakdown:\n",
      "\n",
      "Block 1 (512 bits):\n",
      "====================================================================================================\n",
      "Bits   0-63 : 0100100001101001001000011000000000000000000000000000000000000000\n",
      "Bits  64-127: 0000000000000000000000000000000000000000000000000000000000000000\n",
      "Bits 128-191: 0000000000000000000000000000000000000000000000000000000000000000\n",
      "Bits 192-255: 0000000000000000000000000000000000000000000000000000000000000000\n",
      "Bits 256-319: 0000000000000000000000000000000000000000000000000000000000000000\n",
      "Bits 320-383: 0000000000000000000000000000000000000000000000000000000000000000\n",
      "Bits 384-447: 0000000000000000000000000000000000000000000000000000000000000000\n",
      "Bits 448-511: 0000000000000000000000000000000000000000000000000000000000011000\n",
      "====================================================================================================\n"
     ]
    }
   ],
   "source": [
    "# Start with our message\n",
    "message = \"Hi!\"\n",
    "\n",
    "# 1. Convert to binary\n",
    "binary = ''.join(format(ord(char), '08b') for char in message)\n",
    "\n",
    "# 2. Add the '1' bit\n",
    "padded = binary + '1'\n",
    "\n",
    "# 3. Add padding zeros\n",
    "zeros_needed = 448 - (len(padded) % 512)\n",
    "if zeros_needed < 0:\n",
    "    zeros_needed += 512\n",
    "padded += '0' * zeros_needed\n",
    "\n",
    "# 4. Add 64-bit message length\n",
    "msg_length = len(binary)\n",
    "length_bits = format(msg_length, '064b')\n",
    "final_padded = padded + length_bits\n",
    "\n",
    "print(f\"Original message: {message}\")\n",
    "print(f\"As binary: {binary}\")\n",
    "print(f\"Length: {len(binary)} bits\")\n",
    "\n",
    "# Show complete blocks with formatting\n",
    "print(\"\\nComplete 512-bit block breakdown:\")\n",
    "blocks = [final_padded[i:i+512] for i in range(0, len(final_padded), 512)]\n",
    "for i, block in enumerate(blocks):\n",
    "    print(f\"\\nBlock {i+1} (512 bits):\")\n",
    "    print(\"=\" * 100)\n",
    "    # Print in rows of 64 bits for readability\n",
    "    for j in range(0, 512, 64):\n",
    "        row = block[j:j+64]\n",
    "        print(f\"Bits {j:>3}-{j+63:<3}: {row}\")\n",
    "    print(\"=\" * 100)"
   ]
  },
  {
   "cell_type": "markdown",
   "metadata": {},
   "source": [
    "### Padding Message Function\n",
    "Now we will refactor this into a function."
   ]
  },
  {
   "cell_type": "code",
   "execution_count": null,
   "metadata": {},
   "outputs": [
    {
     "data": {
      "text/plain": [
       "'01001000011010010010000110000000000000000000000000000000000000000000000000000000000000000000000000000000000000000000000000000000000000000000000000000000000000000000000000000000000000000000000000000000000000000000000000000000000000000000000000000000000000000000000000000000000000000000000000000000000000000000000000000000000000000000000000000000000000000000000000000000000000000000000000000000000000000000000000000000000000000000000000000000000000000000000000000000000000000000000000000000000000000000000000011000'"
      ]
     },
     "metadata": {},
     "output_type": "display_data"
    }
   ],
   "source": [
    "def pad_binary(binary_message,\n",
    "               block_size=512,\n",
    "               length_field=64):\n",
    "\n",
    "    # Add the '1' bit\n",
    "    padded = binary_message + '1'\n",
    "\n",
    "    # Calculate Zeros Needed\n",
    "    msg_size_on_final_block = (len(padded) % BLOCK_SIZE)\n",
    "    zeros_needed = block_size - msg_size_on_final_block - length_field\n",
    "\n",
    "    # If there are not enough zeros, add another block w/ zeros\n",
    "    if zeros_needed < 0:\n",
    "        zeros_needed += 512\n",
    "    \n",
    "    # Otherwise, appen the zeros needed\n",
    "    padded += '0' * zeros_needed\n",
    "\n",
    "    # Add 64-bit message length to the end, padded with zeros\n",
    "    msg_length = len(binary)\n",
    "    length_bits = format(msg_length, '064b')\n",
    "    final_padded = padded + length_bits\n",
    "\n",
    "    return final_padded\n",
    "\n",
    "pad_binary(binary)"
   ]
  },
  {
   "cell_type": "markdown",
   "metadata": {},
   "source": [
    "With this `visualize_blocks()` function we can visualize the structure."
   ]
  },
  {
   "cell_type": "code",
   "execution_count": null,
   "metadata": {},
   "outputs": [
    {
     "name": "stdout",
     "output_type": "stream",
     "text": [
      "\n",
      "Block 1 (512 bits):\n",
      "====================================================================================================\n",
      "Bits   0-63 : 0100100001101001001000011000000000000000000000000000000000000000\n",
      "Bits  64-127: 0000000000000000000000000000000000000000000000000000000000000000\n",
      "Bits 128-191: 0000000000000000000000000000000000000000000000000000000000000000\n",
      "Bits 192-255: 0000000000000000000000000000000000000000000000000000000000000000\n",
      "Bits 256-319: 0000000000000000000000000000000000000000000000000000000000000000\n",
      "Bits 320-383: 0000000000000000000000000000000000000000000000000000000000000000\n",
      "Bits 384-447: 0000000000000000000000000000000000000000000000000000000000000000\n",
      "Bits 448-511: 0000000000000000000000000000000000000000000000000000000000011000\n",
      "====================================================================================================\n"
     ]
    }
   ],
   "source": [
    "def visualize_blocks(binary_message, block_size=512):\n",
    "    blocks = [binary_message[i:i+block_size] for i in range(0, len(binary_message), block_size)]\n",
    "    for i, block in enumerate(blocks):\n",
    "        print(f\"\\nBlock {i+1} ({block_size} bits):\")\n",
    "        print(\"=\" * 100)\n",
    "        # Print in rows of 64 bits for readability\n",
    "        for j in range(0, block_size, 64):\n",
    "            row = block[j:j+64]\n",
    "            print(f\"Bits {j:>3}-{j+63:<3}: {row}\")\n",
    "        print(\"=\" * 100)\n",
    "\n",
    "visualize_blocks(final_padded)"
   ]
  }
 ],
 "metadata": {
  "language_info": {
   "name": "python"
  }
 },
 "nbformat": 4,
 "nbformat_minor": 2
}
