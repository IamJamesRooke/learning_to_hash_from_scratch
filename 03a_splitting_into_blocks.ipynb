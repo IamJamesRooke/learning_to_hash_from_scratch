{
 "cells": [
  {
   "cell_type": "markdown",
   "metadata": {},
   "source": [
    "# One BLOCK at a time"
   ]
  },
  {
   "cell_type": "markdown",
   "metadata": {},
   "source": [
    "## Recap"
   ]
  },
  {
   "cell_type": "markdown",
   "metadata": {},
   "source": [
    "Our initial message:"
   ]
  },
  {
   "cell_type": "code",
   "execution_count": 1,
   "metadata": {},
   "outputs": [
    {
     "data": {
      "text/plain": [
       "'Hi!'"
      ]
     },
     "execution_count": 1,
     "metadata": {},
     "output_type": "execute_result"
    }
   ],
   "source": [
    "message = \"Hi!\"\n",
    "message"
   ]
  },
  {
   "cell_type": "markdown",
   "metadata": {},
   "source": [
    "We have our message converted from text to ascii to binary:"
   ]
  },
  {
   "cell_type": "code",
   "execution_count": 2,
   "metadata": {},
   "outputs": [
    {
     "data": {
      "text/plain": [
       "'010010000110100100100001'"
      ]
     },
     "execution_count": 2,
     "metadata": {},
     "output_type": "execute_result"
    }
   ],
   "source": [
    "binary_message = ''.join(format(ord(char), '08b') for char in message)\n",
    "binary_message"
   ]
  },
  {
   "cell_type": "markdown",
   "metadata": {},
   "source": [
    "We have our padded message."
   ]
  },
  {
   "cell_type": "code",
   "execution_count": 3,
   "metadata": {},
   "outputs": [
    {
     "data": {
      "text/plain": [
       "'01001000011010010010000110000000000000000000000000000000000000000000000000000000000000000000000000000000000000000000000000000000000000000000000000000000000000000000000000000000000000000000000000000000000000000000000000000000000000000000000000000000000000000000000000000000000000000000000000000000000000000000000000000000000000000000000000000000000000000000000000000000000000000000000000000000000000000000000000000000000000000000000000000000000000000000000000000000000000000000000000000000000000000000000000011000'"
      ]
     },
     "execution_count": 3,
     "metadata": {},
     "output_type": "execute_result"
    }
   ],
   "source": [
    "def pad_binary(binary_message,\n",
    "               block_size=512,\n",
    "               length_field=64):\n",
    "\n",
    "    # Add the '1' bit\n",
    "    padded = binary_message + '1'\n",
    "\n",
    "    # Calculate Zeros Needed\n",
    "    msg_size_on_final_block = (len(padded) % block_size)\n",
    "    zeros_needed = block_size - msg_size_on_final_block - length_field\n",
    "\n",
    "    # If there are not enough zeros, add another block w/ zeros\n",
    "    if zeros_needed < 0:\n",
    "        zeros_needed += 512\n",
    "    \n",
    "    # Otherwise, append the zeros needed\n",
    "    padded += '0' * zeros_needed\n",
    "\n",
    "    # Add 64-bit message length to the end, padded with zeros\n",
    "    msg_length = len(binary_message)\n",
    "    length_bits = format(msg_length, '064b')\n",
    "    final_padded = padded + length_bits\n",
    "\n",
    "    return final_padded\n",
    "\n",
    "pad_binary(binary_message)"
   ]
  },
  {
   "cell_type": "markdown",
   "metadata": {},
   "source": [
    "## Messages Longer than One Block"
   ]
  },
  {
   "cell_type": "code",
   "execution_count": 4,
   "metadata": {},
   "outputs": [],
   "source": [
    "message = \"This is a longer message that will require more than one 512-bit block, so we will need a function to break them down.\"\n",
    "binary_message = ''.join(format(ord(char), '08b') for char in message)\n",
    "padded_message = pad_binary(binary_message)"
   ]
  },
  {
   "cell_type": "markdown",
   "metadata": {},
   "source": [
    "The padded message is too long. Needs to be broken down into 512-bit blocks."
   ]
  },
  {
   "cell_type": "code",
   "execution_count": 5,
   "metadata": {},
   "outputs": [],
   "source": [
    "def divide_into_blocks(binary_string, block_size=512):\n",
    "    \"\"\"\n",
    "    Divides a binary string into blocks of a specified size.\n",
    "\n",
    "    Args:\n",
    "        binary_string (str): The binary string to be divided.\n",
    "        block_size (int): The size of each block in bits (default is 512).\n",
    "\n",
    "    Returns:\n",
    "        list: A list of binary string blocks.\n",
    "    \"\"\"\n",
    "    # Ensure the binary string length is a multiple of 8\n",
    "    if len(binary_string) % 8 != 0:\n",
    "        raise ValueError(\"Binary string length must be a multiple of 8\")\n",
    "\n",
    "    # Split the binary string into blocks\n",
    "    blocks = []\n",
    "    for i in range(0, len(binary_string), block_size):\n",
    "        blocks.append(binary_string[i:i+block_size])\n",
    "    \n",
    "    return blocks"
   ]
  },
  {
   "cell_type": "markdown",
   "metadata": {},
   "source": [
    "And here we can see the blocks in both binary format."
   ]
  },
  {
   "cell_type": "code",
   "execution_count": 6,
   "metadata": {},
   "outputs": [
    {
     "name": "stdout",
     "output_type": "stream",
     "text": [
      "Blocks in Binary Format:\n",
      "Block 1: 01010100011010000110100101110011001000000110100101110011001000000110000100100000011011000110111101101110011001110110010101110010001000000110110101100101011100110111001101100001011001110110010100100000011101000110100001100001011101000010000001110111011010010110110001101100001000000111001001100101011100010111010101101001011100100110010100100000011011010110111101110010011001010010000001110100011010000110000101101110001000000110111101101110011001010010000000110101001100010011001000101101011000100110100101110100\n",
      "Block 2: 00100000011000100110110001101111011000110110101100101100001000000111001101101111001000000111011101100101001000000111011101101001011011000110110000100000011011100110010101100101011001000010000001100001001000000110011001110101011011100110001101110100011010010110111101101110001000000111010001101111001000000110001001110010011001010110000101101011001000000111010001101000011001010110110100100000011001000110111101110111011011100010111010000000000000000000000000000000000000000000000000000000000000000000001110110000\n"
     ]
    }
   ],
   "source": [
    "# Divide the padded binary string into 512-bit blocks\n",
    "blocks = divide_into_blocks(padded_message)\n",
    "\n",
    "# Print the blocks in binary format\n",
    "print(\"Blocks in Binary Format:\")\n",
    "for i, block in enumerate(blocks):\n",
    "    print(f\"Block {i + 1}: {block}\")\n"
   ]
  },
  {
   "cell_type": "markdown",
   "metadata": {},
   "source": [
    "But we can also see it in byte string format."
   ]
  },
  {
   "cell_type": "code",
   "execution_count": 7,
   "metadata": {},
   "outputs": [
    {
     "name": "stdout",
     "output_type": "stream",
     "text": [
      "\n",
      "Blocks in Byte String Format:\n",
      "Block 1: b'This is a longer message that will require more than one 512-bit'\n",
      "Block 2: b' block, so we will need a function to break them down.\\x80\\x00\\x00\\x00\\x00\\x00\\x00\\x00\\x03\\xb0'\n"
     ]
    }
   ],
   "source": [
    "# Convert binary blocks to byte strings and print\n",
    "print(\"\\nBlocks in Byte String Format:\")\n",
    "for i, block in enumerate(blocks):\n",
    "    byte_array = bytearray()\n",
    "    for j in range(0, len(block), 8):\n",
    "        byte = block[j:j+8]\n",
    "        byte_array.append(int(byte, 2))\n",
    "    byte_string = bytes(byte_array)\n",
    "    print(f\"Block {i + 1}: {byte_string}\")"
   ]
  },
  {
   "cell_type": "markdown",
   "metadata": {},
   "source": [
    "#### What's bytestring format?\n",
    "\n",
    "Reasons to Use Byte Strings\n",
    "Standard Library Functions:\n",
    "\n",
    "- Many standard library functions and cryptographic operations expect data in byte string format. For example, the struct.unpack function used in the prepare_message_schedule function requires byte strings.\n",
    "Efficiency:\n",
    "\n",
    "- Byte strings are more memory-efficient and faster to process compared to binary strings. Each byte in a byte string represents 8 bits, whereas a binary string uses one character per bit.\n",
    "Compatibility:\n",
    "\n",
    "- Byte strings are the standard way to handle binary data in Python and other programming languages. This ensures compatibility with various libraries and tools."
   ]
  },
  {
   "cell_type": "markdown",
   "metadata": {},
   "source": [
    "`bytes()`"
   ]
  },
  {
   "cell_type": "code",
   "execution_count": 23,
   "metadata": {},
   "outputs": [
    {
     "name": "stdout",
     "output_type": "stream",
     "text": [
      "b'Hello'\n",
      "b'Hello'\n"
     ]
    }
   ],
   "source": [
    "# Creating a byte object\n",
    "byte_obj = b'Hello'\n",
    "print(byte_obj)  # Output: b'Hello'\n",
    "\n",
    "# Byte object from a list of integers\n",
    "byte_obj = bytes([72, 101, 108, 108, 111])\n",
    "print(byte_obj)  # Output: b'Hello'"
   ]
  },
  {
   "cell_type": "markdown",
   "metadata": {},
   "source": [
    "`struct`\n",
    "\n",
    "Sure, let's dive deeper into the struct module in Python and its usage.\n",
    "\n",
    "What is the struct Module?\n",
    "\n",
    "The struct module in Python provides functions to convert between Python values and C structs represented as Python bytes objects. This is useful for handling binary data stored in files or coming from network connections, among other things."
   ]
  },
  {
   "cell_type": "code",
   "execution_count": 32,
   "metadata": {},
   "outputs": [],
   "source": [
    "import struct"
   ]
  },
  {
   "cell_type": "markdown",
   "metadata": {},
   "source": [
    "`struct.pack(format, v1, v2, ...)`\n",
    "\n",
    "Packs the given values into a bytes object according to the specified format."
   ]
  },
  {
   "cell_type": "code",
   "execution_count": 11,
   "metadata": {},
   "outputs": [
    {
     "name": "stdout",
     "output_type": "stream",
     "text": [
      "b'He[\\x00'\n"
     ]
    }
   ],
   "source": [
    "import struct\n",
    "packed_data = struct.pack('>I', 1214601984)\n",
    "print(packed_data)  # Output: b'\\x48\\x69\\x21\\x80'"
   ]
  },
  {
   "cell_type": "code",
   "execution_count": 20,
   "metadata": {},
   "outputs": [
    {
     "name": "stdout",
     "output_type": "stream",
     "text": [
      "Packed data: b'Hi!\\x80}\\x00A@H\\xf5\\xc3'\n",
      "Packed data (hex): 48 69 21 80 7d 00 41 40 48 f5 c3\n",
      "Unpacked data: (1214849408, 32000, b'A', 3.140000104904175)\n"
     ]
    }
   ],
   "source": [
    "import struct\n",
    "\n",
    "# Define the values to be packed\n",
    "integer_value = 1214849408  # Unsigned 32-bit integer (0x48692180)\n",
    "short_value = 32000         # Signed 16-bit integer\n",
    "char_value = b'A'           # Single byte character\n",
    "float_value = 3.14          # 32-bit floating point\n",
    "\n",
    "# Define the format string\n",
    "format_string = '>Ihcf'\n",
    "\n",
    "# Pack the values into a bytes object\n",
    "packed_data = struct.pack(format_string, integer_value, short_value, char_value, float_value)\n",
    "\n",
    "# Print the packed data\n",
    "print(f\"Packed data: {packed_data}\")\n",
    "\n",
    "# Print each byte in the packed data as a hexadecimal value\n",
    "print(\"Packed data (hex):\", ' '.join(f'{byte:02x}' for byte in packed_data))\n",
    "\n",
    "# Unpack the data back into Python values\n",
    "unpacked_data = struct.unpack(format_string, packed_data)\n",
    "\n",
    "# Print the unpacked data\n",
    "print(f\"Unpacked data: {unpacked_data}\")"
   ]
  },
  {
   "cell_type": "code",
   "execution_count": null,
   "metadata": {},
   "outputs": [],
   "source": []
  },
  {
   "cell_type": "code",
   "execution_count": null,
   "metadata": {},
   "outputs": [],
   "source": []
  }
 ],
 "metadata": {
  "kernelspec": {
   "display_name": "Python 3",
   "language": "python",
   "name": "python3"
  },
  "language_info": {
   "codemirror_mode": {
    "name": "ipython",
    "version": 3
   },
   "file_extension": ".py",
   "mimetype": "text/x-python",
   "name": "python",
   "nbconvert_exporter": "python",
   "pygments_lexer": "ipython3",
   "version": "3.11.9"
  }
 },
 "nbformat": 4,
 "nbformat_minor": 2
}
