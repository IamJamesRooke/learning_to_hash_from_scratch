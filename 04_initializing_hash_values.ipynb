{
 "cells": [
  {
   "cell_type": "markdown",
   "metadata": {},
   "source": [
    "### Initialize Hash Values\n",
    "To begin the crytographic transformation of the message, we're going to need eight 'magic numbers': constants written in hexidecimal form that are simply part of the SHA-256 algorithm, designated `H[0]` to `H[7]`"
   ]
  },
  {
   "cell_type": "code",
   "execution_count": null,
   "metadata": {},
   "outputs": [],
   "source": [
    "H = [\n",
    "    0x6a09e667,\n",
    "    0xbb67ae85,\n",
    "    0x3c6ef372,\n",
    "    0xa54ff53a,\n",
    "    0x510e527f,\n",
    "    0x9b05688c,\n",
    "    0x1f83d9ab,\n",
    "    0x5be0cd19\n",
    "]"
   ]
  },
  {
   "cell_type": "markdown",
   "metadata": {},
   "source": [
    "### Where did these numbers come from?\n",
    "\n",
    "Let's get these hash values from first principles. First, the `H` values derive from prime numbers."
   ]
  },
  {
   "cell_type": "code",
   "execution_count": null,
   "metadata": {},
   "outputs": [],
   "source": [
    "H_prime = [2, 3, 5, 7, 11, 13, 17, 19]"
   ]
  },
  {
   "cell_type": "markdown",
   "metadata": {},
   "source": [
    "Then we need to do the following operations on each of the prime numbers:\n",
    "- calculate the square root `(2 ➡ 1.4142135623730951)`\n",
    "- extract the fractional part of the square root `(1.4142135623730951 ➡ 0.4142135623730951)`\n",
    "- multiply the fractional part by 2^32 to scale it up to a 32-bit integer `(0.4142135623730951 ➡ 1779033703.9520998)`\n",
    "- then convert it to an integer `(1779033703.9520998 ➡ 1779033703)`\n",
    "- then convert it to hexidecimal `(1779033703 ➡ 0x6a09e667)`\n",
    "\n",
    "calculate the square root. We're gonna need the `math` module for this."
   ]
  },
  {
   "cell_type": "code",
   "execution_count": null,
   "metadata": {},
   "outputs": [
    {
     "data": {
      "text/plain": [
       "['0x6a09e667',\n",
       " '0xbb67ae85',\n",
       " '0x3c6ef372',\n",
       " '0xa54ff53a',\n",
       " '0x510e527f',\n",
       " '0x9b05688c',\n",
       " '0x1f83d9ab',\n",
       " '0x5be0cd19']"
      ]
     },
     "metadata": {},
     "output_type": "display_data"
    }
   ],
   "source": [
    "import math\n",
    "\n",
    "def get_fractional_part_as_32bit_int(number):\n",
    "    \"\"\"\n",
    "    Calculate the 32-bit integer representation of the fractional part of the square root of a number.\n",
    "    \n",
    "    Args:\n",
    "    number (int): The number to calculate the square root of.\n",
    "    \n",
    "    Returns:\n",
    "    int: The 32-bit integer representation of the fractional part.\n",
    "    \"\"\"\n",
    "    # Calculate the square root of the number\n",
    "    sqrt_value = math.sqrt(number)\n",
    "    \n",
    "    # Extract the fractional part\n",
    "    fractional_part = sqrt_value - int(sqrt_value)\n",
    "    \n",
    "    # Multiply the fractional part by 2^32 and convert to integer\n",
    "    result = int(fractional_part * (2**32))\n",
    "    \n",
    "    return result\n",
    "\n",
    "# First eight prime numbers\n",
    "H_prime = [2, 3, 5, 7, 11, 13, 17, 19]\n",
    "\n",
    "# Calculate the fractional parts and convert to 32-bit integers\n",
    "H_fractional_part = [get_fractional_part_as_32bit_int(num) for num in H_prime]\n",
    "\n",
    "# Convert the results to hexadecimal format for readability\n",
    "H_fractional_part_hex = [hex(num) for num in H_fractional_part]\n",
    "\n",
    "# Print the results\n",
    "H_fractional_part_hex\n"
   ]
  },
  {
   "cell_type": "markdown",
   "metadata": {},
   "source": [
    "As we can see, these hex values are the same as the ones initialized at the beginning of the section."
   ]
  },
  {
   "cell_type": "code",
   "execution_count": null,
   "metadata": {},
   "outputs": [
    {
     "name": "stdout",
     "output_type": "stream",
     "text": [
      "THEY'RE THE SAME: True\n"
     ]
    }
   ],
   "source": [
    "Original_H_Values = [int(num) for num in H]\n",
    "Derived_H_Values = [int(hex_num, 16) for hex_num in H_fractional_part_hex]\n",
    "print(\"THEY'RE THE SAME:\", Original_H_Values == Derived_H_Values)"
   ]
  },
  {
   "cell_type": "code",
   "execution_count": null,
   "metadata": {},
   "outputs": [
    {
     "data": {
      "text/plain": [
       "True"
      ]
     },
     "metadata": {},
     "output_type": "display_data"
    }
   ],
   "source": [
    "H == H_fractional_part"
   ]
  }
 ],
 "metadata": {
  "language_info": {
   "name": "python"
  }
 },
 "nbformat": 4,
 "nbformat_minor": 2
}
