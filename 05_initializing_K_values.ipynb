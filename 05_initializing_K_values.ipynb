{
 "cells": [
  {
   "cell_type": "markdown",
   "metadata": {},
   "source": [
    "# The K Constants"
   ]
  },
  {
   "cell_type": "markdown",
   "metadata": {},
   "source": [
    "## Recap"
   ]
  },
  {
   "cell_type": "markdown",
   "metadata": {},
   "source": [
    "We learned about the H values, which are constants derived from prime numbers.\n",
    "\n",
    "2 ➡ sqrt(2) ➡ 0.41321312312312 ➡ Remove 0 ➡ 2 ^ 32 ➡ turn to integer ➡ turn to hex"
   ]
  },
  {
   "cell_type": "code",
   "execution_count": 6,
   "metadata": {},
   "outputs": [],
   "source": [
    "# Initial hash values\n",
    "H = [\n",
    "    0x6a09e667, 0xbb67ae85, 0x3c6ef372, 0xa54ff53a,\n",
    "    0x510e527f, 0x9b05688c, 0x1f83d9ab, 0x5be0cd19\n",
    "]"
   ]
  },
  {
   "cell_type": "code",
   "execution_count": 9,
   "metadata": {},
   "outputs": [
    {
     "data": {
      "text/plain": [
       "'6a09e667bb67ae853c6ef372a54ff53a510e527f9b05688c1f83d9ab5be0cd19'"
      ]
     },
     "execution_count": 9,
     "metadata": {},
     "output_type": "execute_result"
    }
   ],
   "source": [
    "\"\".join(hex(hash)[2:] for hash in H)"
   ]
  },
  {
   "cell_type": "markdown",
   "metadata": {},
   "source": [
    "## K Values\n",
    "\n",
    "Here are some other magic numbers we're going to need. They're just part of the algorithm, and that's it. We're going to see how they are used later on. For now, we're going to see where these numbers came from."
   ]
  },
  {
   "cell_type": "code",
   "execution_count": 1,
   "metadata": {},
   "outputs": [],
   "source": [
    "# Constants for SHA-256\n",
    "K = [\n",
    "    0x428a2f98, 0x71374491, 0xb5c0fbcf, 0xe9b5dba5, 0x3956c25b, 0x59f111f1, 0x923f82a4, 0xab1c5ed5,\n",
    "    0xd807aa98, 0x12835b01, 0x243185be, 0x550c7dc3, 0x72be5d74, 0x80deb1fe, 0x9bdc06a7, 0xc19bf174,\n",
    "    0xe49b69c1, 0xefbe4786, 0x0fc19dc6, 0x240ca1cc, 0x2de92c6f, 0x4a7484aa, 0x5cb0a9dc, 0x76f988da,\n",
    "    0x983e5152, 0xa831c66d, 0xb00327c8, 0xbf597fc7, 0xc6e00bf3, 0xd5a79147, 0x06ca6351, 0x14292967,\n",
    "    0x27b70a85, 0x2e1b2138, 0x4d2c6dfc, 0x53380d13, 0x650a7354, 0x766a0abb, 0x81c2c92e, 0x92722c85,\n",
    "    0xa2bfe8a1, 0xa81a664b, 0xc24b8b70, 0xc76c51a3, 0xd192e819, 0xd6990624, 0xf40e3585, 0x106aa070,\n",
    "    0x19a4c116, 0x1e376c08, 0x2748774c, 0x34b0bcb5, 0x391c0cb3, 0x4ed8aa4a, 0x5b9cca4f, 0x682e6ff3,\n",
    "    0x748f82ee, 0x78a5636f, 0x84c87814, 0x8cc70208, 0x90befffa, 0xa4506ceb, 0xbef9a3f7, 0xc67178f2\n",
    "]"
   ]
  },
  {
   "cell_type": "markdown",
   "metadata": {},
   "source": [
    "#### What are the K Values?\n",
    "\n",
    "The K values in the SHA-256 algorithm are a set of 64 constant 32-bit words==. These constants are used in each of the 64 rounds of the SHA-256 compression function. They play a crucial role in ensuring the security and integrity of the hash function."
   ]
  },
  {
   "cell_type": "code",
   "execution_count": 11,
   "metadata": {},
   "outputs": [
    {
     "data": {
      "text/plain": [
       "['0x428a2f98',\n",
       " '0x71374491',\n",
       " '0xb5c0fbcf',\n",
       " '0xe9b5dba5',\n",
       " '0x3956c25b',\n",
       " '0x59f111f1',\n",
       " '0x923f82a4']"
      ]
     },
     "execution_count": 11,
     "metadata": {},
     "output_type": "execute_result"
    }
   ],
   "source": [
    "import math\n",
    "\n",
    "def get_fractional_part_as_32bit_int(number):\n",
    "    \"\"\"\n",
    "    Calculate the 32-bit integer representation of the fractional part of the cube root of a number.\n",
    "    \n",
    "    Args:\n",
    "    number (int): The number to calculate the cube root of.\n",
    "    \n",
    "    Returns:\n",
    "    int: The 32-bit integer representation of the fractional part.\n",
    "    \"\"\"\n",
    "    # Calculate the cube root of the number\n",
    "    cube_root_value = number ** (1/3)\n",
    "    \n",
    "    # Extract the fractional part\n",
    "    fractional_part = cube_root_value - int(cube_root_value)\n",
    "    \n",
    "    # Multiply the fractional part by 2^32 and convert to integer\n",
    "    result = int(fractional_part * (2**32))\n",
    "    \n",
    "    return result\n",
    "\n",
    "# First 64 prime numbers\n",
    "prime_numbers = [\n",
    "    2, 3, 5, 7, 11, 13, 17, 19, 23, 29, 31, 37, 41, 43, 47, 53,\n",
    "    59, 61, 67, 71, 73, 79, 83, 89, 97, 101, 103, 107, 109, 113, 127, 131,\n",
    "    137, 139, 149, 151, 157, 163, 167, 173, 179, 181, 191, 193, 197, 199, 211, 223,\n",
    "    227, 229, 233, 239, 241, 251, 257, 263, 269, 271, 277, 281, 283, 293, 307, 311\n",
    "]\n",
    "\n",
    "# Calculate the K values\n",
    "K = [get_fractional_part_as_32bit_int(prime) for prime in prime_numbers]\n",
    "\n",
    "# Convert the results to hexadecimal format for readability\n",
    "K_hex = [hex(value) for value in K]\n",
    "\n",
    "# Print the results\n",
    "K_hex[0:7]"
   ]
  },
  {
   "cell_type": "markdown",
   "metadata": {},
   "source": [
    "First we have our first 64 prime numbers."
   ]
  },
  {
   "cell_type": "code",
   "execution_count": 12,
   "metadata": {},
   "outputs": [],
   "source": [
    "prime_numbers = [\n",
    "    2, 3, 5, 7, 11, 13, 17, 19, 23, 29, 31, 37, 41, 43, 47, 53,\n",
    "    59, 61, 67, 71, 73, 79, 83, 89, 97, 101, 103, 107, 109, 113, 127, 131,\n",
    "    137, 139, 149, 151, 157, 163, 167, 173, 179, 181, 191, 193, 197, 199, 211, 223,\n",
    "    227, 229, 233, 239, 241, 251, 257, 263, 269, 271, 277, 281, 283, 293, 307, 311\n",
    "]"
   ]
  },
  {
   "cell_type": "markdown",
   "metadata": {},
   "source": [
    "Let's work with 2 as an example.\n",
    "\n",
    "First, we need the cubic root."
   ]
  },
  {
   "cell_type": "code",
   "execution_count": 16,
   "metadata": {},
   "outputs": [
    {
     "data": {
      "text/plain": [
       "1.2599210498948732"
      ]
     },
     "execution_count": 16,
     "metadata": {},
     "output_type": "execute_result"
    }
   ],
   "source": [
    "cubic_root = 2 ** (1/3)\n",
    "cubic_root"
   ]
  },
  {
   "cell_type": "markdown",
   "metadata": {},
   "source": [
    "Then we get the fractional bit."
   ]
  },
  {
   "cell_type": "code",
   "execution_count": 18,
   "metadata": {},
   "outputs": [
    {
     "data": {
      "text/plain": [
       "0.2599210498948732"
      ]
     },
     "execution_count": 18,
     "metadata": {},
     "output_type": "execute_result"
    }
   ],
   "source": [
    "fractional_part = cubic_root - int(cubic_root)\n",
    "fractional_part"
   ]
  },
  {
   "cell_type": "markdown",
   "metadata": {},
   "source": [
    "Then we scale the fractional part, multiplying it by $2^{32}$"
   ]
  },
  {
   "cell_type": "code",
   "execution_count": 23,
   "metadata": {},
   "outputs": [
    {
     "data": {
      "text/plain": [
       "1116352408.8404646"
      ]
     },
     "execution_count": 23,
     "metadata": {},
     "output_type": "execute_result"
    }
   ],
   "source": [
    "fractional_part_scaled = fractional_part * (2**32)\n",
    "fractional_part_scaled"
   ]
  },
  {
   "cell_type": "markdown",
   "metadata": {},
   "source": [
    "We convert it to an integer."
   ]
  },
  {
   "cell_type": "code",
   "execution_count": 26,
   "metadata": {},
   "outputs": [
    {
     "data": {
      "text/plain": [
       "1116352408"
      ]
     },
     "execution_count": 26,
     "metadata": {},
     "output_type": "execute_result"
    }
   ],
   "source": [
    "fractional_part_as_32bit_int = int(fractional_part_scaled)\n",
    "fractional_part_as_32bit_int"
   ]
  },
  {
   "cell_type": "markdown",
   "metadata": {},
   "source": [
    "Then we convert to hex."
   ]
  },
  {
   "cell_type": "code",
   "execution_count": 28,
   "metadata": {},
   "outputs": [
    {
     "data": {
      "text/plain": [
       "'0x428a2f98'"
      ]
     },
     "execution_count": 28,
     "metadata": {},
     "output_type": "execute_result"
    }
   ],
   "source": [
    "K_value = hex(fractional_part_as_32bit_int)\n",
    "K_value"
   ]
  },
  {
   "cell_type": "markdown",
   "metadata": {},
   "source": [
    "And it should be the exact same as the first value."
   ]
  },
  {
   "cell_type": "code",
   "execution_count": 33,
   "metadata": {},
   "outputs": [
    {
     "name": "stdout",
     "output_type": "stream",
     "text": [
      "0x428a2f98 == 0x428a2f98: True\n"
     ]
    }
   ],
   "source": [
    "print(f\"{hex(K[0])} == {K_value}: {hex(K[0]) == K_value}\")"
   ]
  },
  {
   "cell_type": "markdown",
   "metadata": {},
   "source": [
    "### Generating the K Constants"
   ]
  },
  {
   "cell_type": "markdown",
   "metadata": {},
   "source": [
    "Now that we know how an individual K value is derived, let's produce the 64 we need for the SHA-256."
   ]
  },
  {
   "cell_type": "code",
   "execution_count": null,
   "metadata": {},
   "outputs": [],
   "source": []
  },
  {
   "cell_type": "markdown",
   "metadata": {},
   "source": [
    "First, a function to make the list printing a little prettier."
   ]
  },
  {
   "cell_type": "code",
   "execution_count": 51,
   "metadata": {},
   "outputs": [],
   "source": [
    "def print_list_in_rows(lst, row_length):\n",
    "    \"\"\"\n",
    "    Prints the elements of a list in rows of a specified length.\n",
    "\n",
    "    Args:\n",
    "        lst (list): The list of elements to be printed.\n",
    "        row_length (int): The number of elements to be printed in each row.\n",
    "\n",
    "    Returns:\n",
    "        None\n",
    "    \"\"\"\n",
    "    for i in range(0, len(lst), row_length):\n",
    "        print(\", \".join(map(str, lst[i:i+row_length])))"
   ]
  },
  {
   "cell_type": "markdown",
   "metadata": {},
   "source": [
    "Starting with the first 64 Prime Numbers"
   ]
  },
  {
   "cell_type": "code",
   "execution_count": 55,
   "metadata": {},
   "outputs": [
    {
     "name": "stdout",
     "output_type": "stream",
     "text": [
      "2, 3, 5, 7\n",
      "11, 13, 17, 19\n",
      "23, 29, 31, 37\n",
      "41, 43, 47, 53\n",
      "59, 61, 67, 71\n",
      "73, 79, 83, 89\n",
      "97, 101, 103, 107\n",
      "109, 113, 127, 131\n",
      "137, 139, 149, 151\n",
      "157, 163, 167, 173\n",
      "179, 181, 191, 193\n",
      "197, 199, 211, 223\n",
      "227, 229, 233, 239\n",
      "241, 251, 257, 263\n",
      "269, 271, 277, 281\n",
      "283, 293, 307, 311\n"
     ]
    }
   ],
   "source": [
    "K_Primes = [2, 3, 5, 7, 11, 13, 17, 19, 23, 29, 31, 37, 41, 43, 47, 53,\n",
    " 59, 61, 67, 71, 73, 79, 83, 89, 97, 101, 103, 107, 109, 113, 127, 131,\n",
    " 137, 139, 149, 151, 157, 163, 167, 173, 179, 181, 191, 193, 197, 199, 211, 223,\n",
    " 227, 229, 233, 239, 241, 251, 257, 263, 269, 271, 277, 281, 283, 293, 307, 311]\n",
    "\n",
    "print_list_in_rows(K_Primes, row_length=4)"
   ]
  },
  {
   "cell_type": "markdown",
   "metadata": {},
   "source": [
    "Get the cubic roots of each."
   ]
  },
  {
   "cell_type": "code",
   "execution_count": 59,
   "metadata": {},
   "outputs": [
    {
     "name": "stdout",
     "output_type": "stream",
     "text": [
      "1.2599210498948732, 1.4422495703074083, 1.7099759466766968, 1.912931182772389\n",
      "2.2239800905693152, 2.3513346877207573, 2.571281590658235, 2.668401648721945\n",
      "2.8438669798515654, 3.072316825685847, 3.1413806523913927, 3.332221851645953\n",
      "3.4482172403827303, 3.503398060386724, 3.6088260801386944, 3.756285754221072\n",
      "3.8929964158732604, 3.9364971831021727, 4.0615481004456795, 4.140817749422853\n",
      "4.179339196381232, 4.290840427026207, 4.362070671454838, 4.464745095584537\n",
      "4.594700892207039, 4.657009507803835, 4.687548147653597, 4.7474593985234\n",
      "4.776856181035017, 4.834588127111639, 5.026525695313479, 5.0787530781327\n",
      "5.155136735475772, 5.180101467380292, 5.301459192380904, 5.325074021614986\n",
      "5.394690712109591, 5.462555571281397, 5.506878446387352, 5.5720546555426225\n",
      "5.635740794544236, 5.65665282582291, 5.758965220492401, 5.778996565152129\n",
      "5.818647867496961, 5.838272460814002, 5.953341813139051, 6.064126994506963\n",
      "6.100170200393062, 6.11803317263662, 6.153449493663682, 6.205821794895751\n",
      "6.223084253206058, 6.307993548663267, 6.3578611797342, 6.4069585771855575\n",
      "6.455314810938885, 6.471273626960365, 6.518683915173769, 6.549911620119374\n",
      "6.565414427346138, 6.6418521953442085, 6.745996711705424, 6.775168952273312\n"
     ]
    }
   ],
   "source": [
    "K_Cubic_Roots = [prime ** (1/3) for prime in K_Primes]\n",
    "print_list_in_rows(K_Cubic_Roots, row_length=4)"
   ]
  },
  {
   "cell_type": "markdown",
   "metadata": {},
   "source": [
    "Remove the integer to get the fractional parts."
   ]
  },
  {
   "cell_type": "code",
   "execution_count": 60,
   "metadata": {},
   "outputs": [
    {
     "name": "stdout",
     "output_type": "stream",
     "text": [
      "0.2599210498948732, 0.4422495703074083, 0.7099759466766968, 0.9129311827723889\n",
      "0.22398009056931523, 0.35133468772075727, 0.5712815906582351, 0.6684016487219449\n",
      "0.8438669798515654, 0.07231682568584707, 0.14138065239139275, 0.33222185164595297\n",
      "0.44821724038273025, 0.5033980603867239, 0.6088260801386944, 0.7562857542210719\n",
      "0.8929964158732604, 0.9364971831021727, 0.06154810044567949, 0.14081774942285286\n",
      "0.17933919638123186, 0.2908404270262066, 0.3620706714548376, 0.46474509558453736\n",
      "0.5947008922070394, 0.6570095078038349, 0.6875481476535974, 0.7474593985234002\n",
      "0.7768561810350167, 0.8345881271116387, 0.026525695313479147, 0.07875307813270016\n",
      "0.15513673547577156, 0.1801014673802923, 0.3014591923809036, 0.3250740216149861\n",
      "0.3946907121095906, 0.46255557128139735, 0.5068784463873524, 0.5720546555426225\n",
      "0.6357407945442359, 0.6566528258229098, 0.7589652204924011, 0.7789965651521289\n",
      "0.8186478674969608, 0.838272460814002, 0.9533418131390512, 0.06412699450696291\n",
      "0.10017020039306157, 0.11803317263662017, 0.15344949366368166, 0.20582179489575125\n",
      "0.22308425320605796, 0.30799354866326656, 0.35786117973419973, 0.4069585771855575\n",
      "0.4553148109388854, 0.47127362696036457, 0.518683915173769, 0.5499116201193743\n",
      "0.5654144273461377, 0.6418521953442085, 0.7459967117054243, 0.7751689522733116\n"
     ]
    }
   ],
   "source": [
    "K_Fractional_Parts = [cubic_root - int(cubic_root) for cubic_root in K_Cubic_Roots]\n",
    "print_list_in_rows(K_Fractional_Parts, row_length=4)"
   ]
  },
  {
   "cell_type": "markdown",
   "metadata": {},
   "source": [
    "Scale them all up by $2^{32}$"
   ]
  },
  {
   "cell_type": "code",
   "execution_count": 61,
   "metadata": {},
   "outputs": [
    {
     "name": "stdout",
     "output_type": "stream",
     "text": [
      "1116352408.8404646, 1899447441.1403713, 3049323471.923053, 3921009573.506009\n",
      "961987163.9503269, 1508970993.7110252, 2453635748.683979, 2870763221.8532333\n",
      "3624381080.6367645, 310598401.27124596, 607225278.308176, 1426881987.8359318\n",
      "1925078388.947197, 2162078206.230812, 2614888103.1475677, 3248222580.810198\n",
      "3835390401.6208687, 4022224774.2199554, 264347078.54511642, 604807628.4674759\n",
      "770255983.3483124, 1249150122.432232, 1555081692.7392883, 1996064986.511982\n",
      "2554220882.9312553, 2821834349.178528, 2952996808.59758, 3210313671.7458344\n",
      "3336571891.2408524, 3584528711.574379, 113926993.8750534, 338241895.03927994\n",
      "666307205.2766418, 773529912.3599663, 1294757372.3545532, 1396182291.6155624\n",
      "1695183700.5456429, 1986661051.2361984, 2177026350.2809677, 2456956037.0801086\n",
      "2730485921.3005486, 2820302411.735382, 3259730800.816292, 3345764771.024727\n",
      "3516065817.839588, 3600352804.33358, 4094571909.341568, 275423344.19817734\n",
      "430227734.7219658, 506948616.3174057, 659060556.873272, 883997877.8812714\n",
      "958139571.7726021, 1322822218.8877144, 1537002063.4663658, 1747873779.8386612\n",
      "1955562222.3669357, 2024104815.2620697, 2227730452.632576, 2361852424.1030884\n",
      "2428436474.1382294, 2756734187.869179, 3204031479.6983376, 3329325298.8884583\n"
     ]
    }
   ],
   "source": [
    "K_Fractional_Parts_Scaled = [fractional_part * (2**32) for fractional_part in K_Fractional_Parts]\n",
    "print_list_in_rows(K_Fractional_Parts_Scaled, row_length=4)"
   ]
  },
  {
   "cell_type": "markdown",
   "metadata": {},
   "source": [
    "Convert them all to integers.\n",
    "\n",
    "**NOTE:** The `int()` function neither rounds up or down, but rather truncates the number, chopping off everything to the right of the decimal place."
   ]
  },
  {
   "cell_type": "code",
   "execution_count": 62,
   "metadata": {},
   "outputs": [
    {
     "name": "stdout",
     "output_type": "stream",
     "text": [
      "1116352408, 1899447441, 3049323471, 3921009573\n",
      "961987163, 1508970993, 2453635748, 2870763221\n",
      "3624381080, 310598401, 607225278, 1426881987\n",
      "1925078388, 2162078206, 2614888103, 3248222580\n",
      "3835390401, 4022224774, 264347078, 604807628\n",
      "770255983, 1249150122, 1555081692, 1996064986\n",
      "2554220882, 2821834349, 2952996808, 3210313671\n",
      "3336571891, 3584528711, 113926993, 338241895\n",
      "666307205, 773529912, 1294757372, 1396182291\n",
      "1695183700, 1986661051, 2177026350, 2456956037\n",
      "2730485921, 2820302411, 3259730800, 3345764771\n",
      "3516065817, 3600352804, 4094571909, 275423344\n",
      "430227734, 506948616, 659060556, 883997877\n",
      "958139571, 1322822218, 1537002063, 1747873779\n",
      "1955562222, 2024104815, 2227730452, 2361852424\n",
      "2428436474, 2756734187, 3204031479, 3329325298\n"
     ]
    }
   ],
   "source": [
    "K_32bit_Ints = [int(fractional_part_scaled) for fractional_part_scaled in K_Fractional_Parts_Scaled]\n",
    "print_list_in_rows(K_32bit_Ints, row_length=4)"
   ]
  },
  {
   "cell_type": "markdown",
   "metadata": {},
   "source": [
    "Then we can convert them to Hex."
   ]
  },
  {
   "cell_type": "code",
   "execution_count": 74,
   "metadata": {},
   "outputs": [
    {
     "name": "stdout",
     "output_type": "stream",
     "text": [
      "0x428a2f98, 0x71374491, 0xb5c0fbcf, 0xe9b5dba5, 0x3956c25b, 0x59f111f1, 0x923f82a4, 0xab1c5ed5\n",
      "0xd807aa98, 0x12835b01, 0x243185be, 0x550c7dc3, 0x72be5d74, 0x80deb1fe, 0x9bdc06a7, 0xc19bf174\n",
      "0xe49b69c1, 0xefbe4786, 0xfc19dc6, 0x240ca1cc, 0x2de92c6f, 0x4a7484aa, 0x5cb0a9dc, 0x76f988da\n",
      "0x983e5152, 0xa831c66d, 0xb00327c8, 0xbf597fc7, 0xc6e00bf3, 0xd5a79147, 0x6ca6351, 0x14292967\n",
      "0x27b70a85, 0x2e1b2138, 0x4d2c6dfc, 0x53380d13, 0x650a7354, 0x766a0abb, 0x81c2c92e, 0x92722c85\n",
      "0xa2bfe8a1, 0xa81a664b, 0xc24b8b70, 0xc76c51a3, 0xd192e819, 0xd6990624, 0xf40e3585, 0x106aa070\n",
      "0x19a4c116, 0x1e376c08, 0x2748774c, 0x34b0bcb5, 0x391c0cb3, 0x4ed8aa4a, 0x5b9cca4f, 0x682e6ff3\n",
      "0x748f82ee, 0x78a5636f, 0x84c87814, 0x8cc70208, 0x90befffa, 0xa4506ceb, 0xbef9a3f7, 0xc67178f2\n"
     ]
    }
   ],
   "source": [
    "K_Hex = [hex(value) for value in K_32bit_Ints]\n",
    "print_list_in_rows(K_Hex, row_length=8)"
   ]
  },
  {
   "cell_type": "markdown",
   "metadata": {},
   "source": [
    "###### Verification\n",
    "\n",
    "And if we convert those integers into hexidecimal format, we can see that they are exactly the same as the initial K value constants of the SHA-256 algorithm."
   ]
  },
  {
   "cell_type": "code",
   "execution_count": 72,
   "metadata": {},
   "outputs": [
    {
     "name": "stdout",
     "output_type": "stream",
     "text": [
      "K VALUES FROM SHA-256 DOCUMENTATION:\n",
      "0x428a2f98, 0x71374491, 0xb5c0fbcf, 0xe9b5dba5, 0x3956c25b, 0x59f111f1, 0x923f82a4, 0xab1c5ed5\n",
      "0xd807aa98, 0x12835b01, 0x243185be, 0x550c7dc3, 0x72be5d74, 0x80deb1fe, 0x9bdc06a7, 0xc19bf174\n",
      "0xe49b69c1, 0xefbe4786, 0xfc19dc6, 0x240ca1cc, 0x2de92c6f, 0x4a7484aa, 0x5cb0a9dc, 0x76f988da\n",
      "0x983e5152, 0xa831c66d, 0xb00327c8, 0xbf597fc7, 0xc6e00bf3, 0xd5a79147, 0x6ca6351, 0x14292967\n",
      "0x27b70a85, 0x2e1b2138, 0x4d2c6dfc, 0x53380d13, 0x650a7354, 0x766a0abb, 0x81c2c92e, 0x92722c85\n",
      "0xa2bfe8a1, 0xa81a664b, 0xc24b8b70, 0xc76c51a3, 0xd192e819, 0xd6990624, 0xf40e3585, 0x106aa070\n",
      "0x19a4c116, 0x1e376c08, 0x2748774c, 0x34b0bcb5, 0x391c0cb3, 0x4ed8aa4a, 0x5b9cca4f, 0x682e6ff3\n",
      "0x748f82ee, 0x78a5636f, 0x84c87814, 0x8cc70208, 0x90befffa, 0xa4506ceb, 0xbef9a3f7, 0xc67178f2\n",
      "\n",
      "OUR OWN K VALUES DERIVED FROM PRIME NUMBERS:\n",
      "0x428a2f98, 0x71374491, 0xb5c0fbcf, 0xe9b5dba5, 0x3956c25b, 0x59f111f1, 0x923f82a4, 0xab1c5ed5\n",
      "0xd807aa98, 0x12835b01, 0x243185be, 0x550c7dc3, 0x72be5d74, 0x80deb1fe, 0x9bdc06a7, 0xc19bf174\n",
      "0xe49b69c1, 0xefbe4786, 0xfc19dc6, 0x240ca1cc, 0x2de92c6f, 0x4a7484aa, 0x5cb0a9dc, 0x76f988da\n",
      "0x983e5152, 0xa831c66d, 0xb00327c8, 0xbf597fc7, 0xc6e00bf3, 0xd5a79147, 0x6ca6351, 0x14292967\n",
      "0x27b70a85, 0x2e1b2138, 0x4d2c6dfc, 0x53380d13, 0x650a7354, 0x766a0abb, 0x81c2c92e, 0x92722c85\n",
      "0xa2bfe8a1, 0xa81a664b, 0xc24b8b70, 0xc76c51a3, 0xd192e819, 0xd6990624, 0xf40e3585, 0x106aa070\n",
      "0x19a4c116, 0x1e376c08, 0x2748774c, 0x34b0bcb5, 0x391c0cb3, 0x4ed8aa4a, 0x5b9cca4f, 0x682e6ff3\n",
      "0x748f82ee, 0x78a5636f, 0x84c87814, 0x8cc70208, 0x90befffa, 0xa4506ceb, 0xbef9a3f7, 0xc67178f2\n",
      "\n",
      "All elements in K are equal to their corresponding elements in K_hex: True\n"
     ]
    }
   ],
   "source": [
    "print(\"K values from SHA-256 documentation:\".upper())\n",
    "print_list_in_rows(K_Hex, row_length=8)\n",
    "\n",
    "print(\"\\nOur own K values derived from Prime Numbers:\".upper())\n",
    "print_list_in_rows(K_Hex, row_length=8)\n",
    "\n",
    "# Compare each element in K with the corresponding element in K_hex\n",
    "comparison_results = [hex(K[i]) == K_hex[i] for i in range(len(K))]\n",
    "\n",
    "# Print the comparison results\n",
    "all_equal = all(comparison_results)\n",
    "print(f\"\\nAll elements in K are equal to their corresponding elements in K_hex: {all_equal}\")"
   ]
  }
 ],
 "metadata": {
  "kernelspec": {
   "display_name": "Python 3",
   "language": "python",
   "name": "python3"
  },
  "language_info": {
   "codemirror_mode": {
    "name": "ipython",
    "version": 3
   },
   "file_extension": ".py",
   "mimetype": "text/x-python",
   "name": "python",
   "nbconvert_exporter": "python",
   "pygments_lexer": "ipython3",
   "version": "3.11.9"
  }
 },
 "nbformat": 4,
 "nbformat_minor": 2
}
