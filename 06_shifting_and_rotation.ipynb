{
 "cells": [
  {
   "cell_type": "markdown",
   "metadata": {},
   "source": [
    "### Step 3.2: Prepare the Message Schedule"
   ]
  },
  {
   "cell_type": "markdown",
   "metadata": {},
   "source": [
    "**Bit Shifting and Rotation Explained**\n",
    "\n",
    "SHA-256 requires us to understand two operations: *bit shifting* and *bit rotating*.\n",
    "\n",
    "Here is the 32-bit representation of 9 (`1001`):\n",
    "\n",
    "`00000000000000000000000000001001`\n",
    "\n",
    "A **RIGHT SHIFT** of 3 means the bits are pushed three places to the right, with the tail `001` being knocked off. Zeros are filled in on the left:\n",
    "\n",
    "`00000000000000000000000000000001`\n",
    "\n",
    "However, a **RIGHT ROTATE** of 3 results in the tail `001` being reintroduced on the left-hand side:\n",
    "\n",
    "`00100000000000000000000000000010`\n",
    "\n",
    "This reintroduces the bits that were shifted out on the right back to the left."
   ]
  },
  {
   "cell_type": "markdown",
   "metadata": {},
   "source": [
    "`visualize_shift_and_rotate()`\n",
    "\n",
    "\n",
    "Play with this function to see the difference between shift and rotate using different values."
   ]
  },
  {
   "cell_type": "code",
   "execution_count": null,
   "metadata": {},
   "outputs": [
    {
     "name": "stdout",
     "output_type": "stream",
     "text": [
      "Original value: 00000000000000000000000001100100\n",
      "Right shift by 3: 00000000000000000000000000001100\n",
      "Right rotate by 3: 10000000000000000000000000001100\n"
     ]
    }
   ],
   "source": [
    "def to_binary_str(value):\n",
    "    \"\"\"Convert an integer to a 32-bit binary string.\"\"\"\n",
    "    return f\"{value:032b}\"\n",
    "\n",
    "def right_shift(value, shift):\n",
    "    \"\"\"Right shift a 32-bit integer value by shift bits.\"\"\"\n",
    "    return value >> shift\n",
    "\n",
    "def right_rotate(value, shift):\n",
    "    \"\"\"Right rotate a 32-bit integer value by shift bits.\"\"\"\n",
    "    return (value >> shift) | (value << (32 - shift)) & 0xFFFFFFFF\n",
    "\n",
    "def visualize_shift_and_rotate(value, shift):\n",
    "    print(f\"Original value: {to_binary_str(value)}\")\n",
    "    \n",
    "    shifted_value = right_shift(value, shift)\n",
    "    print(f\"Right shift by {shift}: {to_binary_str(shifted_value)}\")\n",
    "    \n",
    "    rotated_value = right_rotate(value, shift)\n",
    "    print(f\"Right rotate by {shift}: {to_binary_str(rotated_value)}\")\n",
    "\n",
    "# Example usage\n",
    "value = 100  # 00000000000000000000000000000100\n",
    "rotation = 3\n",
    "\n",
    "visualize_shift_and_rotate(value, rotation)"
   ]
  },
  {
   "cell_type": "markdown",
   "metadata": {},
   "source": [
    "## `rightrotate()`\n",
    "\n",
    "Problem is that there is a shifting operator, but there is no rotating operator. So we have to create one from scratch and use a combination of Bitwise OR (|) Bitwise AND (&), and masks to produce the same effect."
   ]
  },
  {
   "cell_type": "markdown",
   "metadata": {},
   "source": [
    "##### Decimal to Binary\n",
    "To display integers in binary, we use an `f-string`."
   ]
  },
  {
   "cell_type": "code",
   "execution_count": null,
   "metadata": {},
   "outputs": [
    {
     "name": "stdout",
     "output_type": "stream",
     "text": [
      "00: 00000000\n",
      "01: 00000001\n",
      "02: 00000010\n",
      "03: 00000011\n",
      "04: 00000100\n",
      "05: 00000101\n",
      "06: 00000110\n",
      "07: 00000111\n",
      "08: 00001000\n",
      "09: 00001001\n",
      "10: 00001010\n"
     ]
    }
   ],
   "source": [
    "for i in range(0, 11):\n",
    "    print(f\"{i:02d}: {i:08b}\")"
   ]
  },
  {
   "cell_type": "markdown",
   "metadata": {},
   "source": [
    "##### Shifting Bits with `<<` and `>>`\n",
    "\n",
    " We shift the bits left or right with the `<<` and `>>` operators.\n",
    "\n",
    "Here we shift all the numbers 1 bit to the right."
   ]
  },
  {
   "cell_type": "code",
   "execution_count": null,
   "metadata": {},
   "outputs": [
    {
     "name": "stdout",
     "output_type": "stream",
     "text": [
      " 0: 00000000 ⇒ 0: 00000000\n",
      " 1: 00000001 ⇒ 0: 00000000\n",
      " 2: 00000010 ⇒ 1: 00000001\n",
      " 3: 00000011 ⇒ 1: 00000001\n",
      " 4: 00000100 ⇒ 2: 00000010\n",
      " 5: 00000101 ⇒ 2: 00000010\n",
      " 6: 00000110 ⇒ 3: 00000011\n",
      " 7: 00000111 ⇒ 3: 00000011\n",
      " 8: 00001000 ⇒ 4: 00000100\n",
      " 9: 00001001 ⇒ 4: 00000100\n",
      "10: 00001010 ⇒ 5: 00000101\n"
     ]
    }
   ],
   "source": [
    "shift = 1\n",
    "\n",
    "for i in range(0, 11):\n",
    "    print(f\"{i:2}: {i:08b} ⇒ {i >> shift}: {i >> shift:08b}\")"
   ]
  },
  {
   "cell_type": "markdown",
   "metadata": {},
   "source": [
    "And here we shift all bits two to the left."
   ]
  },
  {
   "cell_type": "code",
   "execution_count": null,
   "metadata": {},
   "outputs": [
    {
     "name": "stdout",
     "output_type": "stream",
     "text": [
      " 0: 00000000 ⇒ 0: 00000000\n",
      " 1: 00000001 ⇒ 4: 00000100\n",
      " 2: 00000010 ⇒ 8: 00001000\n",
      " 3: 00000011 ⇒ 12: 00001100\n",
      " 4: 00000100 ⇒ 16: 00010000\n",
      " 5: 00000101 ⇒ 20: 00010100\n",
      " 6: 00000110 ⇒ 24: 00011000\n",
      " 7: 00000111 ⇒ 28: 00011100\n",
      " 8: 00001000 ⇒ 32: 00100000\n",
      " 9: 00001001 ⇒ 36: 00100100\n",
      "10: 00001010 ⇒ 40: 00101000\n"
     ]
    }
   ],
   "source": [
    "shift = 2\n",
    "\n",
    "for i in range(0, 11):\n",
    "    print(f\"{i:2}: {i:08b} ⇒ {i << shift}: {i << shift:08b}\")"
   ]
  },
  {
   "cell_type": "markdown",
   "metadata": {},
   "source": [
    "##### The Bitwise OR Operation (`|`)\n",
    "\n",
    "The bitwise OR operation compares each bit of two numbers and returns a new number where each bit is set to `1` if at least one of the corresponding bits of the operands is `1`. If both bits are `0`, the resulting bit is `0`.\n",
    "\n",
    "**Example**\n",
    "\n",
    "Consider two 4-bit numbers:\n",
    "\n"
   ]
  },
  {
   "cell_type": "markdown",
   "metadata": {},
   "source": [
    "Sure! Here is your markdown with improved formatting:\n",
    "\n",
    "##### The Bitwise OR Operation (`|`)\n",
    "\n",
    "The bitwise OR operation compares each bit of two numbers and returns a new number where each bit is set to `1` if at least one of the corresponding bits of the operands is `1`. If both bits are `0`, the resulting bit is `0`.\n",
    "\n",
    "**Example**\n",
    "\n",
    "Consider two 4-bit numbers:\n",
    "\n",
    "| 1010  (binary for 10)\n",
    "| 1100  (binary for 12)\n",
    "----------\n",
    "|  1110  (binary for 14)\n",
    "\n",
    "Here's how it works bit by bit:\n",
    "\n",
    "- `1 OR 1 = 1`\n",
    "- `0 OR 1 = 1`\n",
    "- `1 OR 0 = 1`\n",
    "- `0 OR 0 = 0`\n",
    "\n",
    "This example demonstrates how the bitwise OR operation combines the bits of the two numbers."
   ]
  },
  {
   "cell_type": "markdown",
   "metadata": {},
   "source": [
    "4 Bit Version"
   ]
  },
  {
   "cell_type": "code",
   "execution_count": null,
   "metadata": {},
   "outputs": [
    {
     "name": "stdout",
     "output_type": "stream",
     "text": [
      "Original value (BIN): \n",
      "00001001 (9)\n",
      "Right Shift by 3 (BIN): \n",
      "00000001 (1)\n",
      "Left Shift by 5 (BIN): \n",
      "00100000 (32)\n",
      "Left and Right Shift Combined with Bitwise OR (|):\n",
      "00100001 (33)\n",
      "Mask (BIN): \n",
      "11111111\n",
      "Masked Result (BIN): \n",
      "00100001 (33)\n",
      "\n",
      "Final Right Rotated Value (INT): 33\n",
      "Final Right Rotated Value (BIN): 00100001\n"
     ]
    }
   ],
   "source": [
    "def rightrotate(value, shift, bits=4):\n",
    "    \"\"\"Right rotate an integer value by shift bits within a specified bit width.\"\"\"\n",
    "    right_shifted = value >> shift\n",
    "    left_shifted = (value << (bits - shift)) & ((1 << bits) - 1)  # Ensure left shift is within the specified bits\n",
    "    combined = right_shifted | left_shifted\n",
    "    mask = (1 << bits) - 1  # Create a mask for the specified bit width\n",
    "    result = combined & mask  # Mask to ensure result is within the specified bits\n",
    "\n",
    "    # Print statements to visualize each step\n",
    "    print(f\"Original value (BIN): \\n{value:0{bits}b} ({value})\")\n",
    "    print(f\"Right Shift by {shift} (BIN): \\n{right_shifted:0{bits}b} ({right_shifted})\")\n",
    "    print(f\"Left Shift by {bits - shift} (BIN): \\n{left_shifted:0{bits}b} ({left_shifted})\")\n",
    "    print(f\"Left and Right Shift Combined with Bitwise OR (|):\\n{combined:0{bits}b} ({combined})\")\n",
    "    print(f\"Mask (BIN): \\n{mask:0{bits}b}\")\n",
    "    print(f\"Masked Result (BIN): \\n{result:0{bits}b} ({result})\")\n",
    "\n",
    "    return result\n",
    "\n",
    "# Example usage\n",
    "value = 9  # Binary: 0011\n",
    "shift = 3\n",
    "bits = 8\n",
    "\n",
    "right_rotated_value = rightrotate(value, shift, bits)\n",
    "\n",
    "print(f\"\\nFinal Right Rotated Value (INT): {right_rotated_value}\")\n",
    "print(f\"Final Right Rotated Value (BIN): {right_rotated_value:0{bits}b}\")"
   ]
  },
  {
   "cell_type": "markdown",
   "metadata": {},
   "source": []
  },
  {
   "cell_type": "markdown",
   "metadata": {},
   "source": [
    "##### Making Masks"
   ]
  },
  {
   "cell_type": "code",
   "execution_count": null,
   "metadata": {},
   "outputs": [
    {
     "name": "stdout",
     "output_type": "stream",
     "text": [
      "4-bit Mask  (BIN): 1111  (INT): 15\n",
      "8-bit Mask  (BIN): 11111111  (INT): 255\n",
      "16-bit Mask (BIN): 1111111111111111 (INT): 65535\n",
      "32-bit Mask (BIN): 11111111111111111111111111111111 (INT): 4294967295\n",
      "\n",
      "Original Value (BIN): 10101010101010101010101010101010\n",
      "Masked 4-bit  (BIN): 1010  (INT): 10\n",
      "Masked 8-bit  (BIN): 10101010  (INT): 170\n",
      "Masked 16-bit (BIN): 1010101010101010 (INT): 43690\n",
      "Masked 32-bit (BIN): 10101010101010101010101010101010 (INT): 2863311530\n"
     ]
    }
   ],
   "source": [
    "def create_mask(bits):\n",
    "    \"\"\"Create a mask with the specified number of bits set to 1.\"\"\"\n",
    "    return (1 << bits) - 1\n",
    "\n",
    "# Examples of creating masks\n",
    "mask_4bit = create_mask(4)\n",
    "mask_8bit = create_mask(8)\n",
    "mask_16bit = create_mask(16)\n",
    "mask_32bit = create_mask(32)\n",
    "\n",
    "# Print the masks in binary format\n",
    "print(f\"4-bit Mask  (BIN): {mask_4bit:04b}  (INT): {mask_4bit}\")\n",
    "print(f\"8-bit Mask  (BIN): {mask_8bit:08b}  (INT): {mask_8bit}\")\n",
    "print(f\"16-bit Mask (BIN): {mask_16bit:016b} (INT): {mask_16bit}\")\n",
    "print(f\"32-bit Mask (BIN): {mask_32bit:032b} (INT): {mask_32bit}\")\n",
    "\n",
    "# Example usage of masks\n",
    "value = 0b10101010101010101010101010101010  # Example 32-bit value\n",
    "\n",
    "# Apply masks to the value\n",
    "masked_4bit = value & mask_4bit\n",
    "masked_8bit = value & mask_8bit\n",
    "masked_16bit = value & mask_16bit\n",
    "masked_32bit = value & mask_32bit\n",
    "\n",
    "# Print the masked values in binary format\n",
    "print(f\"\\nOriginal Value (BIN): {value:032b}\")\n",
    "print(f\"Masked 4-bit  (BIN): {masked_4bit:04b}  (INT): {masked_4bit}\")\n",
    "print(f\"Masked 8-bit  (BIN): {masked_8bit:08b}  (INT): {masked_8bit}\")\n",
    "print(f\"Masked 16-bit (BIN): {masked_16bit:016b} (INT): {masked_16bit}\")\n",
    "print(f\"Masked 32-bit (BIN): {masked_32bit:032b} (INT): {masked_32bit}\")"
   ]
  },
  {
   "cell_type": "markdown",
   "metadata": {},
   "source": [
    "Can also make the masks in Hexidecimal."
   ]
  },
  {
   "cell_type": "code",
   "execution_count": null,
   "metadata": {},
   "outputs": [
    {
     "name": "stdout",
     "output_type": "stream",
     "text": [
      " 4-bit Mask: 1111\n",
      "16-bit Mask: 1111111111111111\n",
      "32-bit Mask: 11111111111111111111111111111111\n",
      "64-bit Mask: 1111111111111111111111111111111111111111111111111111111111111111\n"
     ]
    }
   ],
   "source": [
    "print(\" 4-bit Mask:\", bin(0xF)[2:])\n",
    "print(\"16-bit Mask:\", bin(0xFFFF)[2:])\n",
    "print(\"32-bit Mask:\", bin(0xFFFFFFFF)[2:])\n",
    "print(\"64-bit Mask:\", bin(0xFFFFFFFFFFFFFFFF)[2:])"
   ]
  },
  {
   "cell_type": "markdown",
   "metadata": {},
   "source": [
    "**Bitwise AND Operation (`&`) and Masking**\n",
    "\n",
    "The bitwise AND operation compares each bit of two numbers and returns a new number where each bit is set to `1` only if both corresponding bits of the operands are `1`. If either bit is `0`, the resulting bit is `0`.\n",
    "\n",
    "**Example**\n",
    "\n",
    "Consider two 4-bit numbers:"
   ]
  },
  {
   "cell_type": "code",
   "execution_count": null,
   "metadata": {},
   "outputs": [],
   "source": [
    "Here's how it works bit by bit:\n",
    "\n",
    "- `1 AND 1 = 1`\n",
    "- `0 AND 1 = 0`\n",
    "- `1 AND 0 = 0`\n",
    "- `0 AND 0 = 0`"
   ]
  },
  {
   "cell_type": "code",
   "execution_count": null,
   "metadata": {},
   "outputs": [
    {
     "name": "stdout",
     "output_type": "stream",
     "text": [
      "If they are both 1, result is 1.\n",
      "1 & 1: 1\n",
      "\n",
      "Anything else, the result is 0.\n",
      "1 & 0: 0\n",
      "0 & 1: 0\n",
      "0 & 0: 0\n"
     ]
    }
   ],
   "source": [
    "print(\"If they are both 1, result is 1.\")\n",
    "print(f\"1 & 1: {1 & 1}\")\n",
    "\n",
    "\n",
    "print(\"\\nAnything else, the result is 0.\")\n",
    "print(f\"1 & 0: {1 & 0}\")\n",
    "print(f\"0 & 1: {0 & 1}\")\n",
    "print(f\"0 & 0: {0 & 0}\")\n"
   ]
  },
  {
   "cell_type": "markdown",
   "metadata": {},
   "source": [
    "**Masking with `& 0b1111`**\n",
    "\n",
    "In the context of `& 0b1111`, the mask `0b1111` is a 4-bit binary number with all bits set to `1` (which is `15` in decimal). Masking with `0b1111` ensures that only the last 4 bits of the number are kept, and all higher bits are set to `0`.\n",
    "\n",
    "**Example with Masking**\n",
    "\n",
    "Consider an 8-bit number `0b10101010`:\n",
    "\n"
   ]
  },
  {
   "cell_type": "code",
   "execution_count": null,
   "metadata": {},
   "outputs": [],
   "source": [
    "  10101010  (binary for 170)\n",
    "& 00001111  (binary for 15)\n",
    "----------\n",
    "  00001010  (binary for 10)"
   ]
  },
  {
   "cell_type": "markdown",
   "metadata": {},
   "source": [
    "\n",
    "\n",
    "Here's how it works bit by bit:\n",
    "\n",
    "- `1 AND 0 = 0`\n",
    "- `0 AND 0 = 0`\n",
    "- `1 AND 0 = 0`\n",
    "- `0 AND 0 = 0`\n",
    "- `1 AND 1 = 1`\n",
    "- `0 AND 1 = 0`\n",
    "- `1 AND 1 = 1`\n",
    "- `0 AND 1 = 0`\n",
    "\n",
    "**Applying Masking in `rightrotate`**\n",
    "\n",
    "In the `rightrotate` function, the mask `0xFFFFFFFF` (which is `0b11111111111111111111111111111111` in binary) ensures that the result is a 32-bit integer by masking the higher bits:\n",
    "\n"
   ]
  },
  {
   "cell_type": "code",
   "execution_count": null,
   "metadata": {},
   "outputs": [],
   "source": [
    "def rightrotate(value, shift):\n",
    "    \"\"\"Right rotate a 32-bit integer value by shift bits.\"\"\"\n",
    "    return (value >> shift) | (value << (32 - shift)) & 0xFFFFFFFF"
   ]
  },
  {
   "cell_type": "markdown",
   "metadata": {},
   "source": [
    "\n",
    "\n",
    "- **Right Shift**: `(value >> shift)` shifts the bits to the right.\n",
    "- **Left Shift**: `(value << (32 - shift))` shifts the bits to the left.\n",
    "- **Bitwise OR**: Combines the results of the right and left shifts.\n",
    "- **Masking**: `& 0xFFFFFFFF` ensures the result is a 32-bit integer by masking the higher bits.\n",
    "\n",
    "This combination effectively rotates the bits of the integer to the right by the specified number of positions."
   ]
  },
  {
   "cell_type": "code",
   "execution_count": null,
   "metadata": {},
   "outputs": [],
   "source": [
    "  1010  (binary for 10)\n",
    "| 1100  (binary for 12)\n",
    "------\n",
    "  1110  (binary for 14)"
   ]
  },
  {
   "cell_type": "code",
   "execution_count": null,
   "metadata": {},
   "outputs": [
    {
     "name": "stdout",
     "output_type": "stream",
     "text": [
      "Value (INT): 1\n",
      "Value (BIN): 00000000000000000000000000000001\n",
      "\n",
      "RIGHTWARD ROTATION OF 1.\n",
      "\n",
      "Right Rotated (INT): 2147483648\n",
      "Right Rotated (BIN): 10000000000000000000000000000000\n"
     ]
    }
   ],
   "source": [
    "def rightrotate(value, shift):\n",
    "    \"\"\"Right rotate a 32-bit integer value by shift bits.\"\"\"\n",
    "    return (value >> shift) | (value << (32 - shift)) & 0xFFFFFFFF\n",
    "\n",
    "\n",
    "value = 1\n",
    "rotation = 1\n",
    "\n",
    "right_rotated_value = right_rotate(value, rotation)\n",
    "\n",
    "\n",
    "print(f\"Value (INT): {value}\")\n",
    "print(f\"Value (BIN): {value:032b}\")\n",
    "\n",
    "print(f\"\\nRIGHTWARD ROTATION OF {rotation}.\\n\")\n",
    "\n",
    "print(f\"Right Rotated (INT): {right_rotated_value}\")\n",
    "print(f\"Right Rotated (BIN): {right_rotated_value:032b}\")"
   ]
  }
 ],
 "metadata": {
  "language_info": {
   "name": "python"
  }
 },
 "nbformat": 4,
 "nbformat_minor": 2
}
