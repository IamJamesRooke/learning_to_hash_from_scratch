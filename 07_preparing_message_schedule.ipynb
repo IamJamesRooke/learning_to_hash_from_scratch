{
 "cells": [
  {
   "cell_type": "markdown",
   "metadata": {},
   "source": [
    "# Preparing the Message Schedule"
   ]
  },
  {
   "cell_type": "code",
   "execution_count": 14,
   "metadata": {},
   "outputs": [],
   "source": [
    "# Imports\n",
    "from tutorial_functions import *"
   ]
  },
  {
   "cell_type": "markdown",
   "metadata": {},
   "source": [
    "# We've gone as far as\n",
    "1. converting the message\n",
    "2. initializing the hash values\n",
    "3. intializing the K Constants\n",
    "3. shifting and rotation\n",
    "4. NOW Preparing the message"
   ]
  },
  {
   "cell_type": "markdown",
   "metadata": {},
   "source": [
    "#### Full Algorithm"
   ]
  },
  {
   "cell_type": "code",
   "execution_count": null,
   "metadata": {},
   "outputs": [],
   "source": [
    "import struct\n",
    "import math\n",
    "\n",
    "# Constants for SHA-256\n",
    "\n",
    "\n",
    "\n",
    "\n",
    "def right_rotate(value, shift):\n",
    "    return (value >> shift) | (value << (32 - shift)) & 0xFFFFFFFF\n",
    "\n",
    "def pad_message(message):\n",
    "    # Convert message to bytes using ASCII encoding\n",
    "    message_bytes = message.encode('ascii')\n",
    "    \n",
    "    # Calculate the length of the original message in bits\n",
    "    original_length_bits = len(message_bytes) * 8\n",
    "    \n",
    "    # Pad the message with a single '1' bit followed by '0' bits\n",
    "    padded_message = message_bytes + b'\\x80'\n",
    "    while (len(padded_message) * 8) % 512 != 448:\n",
    "        padded_message += b'\\x00'\n",
    "    \n",
    "    # Append the length of the original message as a 64-bit big-endian integer\n",
    "    padded_message += struct.pack('>Q', original_length_bits)\n",
    "    \n",
    "    return padded_message\n",
    "\n",
    "\n",
    "\n",
    "def sha256_compress(block, H):\n",
    "    W = prepare_message_schedule(block)\n",
    "    a, b, c, d, e, f, g, h = H\n",
    "\n",
    "    for t in range(64):\n",
    "        S1 = right_rotate(e, 6) ^ right_rotate(e, 11) ^ right_rotate(e, 25)\n",
    "        ch = (e & f) ^ (~e & g)\n",
    "        temp1 = (h + S1 + ch + K[t] + W[t]) & 0xFFFFFFFF\n",
    "        S0 = right_rotate(a, 2) ^ right_rotate(a, 13) ^ right_rotate(a, 22)\n",
    "        maj = (a & b) ^ (a & c) ^ (b & c)\n",
    "        temp2 = (S0 + maj) & 0xFFFFFFFF\n",
    "\n",
    "        h = g\n",
    "        g = f\n",
    "        f = e\n",
    "        e = (d + temp1) & 0xFFFFFFFF\n",
    "        d = c\n",
    "        c = b\n",
    "        b = a\n",
    "        a = (temp1 + temp2) & 0xFFFFFFFF\n",
    "\n",
    "    H[0] = (H[0] + a) & 0xFFFFFFFF\n",
    "    H[1] = (H[1] + b) & 0xFFFFFFFF\n",
    "    H[2] = (H[2] + c) & 0xFFFFFFFF\n",
    "    H[3] = (H[3] + d) & 0xFFFFFFFF\n",
    "    H[4] = (H[4] + e) & 0xFFFFFFFF\n",
    "    H[5] = (H[5] + f) & 0xFFFFFFFF\n",
    "    H[6] = (H[6] + g) & 0xFFFFFFFF\n",
    "    H[7] = (H[7] + h) & 0xFFFFFFFF\n",
    "\n",
    "def sha256(message):\n",
    "    # Pad the message\n",
    "    padded_message = pad_message(message)\n",
    "    \n",
    "    # Process each 512-bit block\n",
    "    for i in range(0, len(padded_message), 64):\n",
    "        block = padded_message[i:i+64]\n",
    "        sha256_compress(block, H)\n",
    "    \n",
    "    # Produce the final hash\n",
    "    return ''.join(f'{value:08x}' for value in H)\n",
    "\n",
    "# Example usage\n",
    "\n",
    "hash_value = sha256(message)\n",
    "print(hash_value)"
   ]
  },
  {
   "cell_type": "markdown",
   "metadata": {},
   "source": [
    "### Recap"
   ]
  },
  {
   "cell_type": "markdown",
   "metadata": {},
   "source": [
    "Our initial message:"
   ]
  },
  {
   "cell_type": "code",
   "execution_count": 6,
   "metadata": {},
   "outputs": [
    {
     "data": {
      "text/plain": [
       "'Hi!'"
      ]
     },
     "execution_count": 6,
     "metadata": {},
     "output_type": "execute_result"
    }
   ],
   "source": [
    "message = \"Hi!\"\n",
    "message"
   ]
  },
  {
   "cell_type": "markdown",
   "metadata": {},
   "source": [
    "We have our message converted from text to ascii to binary:"
   ]
  },
  {
   "cell_type": "code",
   "execution_count": 5,
   "metadata": {},
   "outputs": [
    {
     "data": {
      "text/plain": [
       "'010010000110100100100001'"
      ]
     },
     "execution_count": 5,
     "metadata": {},
     "output_type": "execute_result"
    }
   ],
   "source": [
    "binary_message = ''.join(format(ord(char), '08b') for char in message)\n",
    "binary_message\n"
   ]
  },
  {
   "cell_type": "markdown",
   "metadata": {},
   "source": [
    "We have our padded message."
   ]
  },
  {
   "cell_type": "code",
   "execution_count": 10,
   "metadata": {},
   "outputs": [
    {
     "name": "stdout",
     "output_type": "stream",
     "text": [
      "Message length (binary): 0000000000000000000000000000000000000000000000000000000000011000\n",
      "Message length (int): 24\n"
     ]
    },
    {
     "data": {
      "text/plain": [
       "'01001000011010010010000110000000000000000000000000000000000000000000000000000000000000000000000000000000000000000000000000000000000000000000000000000000000000000000000000000000000000000000000000000000000000000000000000000000000000000000000000000000000000000000000000000000000000000000000000000000000000000000000000000000000000000000000000000000000000000000000000000000000000000000000000000000000000000000000000000000000000000000000000000000000000000000000000000000000000000000000000000000000000000000000000011000'"
      ]
     },
     "execution_count": 10,
     "metadata": {},
     "output_type": "execute_result"
    }
   ],
   "source": [
    "def pad_binary(binary_message,\n",
    "               block_size=512,\n",
    "               length_field=64):\n",
    "\n",
    "    # Add the '1' bit\n",
    "    padded = binary_message + '1'\n",
    "\n",
    "    # Calculate Zeros Needed\n",
    "    msg_size_on_final_block = (len(padded) % block_size)\n",
    "    zeros_needed = block_size - msg_size_on_final_block - length_field\n",
    "\n",
    "    # If there are not enough zeros, add another block w/ zeros\n",
    "    if zeros_needed < 0:\n",
    "        zeros_needed += 512\n",
    "    \n",
    "    # Otherwise, append the zeros needed\n",
    "    padded += '0' * zeros_needed\n",
    "\n",
    "    # Add 64-bit message length to the end, padded with zeros\n",
    "    msg_length = len(binary_message)\n",
    "    length_bits = format(msg_length, '064b')\n",
    "    final_padded = padded + length_bits\n",
    "\n",
    "    # Print the message length in binary and int\n",
    "    print(f'Message length (binary): {length_bits}')\n",
    "    print(f'Message length (int): {msg_length}')\n",
    "\n",
    "    return final_padded\n",
    "\n",
    "pad_binary(binary_message)"
   ]
  },
  {
   "cell_type": "markdown",
   "metadata": {},
   "source": [
    "We have our H Values"
   ]
  },
  {
   "cell_type": "code",
   "execution_count": 1,
   "metadata": {},
   "outputs": [],
   "source": [
    "# Initial hash values\n",
    "H = [\n",
    "    0x6a09e667, 0xbb67ae85, 0x3c6ef372, 0xa54ff53a,\n",
    "    0x510e527f, 0x9b05688c, 0x1f83d9ab, 0x5be0cd19\n",
    "]"
   ]
  },
  {
   "cell_type": "markdown",
   "metadata": {},
   "source": [
    "We have our K Constants"
   ]
  },
  {
   "cell_type": "code",
   "execution_count": 2,
   "metadata": {},
   "outputs": [],
   "source": [
    "K = [\n",
    "    0x428a2f98, 0x71374491, 0xb5c0fbcf, 0xe9b5dba5, 0x3956c25b, 0x59f111f1, 0x923f82a4, 0xab1c5ed5,\n",
    "    0xd807aa98, 0x12835b01, 0x243185be, 0x550c7dc3, 0x72be5d74, 0x80deb1fe, 0x9bdc06a7, 0xc19bf174,\n",
    "    0xe49b69c1, 0xefbe4786, 0x0fc19dc6, 0x240ca1cc, 0x2de92c6f, 0x4a7484aa, 0x5cb0a9dc, 0x76f988da,\n",
    "    0x983e5152, 0xa831c66d, 0xb00327c8, 0xbf597fc7, 0xc6e00bf3, 0xd5a79147, 0x06ca6351, 0x14292967,\n",
    "    0x27b70a85, 0x2e1b2138, 0x4d2c6dfc, 0x53380d13, 0x650a7354, 0x766a0abb, 0x81c2c92e, 0x92722c85,\n",
    "    0xa2bfe8a1, 0xa81a664b, 0xc24b8b70, 0xc76c51a3, 0xd192e819, 0xd6990624, 0xf40e3585, 0x106aa070,\n",
    "    0x19a4c116, 0x1e376c08, 0x2748774c, 0x34b0bcb5, 0x391c0cb3, 0x4ed8aa4a, 0x5b9cca4f, 0x682e6ff3,\n",
    "    0x748f82ee, 0x78a5636f, 0x84c87814, 0x8cc70208, 0x90befffa, 0xa4506ceb, 0xbef9a3f7, 0xc67178f2\n",
    "]"
   ]
  },
  {
   "cell_type": "markdown",
   "metadata": {},
   "source": [
    "### One Block At A Time\n",
    "So everything is processed one block at a time."
   ]
  },
  {
   "cell_type": "markdown",
   "metadata": {},
   "source": [
    "Now we prepare our message schedule."
   ]
  },
  {
   "cell_type": "markdown",
   "metadata": {},
   "source": [
    "We're going to need the `struct` module."
   ]
  },
  {
   "cell_type": "code",
   "execution_count": 11,
   "metadata": {},
   "outputs": [],
   "source": [
    "import struct"
   ]
  },
  {
   "cell_type": "markdown",
   "metadata": {},
   "source": [
    "Then we need an 64 word (chunk) array called `W`, which is the convention for the messuge scheduling array, all initialized at 0."
   ]
  },
  {
   "cell_type": "code",
   "execution_count": 16,
   "metadata": {},
   "outputs": [
    {
     "name": "stdout",
     "output_type": "stream",
     "text": [
      "0, 0, 0, 0, 0, 0, 0, 0, 0, 0, 0, 0, 0, 0, 0, 0\n",
      "0, 0, 0, 0, 0, 0, 0, 0, 0, 0, 0, 0, 0, 0, 0, 0\n",
      "0, 0, 0, 0, 0, 0, 0, 0, 0, 0, 0, 0, 0, 0, 0, 0\n",
      "0, 0, 0, 0, 0, 0, 0, 0, 0, 0, 0, 0, 0, 0, 0, 0\n"
     ]
    }
   ],
   "source": [
    "W = [0] * 64\n",
    "print_list_in_rows(W, 16)"
   ]
  },
  {
   "cell_type": "markdown",
   "metadata": {},
   "source": [
    "### Populate the First 16 Words\n",
    "- This loop processes the first 16 words of the input block.\n",
    "- `block[t * 4:t * 4 + 4]` extracts 4 bytes from the block.\n",
    "- `struct.unpack('>I', ...)` converts these 4 bytes into a 32-bit integer in big-endian format `('>I')`.\n",
    "- The resulting integer is stored in W[t]."
   ]
  },
  {
   "cell_type": "code",
   "execution_count": null,
   "metadata": {},
   "outputs": [],
   "source": [
    "for t in range(16):\n",
    "        W[t] = struct.unpack('>I', block[t * 4:t * 4 + 4])[0]"
   ]
  },
  {
   "cell_type": "code",
   "execution_count": null,
   "metadata": {},
   "outputs": [],
   "source": []
  },
  {
   "cell_type": "code",
   "execution_count": null,
   "metadata": {},
   "outputs": [],
   "source": []
  },
  {
   "cell_type": "code",
   "execution_count": null,
   "metadata": {},
   "outputs": [],
   "source": [
    "def prepare_message_schedule(block):\n",
    "    W = [0] * 64\n",
    "    \n",
    "    for t in range(16, 64):\n",
    "        s0 = (right_rotate(W[t-15], 7) ^ right_rotate(W[t-15], 18) ^ (W[t-15] >> 3))\n",
    "        s1 = (right_rotate(W[t-2], 17) ^ right_rotate(W[t-2], 19) ^ (W[t-2] >> 10))\n",
    "        W[t] = (W[t-16] + s0 + W[t-7] + s1) & 0xFFFFFFFF\n",
    "    return W"
   ]
  },
  {
   "cell_type": "markdown",
   "metadata": {},
   "source": []
  }
 ],
 "metadata": {
  "kernelspec": {
   "display_name": "Python 3",
   "language": "python",
   "name": "python3"
  },
  "language_info": {
   "codemirror_mode": {
    "name": "ipython",
    "version": 3
   },
   "file_extension": ".py",
   "mimetype": "text/x-python",
   "name": "python",
   "nbconvert_exporter": "python",
   "pygments_lexer": "ipython3",
   "version": "3.11.9"
  }
 },
 "nbformat": 4,
 "nbformat_minor": 2
}
