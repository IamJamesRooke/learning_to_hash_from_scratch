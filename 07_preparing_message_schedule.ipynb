{
 "cells": [
  {
   "cell_type": "markdown",
   "metadata": {},
   "source": [
    "# Preparing the Message Schedule"
   ]
  },
  {
   "cell_type": "code",
   "execution_count": 57,
   "metadata": {},
   "outputs": [],
   "source": [
    "# Imports\n",
    "from tutorial_functions import *"
   ]
  },
  {
   "cell_type": "markdown",
   "metadata": {},
   "source": [
    "### Recap"
   ]
  },
  {
   "cell_type": "markdown",
   "metadata": {},
   "source": [
    "Our initial message:"
   ]
  },
  {
   "cell_type": "code",
   "execution_count": 58,
   "metadata": {},
   "outputs": [
    {
     "data": {
      "text/plain": [
       "'This is a long message that is going to be two 512-bit blocks long.'"
      ]
     },
     "execution_count": 58,
     "metadata": {},
     "output_type": "execute_result"
    }
   ],
   "source": [
    "message = \"This is a long message that is going to be two 512-bit blocks long.\"\n",
    "message"
   ]
  },
  {
   "cell_type": "markdown",
   "metadata": {},
   "source": [
    "We have our message converted from text to ascii to binary:"
   ]
  },
  {
   "cell_type": "code",
   "execution_count": 59,
   "metadata": {},
   "outputs": [
    {
     "data": {
      "text/plain": [
       "'01010100011010000110100101110011001000000110100101110011001000000110000100100000011011000110111101101110011001110010000001101101011001010111001101110011011000010110011101100101001000000111010001101000011000010111010000100000011010010111001100100000011001110110111101101001011011100110011100100000011101000110111100100000011000100110010100100000011101000111011101101111001000000011010100110001001100100010110101100010011010010111010000100000011000100110110001101111011000110110101101110011001000000110110001101111011011100110011100101110'"
      ]
     },
     "execution_count": 59,
     "metadata": {},
     "output_type": "execute_result"
    }
   ],
   "source": [
    "binary_message = ''.join(format(ord(char), '08b') for char in message)\n",
    "binary_message"
   ]
  },
  {
   "cell_type": "markdown",
   "metadata": {},
   "source": [
    "We have our padded message."
   ]
  },
  {
   "cell_type": "code",
   "execution_count": 60,
   "metadata": {},
   "outputs": [
    {
     "data": {
      "text/plain": [
       "'0101010001101000011010010111001100100000011010010111001100100000011000010010000001101100011011110110111001100111001000000110110101100101011100110111001101100001011001110110010100100000011101000110100001100001011101000010000001101001011100110010000001100111011011110110100101101110011001110010000001110100011011110010000001100010011001010010000001110100011101110110111100100000001101010011000100110010001011010110001001101001011101000010000001100010011011000110111101100011011010110111001100100000011011000110111101101110011001110010111010000000000000000000000000000000000000000000000000000000000000000000000000000000000000000000000000000000000000000000000000000000000000000000000000000000000000000000000000000000000000000000000000000000000000000000000000000000000000000000000000000000000000000000000000000000000000000000000000000000000000000000000000000000000000000000000000000000000000000000000000000000000000000000000000000000000000000000000000000000000000000000000000000000000000000000000000000000000000000000001000011000'"
      ]
     },
     "execution_count": 60,
     "metadata": {},
     "output_type": "execute_result"
    }
   ],
   "source": [
    "def pad_binary(binary_message,\n",
    "               block_size=512,\n",
    "               length_field=64):\n",
    "\n",
    "    # Add the '1' bit\n",
    "    padded = binary_message + '1'\n",
    "\n",
    "    # Calculate Zeros Needed\n",
    "    msg_size_on_final_block = (len(padded) % block_size)\n",
    "    zeros_needed = block_size - msg_size_on_final_block - length_field\n",
    "\n",
    "    # If there are not enough zeros, add another block w/ zeros\n",
    "    if zeros_needed < 0:\n",
    "        zeros_needed += 512\n",
    "    \n",
    "    # Otherwise, append the zeros needed\n",
    "    padded += '0' * zeros_needed\n",
    "\n",
    "    # Add 64-bit message length to the end, padded with zeros\n",
    "    msg_length = len(binary_message)\n",
    "    length_bits = format(msg_length, '064b')\n",
    "    final_padded = padded + length_bits\n",
    "\n",
    "    return final_padded\n",
    "\n",
    "padded_message = pad_binary(binary_message)\n",
    "padded_message"
   ]
  },
  {
   "cell_type": "markdown",
   "metadata": {},
   "source": [
    "SHA-256 works on 512 blocks. We divide the message into several blocks."
   ]
  },
  {
   "cell_type": "code",
   "execution_count": 61,
   "metadata": {},
   "outputs": [
    {
     "name": "stdout",
     "output_type": "stream",
     "text": [
      "Padded Message Length: 1024\n",
      "Num Blocks Required: 2.0\n"
     ]
    }
   ],
   "source": [
    "print(f\"Padded Message Length: {len(padded_message)}\")\n",
    "print(f\"Num Blocks Required: {len(padded_message) / 512}\")"
   ]
  },
  {
   "cell_type": "code",
   "execution_count": 62,
   "metadata": {},
   "outputs": [
    {
     "name": "stdout",
     "output_type": "stream",
     "text": [
      "BLOCK 1:\n",
      "01010100011010000110100101110011\n",
      "00100000011010010111001100100000\n",
      "01100001001000000110110001101111\n",
      "01101110011001110010000001101101\n",
      "01100101011100110111001101100001\n",
      "01100111011001010010000001110100\n",
      "01101000011000010111010000100000\n",
      "01101001011100110010000001100111\n",
      "01101111011010010110111001100111\n",
      "00100000011101000110111100100000\n",
      "01100010011001010010000001110100\n",
      "01110111011011110010000000110101\n",
      "00110001001100100010110101100010\n",
      "01101001011101000010000001100010\n",
      "01101100011011110110001101101011\n",
      "01110011001000000110110001101111\n",
      "\n",
      "BLOCK 2:\n",
      "01101110011001110010111010000000\n",
      "00000000000000000000000000000000\n",
      "00000000000000000000000000000000\n",
      "00000000000000000000000000000000\n",
      "00000000000000000000000000000000\n",
      "00000000000000000000000000000000\n",
      "00000000000000000000000000000000\n",
      "00000000000000000000000000000000\n",
      "00000000000000000000000000000000\n",
      "00000000000000000000000000000000\n",
      "00000000000000000000000000000000\n",
      "00000000000000000000000000000000\n",
      "00000000000000000000000000000000\n",
      "00000000000000000000000000000000\n",
      "00000000000000000000000000000000\n",
      "00000000000000000000001000011000\n",
      "\n"
     ]
    }
   ],
   "source": [
    "def divide_into_blocks(padded_message, block_size=512):\n",
    "    # Ensure the padded message length is a multiple of block_size\n",
    "    assert len(padded_message) % block_size == 0, \"Padded message length must be a multiple of block size\"\n",
    "    \n",
    "    # Split the padded message into blocks\n",
    "    blocks = [padded_message[i:i + block_size] for i in range(0, len(padded_message), block_size)]\n",
    "    \n",
    "    return blocks\n",
    "\n",
    "def print_block(block):\n",
    "    # Print the block in a formatted manner\n",
    "    for i in range(0, len(block), 32):\n",
    "        print(block[i:i + 32])\n",
    "\n",
    "blocks = divide_into_blocks(padded_message)\n",
    "for i, block in enumerate(blocks):\n",
    "    print(f\"BLOCK {i + 1}:\")\n",
    "    print_block(block)\n",
    "    print()"
   ]
  },
  {
   "cell_type": "markdown",
   "metadata": {},
   "source": [
    "We have our H Values"
   ]
  },
  {
   "cell_type": "code",
   "execution_count": 63,
   "metadata": {},
   "outputs": [],
   "source": [
    "# Initial hash values\n",
    "H = [\n",
    "    0x6a09e667, 0xbb67ae85, 0x3c6ef372, 0xa54ff53a,\n",
    "    0x510e527f, 0x9b05688c, 0x1f83d9ab, 0x5be0cd19\n",
    "]"
   ]
  },
  {
   "cell_type": "markdown",
   "metadata": {},
   "source": [
    "We have our K Constants"
   ]
  },
  {
   "cell_type": "code",
   "execution_count": 64,
   "metadata": {},
   "outputs": [],
   "source": [
    "K = [\n",
    "    0x428a2f98, 0x71374491, 0xb5c0fbcf, 0xe9b5dba5, 0x3956c25b, 0x59f111f1, 0x923f82a4, 0xab1c5ed5,\n",
    "    0xd807aa98, 0x12835b01, 0x243185be, 0x550c7dc3, 0x72be5d74, 0x80deb1fe, 0x9bdc06a7, 0xc19bf174,\n",
    "    0xe49b69c1, 0xefbe4786, 0x0fc19dc6, 0x240ca1cc, 0x2de92c6f, 0x4a7484aa, 0x5cb0a9dc, 0x76f988da,\n",
    "    0x983e5152, 0xa831c66d, 0xb00327c8, 0xbf597fc7, 0xc6e00bf3, 0xd5a79147, 0x06ca6351, 0x14292967,\n",
    "    0x27b70a85, 0x2e1b2138, 0x4d2c6dfc, 0x53380d13, 0x650a7354, 0x766a0abb, 0x81c2c92e, 0x92722c85,\n",
    "    0xa2bfe8a1, 0xa81a664b, 0xc24b8b70, 0xc76c51a3, 0xd192e819, 0xd6990624, 0xf40e3585, 0x106aa070,\n",
    "    0x19a4c116, 0x1e376c08, 0x2748774c, 0x34b0bcb5, 0x391c0cb3, 0x4ed8aa4a, 0x5b9cca4f, 0x682e6ff3,\n",
    "    0x748f82ee, 0x78a5636f, 0x84c87814, 0x8cc70208, 0x90befffa, 0xa4506ceb, 0xbef9a3f7, 0xc67178f2\n",
    "]"
   ]
  },
  {
   "cell_type": "markdown",
   "metadata": {},
   "source": [
    "## Prepare Message Schedule"
   ]
  },
  {
   "cell_type": "markdown",
   "metadata": {},
   "source": [
    "First, we're only going to focus on the first block of the message. We will build a function to iterate through all blocks later."
   ]
  },
  {
   "cell_type": "code",
   "execution_count": 65,
   "metadata": {},
   "outputs": [],
   "source": [
    "block = blocks[0]"
   ]
  },
  {
   "cell_type": "code",
   "execution_count": 66,
   "metadata": {},
   "outputs": [
    {
     "name": "stdout",
     "output_type": "stream",
     "text": [
      "0, 0, 0, 0, 0, 0, 0, 0, 0, 0, 0, 0, 0, 0, 0, 0\n",
      "0, 0, 0, 0, 0, 0, 0, 0, 0, 0, 0, 0, 0, 0, 0, 0\n",
      "0, 0, 0, 0, 0, 0, 0, 0, 0, 0, 0, 0, 0, 0, 0, 0\n",
      "0, 0, 0, 0, 0, 0, 0, 0, 0, 0, 0, 0, 0, 0, 0, 0\n"
     ]
    }
   ],
   "source": [
    "W = [0] * 64\n",
    "print_list_in_rows(W, 16)"
   ]
  },
  {
   "cell_type": "markdown",
   "metadata": {},
   "source": [
    "### Populate the First 16 Words\n",
    "\n",
    "Now we're going to fill W[0] to W[15] with the first 16 words of W.\n",
    "\n",
    "Remember 512-bits divided by 32 bits is 16 words."
   ]
  },
  {
   "cell_type": "code",
   "execution_count": 67,
   "metadata": {},
   "outputs": [],
   "source": [
    "# Fill the first 16 words of W\n",
    "for i in range(16):\n",
    "    W[i] = int(block[i*32:(i+1)*32], 2)"
   ]
  },
  {
   "cell_type": "code",
   "execution_count": 78,
   "metadata": {},
   "outputs": [
    {
     "name": "stdout",
     "output_type": "stream",
     "text": [
      "Updated W with first 16 words:\n",
      "1416128883, 543781664, 1629514863, 1852252269, 1702064993, 1734680692, 1751217184, 1769152615, 1869180519, 544501536, 1650794612, 2003771445, 825372002, 1769218146, 1819239275, 1931504751\n",
      "0, 0, 0, 0, 0, 0, 0, 0, 0, 0, 0, 0, 0, 0, 0, 0\n",
      "0, 0, 0, 0, 0, 0, 0, 0, 0, 0, 0, 0, 0, 0, 0, 0\n",
      "0, 0, 0, 0, 0, 0, 0, 0, 0, 0, 0, 0, 0, 0, 0, 0\n"
     ]
    }
   ],
   "source": [
    "print(\"Updated W with first 16 words:\")\n",
    "print_list_in_rows(W, 16)"
   ]
  },
  {
   "cell_type": "markdown",
   "metadata": {},
   "source": [
    "Notice how the first word of the message schedule W[0] is the exact same as the first 32 bits of the block."
   ]
  },
  {
   "cell_type": "code",
   "execution_count": 79,
   "metadata": {
    "vscode": {
     "languageId": "shellscript"
    }
   },
   "outputs": [
    {
     "name": "stdout",
     "output_type": "stream",
     "text": [
      "First 32 bits of block (binary): 01010100011010000110100101110011\n",
      "First 32 bits of block (int): 1416128883\n",
      "W[0] (int): 1416128883\n",
      "Are they equal? Yes\n"
     ]
    }
   ],
   "source": [
    "# Extract the first 32 bits of the block\n",
    "first_32_bits_of_block = block[:32]\n",
    "\n",
    "# Convert the first 32 bits of the block to an integer\n",
    "first_32_bits_int = int(first_32_bits_of_block, 2)\n",
    "\n",
    "# Compare with W[0]\n",
    "print(f\"First 32 bits of block (binary): {first_32_bits_of_block}\")\n",
    "print(f\"First 32 bits of block (int): {first_32_bits_int}\")\n",
    "print(f\"W[0] (int): {W[0]}\")\n",
    "print(f\"Are they equal? {'Yes' if first_32_bits_int == W[0] else 'No'}\")"
   ]
  },
  {
   "cell_type": "markdown",
   "metadata": {},
   "source": [
    "`right_rotate()`\n",
    "\n",
    "For the remaining 48 words, they're going to be derived from a series of right rotations on the first 16 words."
   ]
  },
  {
   "cell_type": "code",
   "execution_count": 81,
   "metadata": {
    "vscode": {
     "languageId": "shellscript"
    }
   },
   "outputs": [],
   "source": [
    "def right_rotate(value, shift):\n",
    "    return (value >> shift) | (value << (32 - shift)) & 0xFFFFFFFF"
   ]
  },
  {
   "cell_type": "markdown",
   "metadata": {},
   "source": [
    "**Bitwise XOR (^)**\n",
    "- Both the Same (0 and 0) or (1 + 1): 0\n",
    "- Both Different (1 and 0) or (0 and 1): 1\n",
    "\n",
    "`11001010`\n",
    "\n",
    "`10111000`\n",
    "\n",
    "`========`\n",
    "\n",
    "`01110010`"
   ]
  },
  {
   "cell_type": "code",
   "execution_count": 87,
   "metadata": {},
   "outputs": [
    {
     "name": "stdout",
     "output_type": "stream",
     "text": [
      "11001010 (a)\n",
      "10111000 (b)\n",
      "01110010 (a ^ b)\n"
     ]
    }
   ],
   "source": [
    "# Define two binary numbers\n",
    "a = 0b11001010\n",
    "b = 0b10111000\n",
    "\n",
    "# Perform XOR operation\n",
    "result = a ^ b\n",
    "\n",
    "# Print the binary representation of the numbers and the result\n",
    "print(f\"{a:08b} (a)\")\n",
    "print(f\"{b:08b} (b)\")\n",
    "print(f\"{result:08b} (a ^ b)\")"
   ]
  },
  {
   "cell_type": "markdown",
   "metadata": {},
   "source": [
    "Let's see how word 17 (`W[16]`) is created in this code.\n",
    "\n",
    "**Step 1**\n",
    "- `x0` = Take `W[0]` (first 32 bits of the block) and *right rotate* it by 7 bits.\n",
    "- `y0` = Take `W[0]` again and *right rotate* it by 18 bits.\n",
    "- `z0` = Take `W[0]` again and *right shift* it by 3 bits.\n",
    "- `s0` = Do the XOR operations of `(x0 ^ y0) ^ z0`\n",
    "\n",
    "**Step 2**\n",
    "- `x1` = Take `W[15]` (last 32 bits of the block) and *right rotate* it by 17 bits.\n",
    "- `y1` = Take `W[15]` again and *right rotate* it by 19 bits.\n",
    "- `z1` = Take `W[15]` again and *right shift* it by 10 bits.\n",
    "- `s1` = Do the XOR operations of `(x1 ^ y1) ^ z1`\n",
    "\n",
    "**Step 3**\n",
    "- To calculate the 17th word `W[16]`\n",
    "    - Go 16 words back `W[0]`, without modifying it.\n",
    "    - Add `s0`.\n",
    "    - Add the word 7 words back `W[9]`\n",
    "    - Add `s1`\n",
    "    - Take that final number, and mask it with `0xFFFFFFFF` to ensure it fits in 32 bits.\n",
    "\n",
    "##### NOTES\n",
    "- The shifts and rotations of 7, 18, 3, 17, 19, and 10 bits are part of the SHA-256 algorithm.\n",
    "- These numbers ensure that even a small change to the original message will result in a wildly different hash.\n",
    "- The use of shifting means that some of the bits of the original are discarded, making it impossible to reverse engineer the original message.\n",
    "\n",
    "**So what's happening here is lots of scrambling, and then scrambles of the scrambles or the scrambles, but it's done in a deterministic way so the same hash will always be reproduced. There's NO randomness.**\n"
   ]
  },
  {
   "cell_type": "code",
   "execution_count": 86,
   "metadata": {},
   "outputs": [
    {
     "name": "stdout",
     "output_type": "stream",
     "text": [
      "Complete W:\n",
      "1416128883, 543781664, 1629514863, 1852252269, 1702064993, 1734680692, 1751217184, 1769152615, 1869180519, 544501536, 1650794612, 2003771445, 825372002, 1769218146, 1819239275, 1931504751\n",
      "3945172365, 2289223840, 2397601740, 4022102314, 2875422736, 2654289798, 3129462946, 626517073, 1775128597, 1788758459, 3762445189, 1507837325, 4158046136, 1106070233, 3849808407, 2397607552\n",
      "2422983088, 1503464813, 3639923771, 4175367370, 790157116, 2440829288, 450286995, 4184850537, 1573971977, 3703860791, 589261572, 81660199, 3393539851, 207384749, 580786176, 607861249\n",
      "3474241617, 3500651991, 4072462943, 939243534, 4146417512, 4012967680, 2319193487, 2397309598, 645548903, 715477939, 2496514163, 1556579279, 1581340539, 1245245934, 4212576149, 1173796238\n"
     ]
    }
   ],
   "source": [
    "# Fill the remaining 48 words of W\n",
    "for i in range(16, 64):\n",
    "    # Calculate s0 using right rotations and right shift\n",
    "    x0 = right_rotate(W[i-15], 7)\n",
    "    y0 = right_rotate(W[i-15], 18)\n",
    "    z0 = (W[i-15] >> 3)\n",
    "\n",
    "    s0 =  x0 ^ y0 ^ z0 \n",
    "    \n",
    "    # Calculate s1 using right rotations and right shift\n",
    "    x1 = right_rotate(W[i-2], 17)\n",
    "    y1 = right_rotate(W[i-2], 19)\n",
    "    z1 = (W[i-2] >> 10)\n",
    "    s1 =  x1 ^ y1 ^ z1\n",
    "\n",
    "    # Compute the i-th word in the message schedule\n",
    "    W[i] = (W[i-16] + s0 + W[i-7] + s1) & 0xFFFFFFFF\n",
    "\n",
    "# Print the complete W\n",
    "print(\"Complete W:\")\n",
    "print_list_in_rows(W, 16)"
   ]
  },
  {
   "cell_type": "code",
   "execution_count": 94,
   "metadata": {},
   "outputs": [
    {
     "data": {
      "text/plain": [
       "['0x54686973',\n",
       " '0x20697320',\n",
       " '0x61206c6f',\n",
       " '0x6e67206d',\n",
       " '0x65737361',\n",
       " '0x67652074',\n",
       " '0x68617420',\n",
       " '0x69732067',\n",
       " '0x6f696e67',\n",
       " '0x20746f20',\n",
       " '0x62652074',\n",
       " '0x776f2035',\n",
       " '0x31322d62',\n",
       " '0x69742062',\n",
       " '0x6c6f636b',\n",
       " '0x73206c6f',\n",
       " '0xeb268d8d',\n",
       " '0x8872c8a0',\n",
       " '0x8ee87fcc',\n",
       " '0xefbc692a',\n",
       " '0xab637810',\n",
       " '0x9e353f86',\n",
       " '0xba87d0a2',\n",
       " '0x2557e451',\n",
       " '0x69ce5015',\n",
       " '0x6a9e49bb',\n",
       " '0xe0425b85',\n",
       " '0x59dfc58d',\n",
       " '0xf7d6bfb8',\n",
       " '0x41ed4ad9',\n",
       " '0xe5776a17',\n",
       " '0x8ee89680',\n",
       " '0x906bc9b0',\n",
       " '0x599d0d6d',\n",
       " '0xd8f4d43b',\n",
       " '0xf8df0cca',\n",
       " '0x2f18d73c',\n",
       " '0x917c1968',\n",
       " '0x1ad6d593',\n",
       " '0xf96fc069',\n",
       " '0x5dd0e809',\n",
       " '0xdcc46e37',\n",
       " '0x231f6b04',\n",
       " '0x4de0927',\n",
       " '0xca454f0b',\n",
       " '0xc5c70ad',\n",
       " '0x229e1800',\n",
       " '0x243b3a01',\n",
       " '0xcf14b851',\n",
       " '0xd0a7b5d7',\n",
       " '0xf2bcda5f',\n",
       " '0x37fbb80e',\n",
       " '0xf7254f68',\n",
       " '0xef310700',\n",
       " '0x8a3c158f',\n",
       " '0x8ee40a9e',\n",
       " '0x267a4b67',\n",
       " '0x2aa553b3',\n",
       " '0x94cdc873',\n",
       " '0x5cc783cf',\n",
       " '0x5e41577b',\n",
       " '0x4a38f1ee',\n",
       " '0xfb16cf95',\n",
       " '0x45f6b58e']"
      ]
     },
     "execution_count": 94,
     "metadata": {},
     "output_type": "execute_result"
    }
   ],
   "source": [
    "[hex(w) for w in W]"
   ]
  },
  {
   "cell_type": "markdown",
   "metadata": {},
   "source": [
    "\n",
    "#### The Compression\n",
    "The W message schedule is 64 words of 32 bits each. If we converted this to a hash right now, it would be 512 hexadecimal characters long. However, our goal is to produce a concise and fixed-length hash, typically 64 characters long, which is more practical for use in various applications like digital signatures, data integrity checks, and password storage. Therefore, we need to compress the message schedule down to a 64 character hash. This compression ensures that the hash is both manageable in size and consistent in length, regardless of the input message size."
   ]
  },
  {
   "cell_type": "markdown",
   "metadata": {},
   "source": [
    "Decoupling the H values into `a, b, c, d, e, f, g, h`"
   ]
  },
  {
   "cell_type": "code",
   "execution_count": 89,
   "metadata": {},
   "outputs": [],
   "source": [
    "# Constants for SHA-256\n",
    "H = [\n",
    "    0x6a09e667, 0xbb67ae85, 0x3c6ef372, 0xa54ff53a,\n",
    "    0x510e527f, 0x9b05688c, 0x1f83d9ab, 0x5be0cd19\n",
    "]\n",
    "\n",
    "# Initialize working variables with the current hash value\n",
    "a, b, c, d, e, f, g, h = H"
   ]
  },
  {
   "cell_type": "markdown",
   "metadata": {},
   "source": [
    "Now let's do the compression loop.\n",
    "\n",
    "##### Multiple Rounds\n",
    "`for i in range(64):`: We are going to repeat this process 64 times. Even though it would be extremely difficlt to reverse engineer the original message with one compression, by doing 64 rounds, we're making it impossible.\n",
    "\n",
    "##### S1\n",
    "- `x1` = right rotate the 5th hash `(e)` by **6** \n",
    "- `y1` = right rotate the 5th hash `(e)` by **11** \n",
    "- `x1` = right rotate the 5th hash `(e)` by **25** \n",
    "- `S1` = apply XOR operations (x1 ^ y1) ^ z1 "
   ]
  },
  {
   "cell_type": "code",
   "execution_count": null,
   "metadata": {},
   "outputs": [],
   "source": [
    "# Main hash computation loop\n",
    "for i in range(64):\n",
    "    \n",
    "    # compute S1\n",
    "    x1 = right_rotate(e, 6)\n",
    "    y1 = right_rotate(e, 11)\n",
    "    z1 = right_rotate(e, 25)\n",
    "    S1 =  x1 ^ y1 ^ z1\n",
    "\n",
    "\n",
    "    ch = (e & f) ^ (~e & g)\n",
    "    temp1 = (h + S1 + ch + K[i] + W[i]) & 0xFFFFFFFF\n",
    "    S0 = right_rotate(a, 2) ^ right_rotate(a, 13) ^ right_rotate(a, 22)\n",
    "    maj = (a & b) ^ (a & c) ^ (b & c)\n",
    "    temp2 = (S0 + maj) & 0xFFFFFFFF\n",
    "\n",
    "    h = g\n",
    "    g = f\n",
    "    f = e\n",
    "    e = (d + temp1) & 0xFFFFFFFF\n",
    "    d = c\n",
    "    c = b\n",
    "    b = a\n",
    "    a = (temp1 + temp2) & 0xFFFFFFFF\n",
    "\n",
    "# Add the compressed chunk to the current hash value\n",
    "H = [(x + y) & 0xFFFFFFFF for x, y in zip(H, [a, b, c, d, e, f, g, h])]\n",
    "\n",
    "# Print the resulting hash\n",
    "print(\"Resulting Hash:\")\n",
    "print(''.join(f'{value:08x}' for value in H))"
   ]
  },
  {
   "cell_type": "markdown",
   "metadata": {},
   "source": []
  }
 ],
 "metadata": {
  "kernelspec": {
   "display_name": "Python 3",
   "language": "python",
   "name": "python3"
  },
  "language_info": {
   "codemirror_mode": {
    "name": "ipython",
    "version": 3
   },
   "file_extension": ".py",
   "mimetype": "text/x-python",
   "name": "python",
   "nbconvert_exporter": "python",
   "pygments_lexer": "ipython3",
   "version": "3.11.9"
  }
 },
 "nbformat": 4,
 "nbformat_minor": 2
}
