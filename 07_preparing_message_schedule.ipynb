{
 "cells": [
  {
   "cell_type": "markdown",
   "metadata": {},
   "source": [
    "# Preparing the Message Schedule"
   ]
  },
  {
   "cell_type": "markdown",
   "metadata": {},
   "source": [
    "# We've gone as far as\n",
    "1. converting the message\n",
    "2. initializing the hash values\n",
    "3. shifting and rotation\n",
    "4. NOW Preparing the message"
   ]
  },
  {
   "cell_type": "markdown",
   "metadata": {},
   "source": [
    "#### Full Algorithm"
   ]
  },
  {
   "cell_type": "code",
   "execution_count": null,
   "metadata": {},
   "outputs": [],
   "source": [
    "import struct\n",
    "import math\n",
    "\n",
    "# Constants for SHA-256\n",
    "K = [\n",
    "    0x428a2f98, 0x71374491, 0xb5c0fbcf, 0xe9b5dba5, 0x3956c25b, 0x59f111f1, 0x923f82a4, 0xab1c5ed5,\n",
    "    0xd807aa98, 0x12835b01, 0x243185be, 0x550c7dc3, 0x72be5d74, 0x80deb1fe, 0x9bdc06a7, 0xc19bf174,\n",
    "    0xe49b69c1, 0xefbe4786, 0x0fc19dc6, 0x240ca1cc, 0x2de92c6f, 0x4a7484aa, 0x5cb0a9dc, 0x76f988da,\n",
    "    0x983e5152, 0xa831c66d, 0xb00327c8, 0xbf597fc7, 0xc6e00bf3, 0xd5a79147, 0x06ca6351, 0x14292967,\n",
    "    0x27b70a85, 0x2e1b2138, 0x4d2c6dfc, 0x53380d13, 0x650a7354, 0x766a0abb, 0x81c2c92e, 0x92722c85,\n",
    "    0xa2bfe8a1, 0xa81a664b, 0xc24b8b70, 0xc76c51a3, 0xd192e819, 0xd6990624, 0xf40e3585, 0x106aa070,\n",
    "    0x19a4c116, 0x1e376c08, 0x2748774c, 0x34b0bcb5, 0x391c0cb3, 0x4ed8aa4a, 0x5b9cca4f, 0x682e6ff3,\n",
    "    0x748f82ee, 0x78a5636f, 0x84c87814, 0x8cc70208, 0x90befffa, 0xa4506ceb, 0xbef9a3f7, 0xc67178f2\n",
    "]\n",
    "\n",
    "# Initial hash values\n",
    "H = [\n",
    "    0x6a09e667, 0xbb67ae85, 0x3c6ef372, 0xa54ff53a,\n",
    "    0x510e527f, 0x9b05688c, 0x1f83d9ab, 0x5be0cd19\n",
    "]\n",
    "\n",
    "def right_rotate(value, shift):\n",
    "    return (value >> shift) | (value << (32 - shift)) & 0xFFFFFFFF\n",
    "\n",
    "def pad_message(message):\n",
    "    # Convert message to bytes using ASCII encoding\n",
    "    message_bytes = message.encode('ascii')\n",
    "    \n",
    "    # Calculate the length of the original message in bits\n",
    "    original_length_bits = len(message_bytes) * 8\n",
    "    \n",
    "    # Pad the message with a single '1' bit followed by '0' bits\n",
    "    padded_message = message_bytes + b'\\x80'\n",
    "    while (len(padded_message) * 8) % 512 != 448:\n",
    "        padded_message += b'\\x00'\n",
    "    \n",
    "    # Append the length of the original message as a 64-bit big-endian integer\n",
    "    padded_message += struct.pack('>Q', original_length_bits)\n",
    "    \n",
    "    return padded_message\n",
    "\n",
    "def prepare_message_schedule(block):\n",
    "    W = [0] * 64\n",
    "    for t in range(16):\n",
    "        W[t] = struct.unpack('>I', block[t * 4:t * 4 + 4])[0]\n",
    "    for t in range(16, 64):\n",
    "        s0 = (right_rotate(W[t-15], 7) ^ right_rotate(W[t-15], 18) ^ (W[t-15] >> 3))\n",
    "        s1 = (right_rotate(W[t-2], 17) ^ right_rotate(W[t-2], 19) ^ (W[t-2] >> 10))\n",
    "        W[t] = (W[t-16] + s0 + W[t-7] + s1) & 0xFFFFFFFF\n",
    "    return W\n",
    "\n",
    "def sha256_compress(block, H):\n",
    "    W = prepare_message_schedule(block)\n",
    "    a, b, c, d, e, f, g, h = H\n",
    "\n",
    "    for t in range(64):\n",
    "        S1 = right_rotate(e, 6) ^ right_rotate(e, 11) ^ right_rotate(e, 25)\n",
    "        ch = (e & f) ^ (~e & g)\n",
    "        temp1 = (h + S1 + ch + K[t] + W[t]) & 0xFFFFFFFF\n",
    "        S0 = right_rotate(a, 2) ^ right_rotate(a, 13) ^ right_rotate(a, 22)\n",
    "        maj = (a & b) ^ (a & c) ^ (b & c)\n",
    "        temp2 = (S0 + maj) & 0xFFFFFFFF\n",
    "\n",
    "        h = g\n",
    "        g = f\n",
    "        f = e\n",
    "        e = (d + temp1) & 0xFFFFFFFF\n",
    "        d = c\n",
    "        c = b\n",
    "        b = a\n",
    "        a = (temp1 + temp2) & 0xFFFFFFFF\n",
    "\n",
    "    H[0] = (H[0] + a) & 0xFFFFFFFF\n",
    "    H[1] = (H[1] + b) & 0xFFFFFFFF\n",
    "    H[2] = (H[2] + c) & 0xFFFFFFFF\n",
    "    H[3] = (H[3] + d) & 0xFFFFFFFF\n",
    "    H[4] = (H[4] + e) & 0xFFFFFFFF\n",
    "    H[5] = (H[5] + f) & 0xFFFFFFFF\n",
    "    H[6] = (H[6] + g) & 0xFFFFFFFF\n",
    "    H[7] = (H[7] + h) & 0xFFFFFFFF\n",
    "\n",
    "def sha256(message):\n",
    "    # Pad the message\n",
    "    padded_message = pad_message(message)\n",
    "    \n",
    "    # Process each 512-bit block\n",
    "    for i in range(0, len(padded_message), 64):\n",
    "        block = padded_message[i:i+64]\n",
    "        sha256_compress(block, H)\n",
    "    \n",
    "    # Produce the final hash\n",
    "    return ''.join(f'{value:08x}' for value in H)\n",
    "\n",
    "# Example usage\n",
    "message = \"Hi!\"\n",
    "hash_value = sha256(message)\n",
    "print(hash_value)"
   ]
  },
  {
   "cell_type": "markdown",
   "metadata": {},
   "source": [
    "### Recap"
   ]
  },
  {
   "cell_type": "markdown",
   "metadata": {},
   "source": [
    "Our original message."
   ]
  },
  {
   "cell_type": "code",
   "execution_count": 25,
   "metadata": {},
   "outputs": [
    {
     "data": {
      "text/plain": [
       "'Hi!'"
      ]
     },
     "execution_count": 25,
     "metadata": {},
     "output_type": "execute_result"
    }
   ],
   "source": [
    "sha_256_input = 'Hi!'\n",
    "sha_256_input"
   ]
  },
  {
   "cell_type": "markdown",
   "metadata": {},
   "source": [
    "Message transformed to binary."
   ]
  },
  {
   "cell_type": "code",
   "execution_count": 26,
   "metadata": {},
   "outputs": [
    {
     "data": {
      "text/plain": [
       "'010010000110100100100001'"
      ]
     },
     "execution_count": 26,
     "metadata": {},
     "output_type": "execute_result"
    }
   ],
   "source": [
    "binary_message = text_to_binary(sha_256_input)\n",
    "binary_message"
   ]
  },
  {
   "cell_type": "markdown",
   "metadata": {},
   "source": [
    "Then we pad the message with zeros, adding\n",
    "- `1` to indicate the beginning of padding\n",
    "- enough zeros `000000...` to make the padded message length a multiple of 512 *(512, 1024, 2056, etc.)*\n",
    "- and a final 64-bit field indicating the length of the message in binary."
   ]
  },
  {
   "cell_type": "code",
   "execution_count": 27,
   "metadata": {},
   "outputs": [
    {
     "name": "stdout",
     "output_type": "stream",
     "text": [
      "PADDED MESSAGE: 01001000011010010010000110000000000000000000000000000000000000000000000000000000000000000000000000000000000000000000000000000000000000000000000000000000000000000000000000000000000000000000000000000000000000000000000000000000000000000000000000000000000000000000000000000000000000000000000000000000000000000000000000000000000000000000000000000000000000000000000000000000000000000000000000000000000000000000000000000000000000000000000000000000000000000000000000000000000000000000000000000000000000000000000000011000\n",
      "LENGTH 512\n",
      "MULTIPLE OF 512? True\n"
     ]
    }
   ],
   "source": [
    "padded_message = pad_binary(binary_message)\n",
    "padded_message\n",
    "\n",
    "print(f\"PADDED MESSAGE: {padded_message}\")\n",
    "print(f\"LENGTH {len(padded_message)}\")\n",
    "print(f\"MULTIPLE OF 512? {len(padded_message) % 512 == 0}\")\n"
   ]
  },
  {
   "cell_type": "markdown",
   "metadata": {},
   "source": [
    "Visualized like this:"
   ]
  },
  {
   "cell_type": "code",
   "execution_count": 28,
   "metadata": {},
   "outputs": [
    {
     "name": "stdout",
     "output_type": "stream",
     "text": [
      "\n",
      "Block 1 (512 bits):\n",
      "====================================================================================================\n",
      "Bits   0-63 : 0100100001101001001000011000000000000000000000000000000000000000\n",
      "Bits  64-127: 0000000000000000000000000000000000000000000000000000000000000000\n",
      "Bits 128-191: 0000000000000000000000000000000000000000000000000000000000000000\n",
      "Bits 192-255: 0000000000000000000000000000000000000000000000000000000000000000\n",
      "Bits 256-319: 0000000000000000000000000000000000000000000000000000000000000000\n",
      "Bits 320-383: 0000000000000000000000000000000000000000000000000000000000000000\n",
      "Bits 384-447: 0000000000000000000000000000000000000000000000000000000000000000\n",
      "Bits 448-511: 0000000000000000000000000000000000000000000000000000000000011000\n",
      "====================================================================================================\n"
     ]
    }
   ],
   "source": [
    "visualize_blocks(padded_message)"
   ]
  },
  {
   "cell_type": "markdown",
   "metadata": {},
   "source": [
    "### Prepare Message Schedule"
   ]
  },
  {
   "cell_type": "code",
   "execution_count": 103,
   "metadata": {},
   "outputs": [
    {
     "name": "stdout",
     "output_type": "stream",
     "text": [
      "W[00]: 01001000011010010010000110000000\n",
      "W[01]: 00000000000000000000000000000000\n",
      "W[02]: 00000000000000000000000000000000\n",
      "W[03]: 00000000000000000000000000000000\n",
      "W[04]: 00000000000000000000000000000000\n",
      "W[05]: 00000000000000000000000000000000\n",
      "W[06]: 00000000000000000000000000000000\n",
      "W[07]: 00000000000000000000000000000000\n",
      "W[08]: 00000000000000000000000000000000\n",
      "W[09]: 00000000000000000000000000000000\n",
      "W[10]: 00000000000000000000000000000000\n",
      "W[11]: 00000000000000000000000000000000\n",
      "W[12]: 00000000000000000000000000000000\n",
      "W[13]: 00000000000000000000000000000000\n",
      "W[14]: 00000000000000000000000000000000\n",
      "W[15]: 00000000000000000000000000011000\n",
      "W[16]: 01001000011010010010000110000000\n",
      "W[17]: 00000000000011110000000000000000\n",
      "W[18]: 10110100111000100011011101110001\n",
      "W[19]: 01100000000000000000001111000110\n",
      "W[20]: 01011101011110111101010001100000\n",
      "W[21]: 00000001100000111111110000000000\n",
      "W[22]: 10010000101010110111101111111111\n",
      "W[23]: 11001001111010011000000110001110\n",
      "W[24]: 11010010101100110001000010011110\n",
      "W[25]: 10100101101001101111111100011010\n",
      "W[26]: 01001010011010000010001110010001\n",
      "W[27]: 11111101110000110100010000111000\n",
      "W[28]: 00010111001011000001001001110001\n",
      "W[29]: 01011011010011111000110110000111\n",
      "W[30]: 10000101011000101110010000001000\n",
      "W[31]: 01001100000101101000101001001100\n",
      "W[32]: 11011100101101100010100101000001\n",
      "W[33]: 01010111000111011011110101110100\n",
      "W[34]: 00000100100101110000110001101111\n",
      "W[35]: 00011110001110110001011010110011\n",
      "W[36]: 00011111101110100010000100011001\n",
      "W[37]: 10100100001110110001111111001001\n",
      "W[38]: 10010110001101111001101000110101\n",
      "W[39]: 01110110101010010100001111001010\n",
      "W[40]: 00000110100000111111110111000001\n",
      "W[41]: 01010110111111010111001000001001\n",
      "W[42]: 10101001010010100000111100110001\n",
      "W[43]: 00011001001001010100001111101111\n",
      "W[44]: 11101000011110101001110111000001\n",
      "W[45]: 10110011101110000000011010110011\n",
      "W[46]: 01001100111110001110111010111111\n",
      "W[47]: 01101000101111011010100000001110\n",
      "W[48]: 00101011010111111010011000110101\n",
      "W[49]: 01111111000001001011000101111000\n",
      "W[50]: 11100101111010110000101100000000\n",
      "W[51]: 10001110110100010001110101010001\n",
      "W[52]: 11111000100010001011100100011110\n",
      "W[53]: 00111101101111010100101101111100\n",
      "W[54]: 00010101010100101010101100010010\n",
      "W[55]: 00101100100101010001101000011101\n",
      "W[56]: 11001011011001101100110011111100\n",
      "W[57]: 01100000111001100101001101010001\n",
      "W[58]: 10000101110110110111011010100001\n",
      "W[59]: 00101111001110000111111110100101\n",
      "W[60]: 01101100100110100000100111111101\n",
      "W[61]: 01000101111000011110110101011101\n",
      "W[62]: 00111011001011011001101010110110\n",
      "W[63]: 10000101111010001110100010011110\n"
     ]
    }
   ],
   "source": [
    "\n",
    "def prepare_message_schedule(padded_message):\n",
    "    # Split the padded message into 512-bit blocks\n",
    "    blocks = [padded_message[i:i+512] for i in range(0, len(padded_message), 512)]\n",
    "    \n",
    "    # Initialize the message schedule array\n",
    "    message_schedule = []\n",
    "\n",
    "    for block in blocks:\n",
    "        # Initialize the array W with the first 16 words\n",
    "        W = [int(block[i:i+32], 2) for i in range(0, 512, 32)]\n",
    "        \n",
    "        # Extend the first 16 words into the remaining 48 words\n",
    "        for t in range(16, 64):\n",
    "            s0 = rightrotate(W[t-15], 7) ^ rightrotate(W[t-15], 18) ^ (W[t-15] >> 3)\n",
    "            s1 = rightrotate(W[t-2], 17) ^ rightrotate(W[t-2], 19) ^ (W[t-2] >> 10)\n",
    "            W.append((W[t-16] + s0 + W[t-7] + s1) & 0xFFFFFFFF)\n",
    "        \n",
    "        message_schedule.append(W)\n",
    "    \n",
    "    return message_schedule\n",
    "\n",
    "# Prepare the message schedule for the padded message\n",
    "message_schedule = prepare_message_schedule(padded_message)\n",
    "\n",
    "# Print the first block's message schedule for verification\n",
    "for i, word in enumerate(message_schedule[0]):\n",
    "    print(f\"W[{i:02}]: {word:032b}\")"
   ]
  }
 ],
 "metadata": {
  "kernelspec": {
   "display_name": "Python 3",
   "language": "python",
   "name": "python3"
  },
  "language_info": {
   "codemirror_mode": {
    "name": "ipython",
    "version": 3
   },
   "file_extension": ".py",
   "mimetype": "text/x-python",
   "name": "python",
   "nbconvert_exporter": "python",
   "pygments_lexer": "ipython3",
   "version": "3.11.9"
  }
 },
 "nbformat": 4,
 "nbformat_minor": 2
}
