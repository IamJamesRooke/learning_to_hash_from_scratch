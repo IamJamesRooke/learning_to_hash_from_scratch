{
 "cells": [
  {
   "cell_type": "markdown",
   "metadata": {},
   "source": [
    "# Undestanding SHA-256 from First Principles\n",
    "\n",
    "This is a project where we're going to figure out, from scratch, how to build the SHA-256 algorithm, which is a one-way cryptographic function, converting any input, such as `Hi!`, into the 256-bit (32-bye) hash: `ca51ce1fb15acc6d69b8a5700256172fcc507e02073e6f19592e341bd6508ab8`.\n",
    "\n",
    "**NOTE:** This is a beginner-friendly tutorial where I'm assuming you have _some_ Python experience, but are unfamiliar with some funtions which I will xplain on the way."
   ]
  },
  {
   "cell_type": "markdown",
   "metadata": {},
   "source": [
    "### Input and Output\n",
    "\n",
    "During this tutorial, we're going to use `Hi!` as the input message, but you can make it anything you want."
   ]
  },
  {
   "cell_type": "code",
   "execution_count": 1,
   "metadata": {},
   "outputs": [],
   "source": [
    "sha_256_input = r\"Hi!\""
   ]
  },
  {
   "cell_type": "markdown",
   "metadata": {},
   "source": [
    "#### SHA-256: The _EASY_ Way.\n",
    "\n",
    "The easiest way to get the SHA-256 Hash is to use `hashlib`."
   ]
  },
  {
   "cell_type": "code",
   "execution_count": 2,
   "metadata": {},
   "outputs": [
    {
     "name": "stdout",
     "output_type": "stream",
     "text": [
      "SHA-256 INPUT: Hi!\n",
      "\n",
      "If our algorithm is correct, this should be the output hash:\n",
      "\n",
      "SHA-256 OUTPUT: ca51ce1fb15acc6d69b8a5700256172fcc507e02073e6f19592e341bd6508ab8\n"
     ]
    }
   ],
   "source": [
    "import hashlib\n",
    "\n",
    "def quick_sha256(text):\n",
    "    return hashlib.sha256(text.encode('utf-8')).hexdigest()\n",
    "\n",
    "correct_sha_256_output_hash = quick_sha256(sha_256_input)\n",
    "\n",
    "print(f\"SHA-256 INPUT: {sha_256_input}\")\n",
    "print(\"\\nIf our algorithm is correct, this should be the output hash:\\n\")\n",
    "print(f\"SHA-256 OUTPUT: {correct_sha_256_output_hash}\")\n"
   ]
  },
  {
   "cell_type": "markdown",
   "metadata": {},
   "source": [
    "## Step 1: Convert Input to Binary\n",
    "\n",
    "...But, we're masochists who want to understand this at a deep level, so we're gonna do this step-by-step. And the tThe first thing we need to do is convert each of the characters in the text `Hi!` to `ASCII` then `8-bit binary` and combine those numbers into a single string. Like this:\n",
    "- `H` -> `72` -> `01001000` \n",
    "- `i` -> `105` -> `01101001`\n",
    "- `!` -> `33` -> `00100001`\n",
    "\n",
    "Combining the three, we get our output binary string:\n",
    "\n",
    "`01001000` + `01101001` + `00100001` ➡ `010010000110100100100001`"
   ]
  },
  {
   "cell_type": "markdown",
   "metadata": {},
   "source": [
    "#### `ord()`\n",
    "\n",
    "We're going to need some lesser known functions, and the first one is `ord()` converts **ONE** character into its ascii equivalent."
   ]
  },
  {
   "cell_type": "code",
   "execution_count": 3,
   "metadata": {},
   "outputs": [
    {
     "name": "stdout",
     "output_type": "stream",
     "text": [
      "H 72\n",
      "i 105\n",
      "! 33\n"
     ]
    }
   ],
   "source": [
    "print('H', ord('H'))\n",
    "print('i', ord('i'))\n",
    "print('!', ord('!'))"
   ]
  },
  {
   "cell_type": "markdown",
   "metadata": {},
   "source": [
    "Let's do this for the entire message."
   ]
  },
  {
   "cell_type": "code",
   "execution_count": 4,
   "metadata": {},
   "outputs": [
    {
     "name": "stdout",
     "output_type": "stream",
     "text": [
      "H -> 72\n",
      "i -> 105\n",
      "! -> 33\n"
     ]
    }
   ],
   "source": [
    "for char in sha_256_input:\n",
    "    print(f'{char} -> {ord(char)}')"
   ]
  },
  {
   "cell_type": "markdown",
   "metadata": {},
   "source": [
    "#### `bin()`\n",
    "We also have `bin()` which converts an integer into its binary equivalent."
   ]
  },
  {
   "cell_type": "code",
   "execution_count": 5,
   "metadata": {},
   "outputs": [
    {
     "name": "stdout",
     "output_type": "stream",
     "text": [
      "0b1 0b10 0b11 0b100 0b101\n"
     ]
    }
   ],
   "source": [
    "print(bin(1), bin(2), bin(3), bin(4), bin(5))\n"
   ]
  },
  {
   "cell_type": "markdown",
   "metadata": {},
   "source": [
    "Notice how\n",
    "1. The output is a string, meaning we can't do any math on it.\n",
    "2. The string starts with the '0b' prefix, which is no good.\n",
    "3. For SHA-256, the output must be exactly 8-bits. No more, no less."
   ]
  },
  {
   "cell_type": "code",
   "execution_count": 6,
   "metadata": {},
   "outputs": [
    {
     "name": "stdout",
     "output_type": "stream",
     "text": [
      "H 0b1001000\n",
      "String Length: 9\n"
     ]
    }
   ],
   "source": [
    "print('H', bin(ord('H')))\n",
    "print(f\"String Length: {len(bin(ord('H')))}\")\n"
   ]
  },
  {
   "cell_type": "markdown",
   "metadata": {},
   "source": [
    "But this is what it looks like when we convert the message."
   ]
  },
  {
   "cell_type": "code",
   "execution_count": 7,
   "metadata": {},
   "outputs": [
    {
     "name": "stdout",
     "output_type": "stream",
     "text": [
      "H -> 72 -> 0b1001000\n",
      "i -> 105 -> 0b1101001\n",
      "! -> 33 -> 0b100001\n"
     ]
    }
   ],
   "source": [
    "for char in sha_256_input:\n",
    "    ascii_val = ord(char)\n",
    "    binary_val = bin(ascii_val)\n",
    "    print(f'{char} -> {ascii_val} -> {binary_val}')"
   ]
  },
  {
   "cell_type": "markdown",
   "metadata": {},
   "source": [
    "#### `format()`\n",
    "So what we're going to use instead is `format()` which allows us to convert the ascii to binary and add zeros to the left to make it exactly 8 bits.\n",
    "\n",
    "`H` ➡ `72` ➡ `1001000` ➡ `01001000` (add zero to left to make 8 bits)"
   ]
  },
  {
   "cell_type": "code",
   "execution_count": 8,
   "metadata": {},
   "outputs": [
    {
     "name": "stdout",
     "output_type": "stream",
     "text": [
      "H -> 72 -> 01001000 (length: 8)\n"
     ]
    }
   ],
   "source": [
    "char = 'H'\n",
    "ascii_val = ord(char)\n",
    "\n",
    "# format() works with ascii values\n",
    "# '0' means fill with zeros, '8' means 8 bits, 'b' means binary\n",
    "binary_val = format(ascii_val, '08b')\n",
    "print(f\"{char} -> {ascii_val} -> {binary_val} (length: {len(binary_val)})\")"
   ]
  },
  {
   "cell_type": "markdown",
   "metadata": {},
   "source": [
    "### Combining the Binary Strings\n",
    "Now that we know how to convert characters into 8-bit binary, we're going to put it all together to create our binary message, which comes out as a *STRING*."
   ]
  },
  {
   "cell_type": "code",
   "execution_count": 9,
   "metadata": {},
   "outputs": [
    {
     "name": "stdout",
     "output_type": "stream",
     "text": [
      "010010000110100100100001 <class 'str'>\n"
     ]
    }
   ],
   "source": [
    "binary_message = ''\n",
    "\n",
    "for char in sha_256_input:\n",
    "    ascii_val = ord(char)\n",
    "    for bit in format(ascii_val, '08b'):\n",
    "        binary_message += bit\n",
    "\n",
    "print(binary_message, type(binary_message))"
   ]
  },
  {
   "cell_type": "markdown",
   "metadata": {},
   "source": [
    "A more elegant way to write it with `join()` which iterates through every `char` of the input message, converts it to ascii, then binary, then squishes them all into one string."
   ]
  },
  {
   "cell_type": "code",
   "execution_count": 10,
   "metadata": {},
   "outputs": [],
   "source": [
    "binary_message = ''.join(format(ord(char), '08b') for char in sha_256_input)"
   ]
  },
  {
   "cell_type": "markdown",
   "metadata": {},
   "source": [
    "#### `text_to_binary()`\n",
    "Let's abstract this and turn it into a function."
   ]
  },
  {
   "cell_type": "code",
   "execution_count": 11,
   "metadata": {},
   "outputs": [
    {
     "name": "stdout",
     "output_type": "stream",
     "text": [
      "010010000110100100100001 <class 'str'>\n"
     ]
    }
   ],
   "source": [
    "def text_to_binary(input_text):\n",
    "    return ''.join(format(ord(char), '08b') for char in input_text)\n",
    "\n",
    "binary_message = text_to_binary(sha_256_input)\n",
    "print(binary_message, type(binary_message))"
   ]
  },
  {
   "cell_type": "markdown",
   "metadata": {},
   "source": [
    "## Step 2: Padding the Binary Message"
   ]
  },
  {
   "cell_type": "markdown",
   "metadata": {},
   "source": [
    "### Recap\n",
    "Step 1 was turning the each character of the input message `Hi!` into the binary message `010010000110100100100001` using our custom `text_to_binary()` function."
   ]
  },
  {
   "cell_type": "code",
   "execution_count": 12,
   "metadata": {},
   "outputs": [
    {
     "name": "stdout",
     "output_type": "stream",
     "text": [
      "SHA-256 INPUT: Hi!\n",
      "BINARY MESSAGE: 010010000110100100100001\n"
     ]
    }
   ],
   "source": [
    "sha_256_input = 'Hi!'\n",
    "binary_message = text_to_binary(sha_256_input)\n",
    "\n",
    "print('SHA-256 INPUT:', sha_256_input)\n",
    "print('BINARY MESSAGE:', binary_message)"
   ]
  },
  {
   "cell_type": "markdown",
   "metadata": {},
   "source": [
    "### SHA-256 Structure\n",
    "Now what we need to do is modify that binary message according to the SHA-256 block structure.\n",
    "- First, we have our binary message `'Hi!'` in binary.\n",
    "- We add a '1' to indicate that this is the end of the message.\n",
    "- We add zeros until we reach bit 447.\n",
    "- The last 64 bits of the message—bits 448 to 511—are reserved to indicate the length of the message."
   ]
  },
  {
   "attachments": {
    "image-2.png": {
     "image/png": "[encoded data removed]"
    }
   },
   "cell_type": "markdown",
   "metadata": {},
   "source": [
    "![image-2.png](attachment:image-2.png)"
   ]
  },
  {
   "attachments": {
    "image-2.png": {
     "image/png": "[encoded data removed]"
    },
    "image-3.png": {
     "image/png": "[encoded data removed]"
    }
   },
   "cell_type": "markdown",
   "metadata": {},
   "source": [
    "#### What happens if the message is longer than `'Hi!'` and the binary message takes up more than 512 bits?\n",
    "In that case, the message would be expanded to several blocks, like so:\n",
    "\n",
    "![image-2.png](attachment:image-2.png)\n",
    "![image-3.png](attachment:image-3.png)"
   ]
  },
  {
   "cell_type": "markdown",
   "metadata": {},
   "source": [
    "#### What happens if the message length is greater than 2^64 characters?\n",
    "That would be more than 2 exobytes of data, and most implementations of SHA-256 would raise an error."
   ]
  },
  {
   "cell_type": "markdown",
   "metadata": {},
   "source": [
    "### Anyways, let's Code!\n",
    "Let's pad the binary message according to the SHA-256 standard."
   ]
  },
  {
   "cell_type": "markdown",
   "metadata": {},
   "source": [
    "\n",
    "\n",
    "### Step 2.1: Add the '1' Bit\n",
    "First, we simply append a '1' to our binary message:"
   ]
  },
  {
   "cell_type": "code",
   "execution_count": 13,
   "metadata": {},
   "outputs": [],
   "source": [
    "padded_message = binary_message + '1'"
   ]
  },
  {
   "cell_type": "markdown",
   "metadata": {},
   "source": [
    "### Step 2.2: Calculate Required Padding\n",
    "Now we need to figure out how many zeros to add. And to do that, we need to remember a few things.\n",
    "\n",
    "First, SHA-256 processes messages in 512-bit blocks."
   ]
  },
  {
   "cell_type": "code",
   "execution_count": 14,
   "metadata": {},
   "outputs": [],
   "source": [
    "BLOCK_SIZE = 512    # SHA-256 processes messages in 512-bit blocks"
   ]
  },
  {
   "cell_type": "markdown",
   "metadata": {},
   "source": [
    "And there will always be *64 bits* reserved for the length field which comes at the **FINAL** block."
   ]
  },
  {
   "cell_type": "code",
   "execution_count": 15,
   "metadata": {},
   "outputs": [],
   "source": [
    "LENGTH_FIELD = 64   # Last 64 bits reserved for message length"
   ]
  },
  {
   "cell_type": "markdown",
   "metadata": {},
   "source": [
    "So our final block length must be *448 bits*."
   ]
  },
  {
   "cell_type": "code",
   "execution_count": 16,
   "metadata": {},
   "outputs": [
    {
     "data": {
      "text/plain": [
       "448"
      ]
     },
     "execution_count": 16,
     "metadata": {},
     "output_type": "execute_result"
    }
   ],
   "source": [
    "final_block_size = BLOCK_SIZE - LENGTH_FIELD\n",
    "final_block_size"
   ]
  },
  {
   "cell_type": "markdown",
   "metadata": {},
   "source": [
    "Remember, we only add zero padding to the *FINAL* block of the message. \n",
    "\n",
    "If the message is 900 bits for example, it will be structured like this:\n",
    "\n",
    "- **BLOCK 1:** 512 bits allocated to Part I of message.\n",
    "- **BLOCK 2** \n",
    "    - The final *388 bits* the of message\n",
    "    - *1 bit* to indicate beginning of padding\n",
    "    - *59 bits* of zeros\n",
    "    - final *64 bits* to mark the message length\n",
    "    - for a **TOTAL** of *512 bits*."
   ]
  },
  {
   "cell_type": "markdown",
   "metadata": {},
   "source": [
    "Considering this, we will use the modulo operator `%` to calculate how many zeros we need for the padding.\n",
    "\n",
    "In the case of `Hi!` we need 423 zeros of padding."
   ]
  },
  {
   "cell_type": "code",
   "execution_count": 17,
   "metadata": {},
   "outputs": [
    {
     "data": {
      "text/plain": [
       "423"
      ]
     },
     "execution_count": 17,
     "metadata": {},
     "output_type": "execute_result"
    }
   ],
   "source": [
    "padding_zeros = final_block_size - (len(padded_message) % BLOCK_SIZE)\n",
    "padding_zeros"
   ]
  },
  {
   "cell_type": "markdown",
   "metadata": {},
   "source": [
    "\n",
    "### Step 2.3: Add the Zero Padding\n",
    "This is easy. We just add 423 zeros to our message."
   ]
  },
  {
   "cell_type": "code",
   "execution_count": 18,
   "metadata": {},
   "outputs": [
    {
     "name": "stdout",
     "output_type": "stream",
     "text": [
      "BINARY MESSAGE: 010010000110100100100001\n",
      "PADDED MESSAGE: 0100100001101001001000011\n"
     ]
    }
   ],
   "source": [
    "print(f\"BINARY MESSAGE: {binary_message}\")\n",
    "print(f\"PADDED MESSAGE: {padded_message}\")\n"
   ]
  },
  {
   "cell_type": "code",
   "execution_count": 19,
   "metadata": {},
   "outputs": [
    {
     "name": "stdout",
     "output_type": "stream",
     "text": [
      "PADDED MESSAGE WITH ZEROS: 0100100001101001001000011000000000000000000000000000000000000000000000000000000000000000000000000000000000000000000000000000000000000000000000000000000000000000000000000000000000000000000000000000000000000000000000000000000000000000000000000000000000000000000000000000000000000000000000000000000000000000000000000000000000000000000000000000000000000000000000000000000000000000000000000000000000000000000000000000000000000000000000000000000000000000\n"
     ]
    }
   ],
   "source": [
    "padded_message_with_zeros = padded_message + '0' * padding_zeros\n",
    "print(f\"PADDED MESSAGE WITH ZEROS: {padded_message_with_zeros}\")"
   ]
  },
  {
   "cell_type": "markdown",
   "metadata": {},
   "source": [
    "\n",
    "### Step 2.4: Add the Length\n",
    "Finally, add the original message length as a 64-bit number:"
   ]
  },
  {
   "cell_type": "code",
   "execution_count": 20,
   "metadata": {},
   "outputs": [
    {
     "name": "stdout",
     "output_type": "stream",
     "text": [
      "FORMATTED MESSAGE LENGTH: 0000000000000000000000000000000000000000000000000000000000011000\n"
     ]
    }
   ],
   "source": [
    "message_length = len(binary_message)\n",
    "\n",
    "formatted_message_length = format(message_length, '064b')\n",
    "print(\"FORMATTED MESSAGE LENGTH:\", formatted_message_length)\n"
   ]
  },
  {
   "cell_type": "markdown",
   "metadata": {},
   "source": [
    "### Step 2.5: Put it All Together."
   ]
  },
  {
   "cell_type": "code",
   "execution_count": 21,
   "metadata": {},
   "outputs": [
    {
     "name": "stdout",
     "output_type": "stream",
     "text": [
      "FINAL PADDED BLOCK:\n",
      "\n",
      "Bits 000 to 064: 0100100001101001001000011000000000000000000000000000000000000000\n",
      "Bits 064 to 128: 0000000000000000000000000000000000000000000000000000000000000000\n",
      "Bits 128 to 192: 0000000000000000000000000000000000000000000000000000000000000000\n",
      "Bits 192 to 256: 0000000000000000000000000000000000000000000000000000000000000000\n",
      "Bits 256 to 320: 0000000000000000000000000000000000000000000000000000000000000000\n",
      "Bits 320 to 384: 0000000000000000000000000000000000000000000000000000000000000000\n",
      "Bits 384 to 448: 0000000000000000000000000000000000000000000000000000000000000000\n",
      "Bits 448 to 512: 0000000000000000000000000000000000000000000000000000000000011000\n"
     ]
    }
   ],
   "source": [
    "#! Need to accound for longer blocks.\n",
    "\n",
    "final_padded_block = padded_message_with_zeros + formatted_message_length\n",
    "print(\"FINAL PADDED BLOCK:\\n\")\n",
    "\n",
    "for bit in range(0, 512, 64):\n",
    "    print(f\"Bits {format(bit, '03d')} to {format(bit+64, '03d')}:\", final_padded_block[bit:bit+64])\n"
   ]
  },
  {
   "cell_type": "markdown",
   "metadata": {},
   "source": [
    "### Everything at once\n",
    "Here's the cleaner code that pads the binary message with the correct number of zeros and adds the length of the message at the end."
   ]
  },
  {
   "cell_type": "code",
   "execution_count": 22,
   "metadata": {},
   "outputs": [
    {
     "name": "stdout",
     "output_type": "stream",
     "text": [
      "Original message: Hi!\n",
      "As binary: 010010000110100100100001\n",
      "Length: 24 bits\n",
      "\n",
      "Complete 512-bit block breakdown:\n",
      "\n",
      "Block 1 (512 bits):\n",
      "====================================================================================================\n",
      "Bits   0-63 : 0100100001101001001000011000000000000000000000000000000000000000\n",
      "Bits  64-127: 0000000000000000000000000000000000000000000000000000000000000000\n",
      "Bits 128-191: 0000000000000000000000000000000000000000000000000000000000000000\n",
      "Bits 192-255: 0000000000000000000000000000000000000000000000000000000000000000\n",
      "Bits 256-319: 0000000000000000000000000000000000000000000000000000000000000000\n",
      "Bits 320-383: 0000000000000000000000000000000000000000000000000000000000000000\n",
      "Bits 384-447: 0000000000000000000000000000000000000000000000000000000000000000\n",
      "Bits 448-511: 0000000000000000000000000000000000000000000000000000000000011000\n",
      "====================================================================================================\n"
     ]
    }
   ],
   "source": [
    "# Start with our message\n",
    "message = \"Hi!\"\n",
    "\n",
    "# 1. Convert to binary\n",
    "binary = ''.join(format(ord(char), '08b') for char in message)\n",
    "\n",
    "# 2. Add the '1' bit\n",
    "padded = binary + '1'\n",
    "\n",
    "# 3. Add padding zeros\n",
    "zeros_needed = 448 - (len(padded) % 512)\n",
    "if zeros_needed < 0:\n",
    "    zeros_needed += 512\n",
    "padded += '0' * zeros_needed\n",
    "\n",
    "# 4. Add 64-bit message length\n",
    "msg_length = len(binary)\n",
    "length_bits = format(msg_length, '064b')\n",
    "final_padded = padded + length_bits\n",
    "\n",
    "print(f\"Original message: {message}\")\n",
    "print(f\"As binary: {binary}\")\n",
    "print(f\"Length: {len(binary)} bits\")\n",
    "\n",
    "# Show complete blocks with formatting\n",
    "print(\"\\nComplete 512-bit block breakdown:\")\n",
    "blocks = [final_padded[i:i+512] for i in range(0, len(final_padded), 512)]\n",
    "for i, block in enumerate(blocks):\n",
    "    print(f\"\\nBlock {i+1} (512 bits):\")\n",
    "    print(\"=\" * 100)\n",
    "    # Print in rows of 64 bits for readability\n",
    "    for j in range(0, 512, 64):\n",
    "        row = block[j:j+64]\n",
    "        print(f\"Bits {j:>3}-{j+63:<3}: {row}\")\n",
    "    print(\"=\" * 100)"
   ]
  },
  {
   "cell_type": "markdown",
   "metadata": {},
   "source": [
    "### Padding Message Function\n",
    "Now we will refactor this into a function."
   ]
  },
  {
   "cell_type": "code",
   "execution_count": 23,
   "metadata": {},
   "outputs": [
    {
     "data": {
      "text/plain": [
       "'01001000011010010010000110000000000000000000000000000000000000000000000000000000000000000000000000000000000000000000000000000000000000000000000000000000000000000000000000000000000000000000000000000000000000000000000000000000000000000000000000000000000000000000000000000000000000000000000000000000000000000000000000000000000000000000000000000000000000000000000000000000000000000000000000000000000000000000000000000000000000000000000000000000000000000000000000000000000000000000000000000000000000000000000000011000'"
      ]
     },
     "execution_count": 23,
     "metadata": {},
     "output_type": "execute_result"
    }
   ],
   "source": [
    "def pad_binary(binary_message,\n",
    "               block_size=512,\n",
    "               length_field=64):\n",
    "\n",
    "    # Add the '1' bit\n",
    "    padded = binary_message + '1'\n",
    "\n",
    "    # Calculate Zeros Needed\n",
    "    msg_size_on_final_block = (len(padded) % BLOCK_SIZE)\n",
    "    zeros_needed = block_size - msg_size_on_final_block - length_field\n",
    "\n",
    "    # If there are not enough zeros, add another block w/ zeros\n",
    "    if zeros_needed < 0:\n",
    "        zeros_needed += 512\n",
    "    \n",
    "    # Otherwise, appen the zeros needed\n",
    "    padded += '0' * zeros_needed\n",
    "\n",
    "    # Add 64-bit message length to the end, padded with zeros\n",
    "    msg_length = len(binary)\n",
    "    length_bits = format(msg_length, '064b')\n",
    "    final_padded = padded + length_bits\n",
    "\n",
    "    return final_padded\n",
    "\n",
    "pad_binary(binary)"
   ]
  },
  {
   "cell_type": "markdown",
   "metadata": {},
   "source": [
    "With this `visualize_blocks()` function we can visualize the structure."
   ]
  },
  {
   "cell_type": "code",
   "execution_count": 24,
   "metadata": {},
   "outputs": [
    {
     "name": "stdout",
     "output_type": "stream",
     "text": [
      "\n",
      "Block 1 (512 bits):\n",
      "====================================================================================================\n",
      "Bits   0-63 : 0100100001101001001000011000000000000000000000000000000000000000\n",
      "Bits  64-127: 0000000000000000000000000000000000000000000000000000000000000000\n",
      "Bits 128-191: 0000000000000000000000000000000000000000000000000000000000000000\n",
      "Bits 192-255: 0000000000000000000000000000000000000000000000000000000000000000\n",
      "Bits 256-319: 0000000000000000000000000000000000000000000000000000000000000000\n",
      "Bits 320-383: 0000000000000000000000000000000000000000000000000000000000000000\n",
      "Bits 384-447: 0000000000000000000000000000000000000000000000000000000000000000\n",
      "Bits 448-511: 0000000000000000000000000000000000000000000000000000000000011000\n",
      "====================================================================================================\n"
     ]
    }
   ],
   "source": [
    "def visualize_blocks(binary_message, block_size=512):\n",
    "    blocks = [binary_message[i:i+block_size] for i in range(0, len(binary_message), block_size)]\n",
    "    for i, block in enumerate(blocks):\n",
    "        print(f\"\\nBlock {i+1} ({block_size} bits):\")\n",
    "        print(\"=\" * 100)\n",
    "        # Print in rows of 64 bits for readability\n",
    "        for j in range(0, block_size, 64):\n",
    "            row = block[j:j+64]\n",
    "            print(f\"Bits {j:>3}-{j+63:<3}: {row}\")\n",
    "        print(\"=\" * 100)\n",
    "\n",
    "visualize_blocks(final_padded)"
   ]
  },
  {
   "cell_type": "markdown",
   "metadata": {},
   "source": [
    "# Step 3"
   ]
  },
  {
   "cell_type": "markdown",
   "metadata": {},
   "source": [
    "### Recap"
   ]
  },
  {
   "cell_type": "markdown",
   "metadata": {},
   "source": [
    "Our original message."
   ]
  },
  {
   "cell_type": "code",
   "execution_count": 25,
   "metadata": {},
   "outputs": [
    {
     "data": {
      "text/plain": [
       "'Hi!'"
      ]
     },
     "execution_count": 25,
     "metadata": {},
     "output_type": "execute_result"
    }
   ],
   "source": [
    "sha_256_input = 'Hi!'\n",
    "sha_256_input"
   ]
  },
  {
   "cell_type": "markdown",
   "metadata": {},
   "source": [
    "Message transformed to binary."
   ]
  },
  {
   "cell_type": "code",
   "execution_count": 26,
   "metadata": {},
   "outputs": [
    {
     "data": {
      "text/plain": [
       "'010010000110100100100001'"
      ]
     },
     "execution_count": 26,
     "metadata": {},
     "output_type": "execute_result"
    }
   ],
   "source": [
    "binary_message = text_to_binary(sha_256_input)\n",
    "binary_message"
   ]
  },
  {
   "cell_type": "markdown",
   "metadata": {},
   "source": [
    "Then we pad the message with zeros, adding\n",
    "- `1` to indicate the beginning of padding\n",
    "- enough zeros `000000...` to make the padded message length a multiple of 512 *(512, 1024, 2056, etc.)*\n",
    "- and a final 64-bit field indicating the length of the message in binary."
   ]
  },
  {
   "cell_type": "code",
   "execution_count": 27,
   "metadata": {},
   "outputs": [
    {
     "name": "stdout",
     "output_type": "stream",
     "text": [
      "PADDED MESSAGE: 01001000011010010010000110000000000000000000000000000000000000000000000000000000000000000000000000000000000000000000000000000000000000000000000000000000000000000000000000000000000000000000000000000000000000000000000000000000000000000000000000000000000000000000000000000000000000000000000000000000000000000000000000000000000000000000000000000000000000000000000000000000000000000000000000000000000000000000000000000000000000000000000000000000000000000000000000000000000000000000000000000000000000000000000000011000\n",
      "LENGTH 512\n",
      "MULTIPLE OF 512? True\n"
     ]
    }
   ],
   "source": [
    "padded_message = pad_binary(binary_message)\n",
    "padded_message\n",
    "\n",
    "print(f\"PADDED MESSAGE: {padded_message}\")\n",
    "print(f\"LENGTH {len(padded_message)}\")\n",
    "print(f\"MULTIPLE OF 512? {len(padded_message) % 512 == 0}\")\n"
   ]
  },
  {
   "cell_type": "markdown",
   "metadata": {},
   "source": [
    "Visualized like this:"
   ]
  },
  {
   "cell_type": "code",
   "execution_count": 28,
   "metadata": {},
   "outputs": [
    {
     "name": "stdout",
     "output_type": "stream",
     "text": [
      "\n",
      "Block 1 (512 bits):\n",
      "====================================================================================================\n",
      "Bits   0-63 : 0100100001101001001000011000000000000000000000000000000000000000\n",
      "Bits  64-127: 0000000000000000000000000000000000000000000000000000000000000000\n",
      "Bits 128-191: 0000000000000000000000000000000000000000000000000000000000000000\n",
      "Bits 192-255: 0000000000000000000000000000000000000000000000000000000000000000\n",
      "Bits 256-319: 0000000000000000000000000000000000000000000000000000000000000000\n",
      "Bits 320-383: 0000000000000000000000000000000000000000000000000000000000000000\n",
      "Bits 384-447: 0000000000000000000000000000000000000000000000000000000000000000\n",
      "Bits 448-511: 0000000000000000000000000000000000000000000000000000000000011000\n",
      "====================================================================================================\n"
     ]
    }
   ],
   "source": [
    "visualize_blocks(padded_message)"
   ]
  },
  {
   "cell_type": "markdown",
   "metadata": {},
   "source": [
    "### [Whatever the next step is.]"
   ]
  },
  {
   "cell_type": "markdown",
   "metadata": {},
   "source": [
    "### Initialize Hash Values\n",
    "To begin the crytographic transformation of the message, we're going to need eight 'magic numbers': constants written in hexidecimal form that are simply part of the SHA-256 algorithm, designated `H[0]` to `H[7]`"
   ]
  },
  {
   "cell_type": "code",
   "execution_count": 29,
   "metadata": {},
   "outputs": [],
   "source": [
    "H = [\n",
    "    0x6a09e667,\n",
    "    0xbb67ae85,\n",
    "    0x3c6ef372,\n",
    "    0xa54ff53a,\n",
    "    0x510e527f,\n",
    "    0x9b05688c,\n",
    "    0x1f83d9ab,\n",
    "    0x5be0cd19\n",
    "]"
   ]
  },
  {
   "cell_type": "markdown",
   "metadata": {},
   "source": [
    "### Where did these numbers come from?\n",
    "\n",
    "Let's get these hash values from first principles. First, the `H` values derive from prime numbers."
   ]
  },
  {
   "cell_type": "code",
   "execution_count": 30,
   "metadata": {},
   "outputs": [],
   "source": [
    "H_prime = [2, 3, 5, 7, 11, 13, 17, 19]"
   ]
  },
  {
   "cell_type": "markdown",
   "metadata": {},
   "source": [
    "Then we need to do the following operations on each of the prime numbers:\n",
    "- calculate the square root `(2 ➡ 1.4142135623730951)`\n",
    "- extract the fractional part of the square root `(1.4142135623730951 ➡ 0.4142135623730951)`\n",
    "- multiply the fractional part by 2^32 to scale it up to a 32-bit integer `(0.4142135623730951 ➡ 1779033703.9520998)`\n",
    "- then convert it to an integer `(1779033703.9520998 ➡ 1779033703)`\n",
    "- then convert it to hexidecimal `(1779033703 ➡ 0x6a09e667)`\n",
    "\n",
    "calculate the square root. We're gonna need the `math` module for this."
   ]
  },
  {
   "cell_type": "code",
   "execution_count": 31,
   "metadata": {},
   "outputs": [
    {
     "data": {
      "text/plain": [
       "['0x6a09e667',\n",
       " '0xbb67ae85',\n",
       " '0x3c6ef372',\n",
       " '0xa54ff53a',\n",
       " '0x510e527f',\n",
       " '0x9b05688c',\n",
       " '0x1f83d9ab',\n",
       " '0x5be0cd19']"
      ]
     },
     "execution_count": 31,
     "metadata": {},
     "output_type": "execute_result"
    }
   ],
   "source": [
    "import math\n",
    "\n",
    "def get_fractional_part_as_32bit_int(number):\n",
    "    \"\"\"\n",
    "    Calculate the 32-bit integer representation of the fractional part of the square root of a number.\n",
    "    \n",
    "    Args:\n",
    "    number (int): The number to calculate the square root of.\n",
    "    \n",
    "    Returns:\n",
    "    int: The 32-bit integer representation of the fractional part.\n",
    "    \"\"\"\n",
    "    # Calculate the square root of the number\n",
    "    sqrt_value = math.sqrt(number)\n",
    "    \n",
    "    # Extract the fractional part\n",
    "    fractional_part = sqrt_value - int(sqrt_value)\n",
    "    \n",
    "    # Multiply the fractional part by 2^32 and convert to integer\n",
    "    result = int(fractional_part * (2**32))\n",
    "    \n",
    "    return result\n",
    "\n",
    "# First eight prime numbers\n",
    "H_prime = [2, 3, 5, 7, 11, 13, 17, 19]\n",
    "\n",
    "# Calculate the fractional parts and convert to 32-bit integers\n",
    "H_fractional_part = [get_fractional_part_as_32bit_int(num) for num in H_prime]\n",
    "\n",
    "# Convert the results to hexadecimal format for readability\n",
    "H_fractional_part_hex = [hex(num) for num in H_fractional_part]\n",
    "\n",
    "# Print the results\n",
    "H_fractional_part_hex\n"
   ]
  },
  {
   "cell_type": "markdown",
   "metadata": {},
   "source": [
    "As we can see, these hex values are the same as the ones initialized at the beginning of the section."
   ]
  },
  {
   "cell_type": "code",
   "execution_count": 32,
   "metadata": {},
   "outputs": [
    {
     "name": "stdout",
     "output_type": "stream",
     "text": [
      "THEY'RE THE SAME: True\n"
     ]
    }
   ],
   "source": [
    "Original_H_Values = [int(num) for num in H]\n",
    "Derived_H_Values = [int(hex_num, 16) for hex_num in H_fractional_part_hex]\n",
    "print(\"THEY'RE THE SAME:\", Original_H_Values == Derived_H_Values)"
   ]
  },
  {
   "cell_type": "code",
   "execution_count": 33,
   "metadata": {},
   "outputs": [
    {
     "data": {
      "text/plain": [
       "True"
      ]
     },
     "execution_count": 33,
     "metadata": {},
     "output_type": "execute_result"
    }
   ],
   "source": [
    "H == H_fractional_part"
   ]
  },
  {
   "cell_type": "markdown",
   "metadata": {},
   "source": [
    "### Step 3.2: Prepare the Message Schedule"
   ]
  },
  {
   "cell_type": "markdown",
   "metadata": {},
   "source": [
    "**Bit Shifting and Rotation Explained**\n",
    "\n",
    "SHA-256 requires us to understand two operations: *bit shifting* and *bit rotating*.\n",
    "\n",
    "Here is the 32-bit representation of 9 (`1001`):\n",
    "\n",
    "`00000000000000000000000000001001`\n",
    "\n",
    "A **RIGHT SHIFT** of 3 means the bits are pushed three places to the right, with the tail `001` being knocked off. Zeros are filled in on the left:\n",
    "\n",
    "`00000000000000000000000000000001`\n",
    "\n",
    "However, a **RIGHT ROTATE** of 3 results in the tail `001` being reintroduced on the left-hand side:\n",
    "\n",
    "`00100000000000000000000000000010`\n",
    "\n",
    "This reintroduces the bits that were shifted out on the right back to the left."
   ]
  },
  {
   "cell_type": "markdown",
   "metadata": {},
   "source": [
    "`visualize_shift_and_rotate()`\n",
    "\n",
    "\n",
    "Play with this function to see the difference between shift and rotate using different values."
   ]
  },
  {
   "cell_type": "code",
   "execution_count": 50,
   "metadata": {},
   "outputs": [
    {
     "name": "stdout",
     "output_type": "stream",
     "text": [
      "Original value: 00000000000000000000000001100100\n",
      "Right shift by 3: 00000000000000000000000000001100\n",
      "Right rotate by 3: 10000000000000000000000000001100\n"
     ]
    }
   ],
   "source": [
    "def to_binary_str(value):\n",
    "    \"\"\"Convert an integer to a 32-bit binary string.\"\"\"\n",
    "    return f\"{value:032b}\"\n",
    "\n",
    "def right_shift(value, shift):\n",
    "    \"\"\"Right shift a 32-bit integer value by shift bits.\"\"\"\n",
    "    return value >> shift\n",
    "\n",
    "def right_rotate(value, shift):\n",
    "    \"\"\"Right rotate a 32-bit integer value by shift bits.\"\"\"\n",
    "    return (value >> shift) | (value << (32 - shift)) & 0xFFFFFFFF\n",
    "\n",
    "def visualize_shift_and_rotate(value, shift):\n",
    "    print(f\"Original value: {to_binary_str(value)}\")\n",
    "    \n",
    "    shifted_value = right_shift(value, shift)\n",
    "    print(f\"Right shift by {shift}: {to_binary_str(shifted_value)}\")\n",
    "    \n",
    "    rotated_value = right_rotate(value, shift)\n",
    "    print(f\"Right rotate by {shift}: {to_binary_str(rotated_value)}\")\n",
    "\n",
    "# Example usage\n",
    "value = 100  # 00000000000000000000000000000100\n",
    "shift = 3\n",
    "\n",
    "visualize_shift_and_rotate(value, shift)"
   ]
  },
  {
   "cell_type": "markdown",
   "metadata": {},
   "source": [
    "`rightrotate()`\n",
    "\n",
    "So let's make a right rotate function from scratch."
   ]
  },
  {
   "cell_type": "code",
   "execution_count": 35,
   "metadata": {},
   "outputs": [
    {
     "data": {
      "text/plain": [
       "1073741824"
      ]
     },
     "execution_count": 35,
     "metadata": {},
     "output_type": "execute_result"
    }
   ],
   "source": [
    "def rightrotate(value, shift):\n",
    "    \"\"\"Right rotate a 32-bit integer value by shift bits.\"\"\"\n",
    "    return (value >> shift) | (value << (32 - shift)) & 0xFFFFFFFF\n",
    "\n",
    "rightrotate(1, 2)"
   ]
  },
  {
   "cell_type": "code",
   "execution_count": null,
   "metadata": {},
   "outputs": [],
   "source": [
    "\n",
    "def prepare_message_schedule(padded_message):\n",
    "    # Split the padded message into 512-bit blocks\n",
    "    blocks = [padded_message[i:i+512] for i in range(0, len(padded_message), 512)]\n",
    "    \n",
    "    # Initialize the message schedule array\n",
    "    message_schedule = []\n",
    "\n",
    "    for block in blocks:\n",
    "        # Initialize the array W with the first 16 words\n",
    "        W = [int(block[i:i+32], 2) for i in range(0, 512, 32)]\n",
    "        \n",
    "        # Extend the first 16 words into the remaining 48 words\n",
    "        for t in range(16, 64):\n",
    "            s0 = rightrotate(W[t-15], 7) ^ rightrotate(W[t-15], 18) ^ (W[t-15] >> 3)\n",
    "            s1 = rightrotate(W[t-2], 17) ^ rightrotate(W[t-2], 19) ^ (W[t-2] >> 10)\n",
    "            W.append((W[t-16] + s0 + W[t-7] + s1) & 0xFFFFFFFF)\n",
    "        \n",
    "        message_schedule.append(W)\n",
    "    \n",
    "    return message_schedule\n",
    "\n",
    "# Prepare the message schedule for the padded message\n",
    "message_schedule = prepare_message_schedule(padded_message)\n",
    "\n",
    "# Print the first block's message schedule for verification\n",
    "for i, word in enumerate(message_schedule[0]):\n",
    "    print(f\"W[{i:02}]: {word:032b}\")"
   ]
  },
  {
   "cell_type": "markdown",
   "metadata": {},
   "source": [
    "H_prime = [\n",
    "    2\n",
    "]"
   ]
  }
 ],
 "metadata": {
  "kernelspec": {
   "display_name": "Python 3",
   "language": "python",
   "name": "python3"
  },
  "language_info": {
   "codemirror_mode": {
    "name": "ipython",
    "version": 3
   },
   "file_extension": ".py",
   "mimetype": "text/x-python",
   "name": "python",
   "nbconvert_exporter": "python",
   "pygments_lexer": "ipython3",
   "version": "3.11.9"
  }
 },
 "nbformat": 4,
 "nbformat_minor": 2
}
