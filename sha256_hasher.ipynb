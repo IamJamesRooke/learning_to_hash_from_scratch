{
 "cells": [
  {
   "cell_type": "markdown",
   "metadata": {},
   "source": [
    "# Undestanding SHA-256 from First Principles\n",
    "\n",
    "I'm writing this to figure out, from scratch how the SHA-256 one-way algorithm works.\n",
    "\n",
    "### What is SHA-256?\n",
    "SHA-256 (Secure Hash Algorithm 256-bit) is a cryptographic hash function that takes any input and produces a 256-bit (32-byte) hash value. It's part of the SHA-2 family, designed by the NSA and published by NIST in FIPS 180-4."
   ]
  },
  {
   "cell_type": "markdown",
   "metadata": {},
   "source": [
    "### End State\n",
    "\n",
    "If I input `Hello!` I should get the output `334d016f755cd6dc58c53a86e183882f8ec14f52fb05345887c8a5edd42c87b7`"
   ]
  },
  {
   "cell_type": "code",
   "execution_count": 1,
   "metadata": {},
   "outputs": [],
   "source": [
    "sha_256_input = \"Hello!\""
   ]
  },
  {
   "cell_type": "markdown",
   "metadata": {},
   "source": [
    "### SHA-256: Step 1 - Converting Input to Binary\n",
    "- The first mechanical step in SHA-256 is to convert your input string into binary. Here's exactly what happens:\n",
    "Convert each character to its ASCII/UTF-8 value\n",
    "Convert those values to 8-bit binary\n",
    "Concatenate all the bits together\n",
    "Let's do this step by step:\n"
   ]
  },
  {
   "cell_type": "code",
   "execution_count": null,
   "metadata": {},
   "outputs": [],
   "source": [
    "# Cell 1: Initial Hash Values\n",
    "# These are the first 32 bits of the fractional parts of the square roots of the first 8 primes\n",
    "h0 = 0x6a09e667\n",
    "h1 = 0xbb67ae85\n",
    "h2 = 0x3c6ef372\n",
    "h3 = 0xa54ff53a\n",
    "h4 = 0x510e527f\n",
    "h5 = 0x9b05688c\n",
    "h6 = 0x1f83d9ab\n",
    "h7 = 0x5be0cd19\n",
    "\n",
    "# Store them in a list for easier access\n",
    "initial_hash_values = [h0, h1, h2, h3, h4, h5, h6, h7]"
   ]
  }
 ],
 "metadata": {
  "kernelspec": {
   "display_name": "Python 3",
   "language": "python",
   "name": "python3"
  },
  "language_info": {
   "codemirror_mode": {
    "name": "ipython",
    "version": 3
   },
   "file_extension": ".py",
   "mimetype": "text/x-python",
   "name": "python",
   "nbconvert_exporter": "python",
   "pygments_lexer": "ipython3",
   "version": "3.11.9"
  }
 },
 "nbformat": 4,
 "nbformat_minor": 2
}
