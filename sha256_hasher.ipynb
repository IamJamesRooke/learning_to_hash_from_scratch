{
 "cells": [
  {
   "cell_type": "markdown",
   "metadata": {},
   "source": [
    "# Undestanding SHA-256 from First Principles\n",
    "\n",
    "This is a project where we're going to figure out, from scratch, how to build the SHA-256 algorithm, converting any input, such as `Hello!`, into the 256-bit (32-bye) hash: `334d016f755cd6dc58c53a86e183882f8ec14f52fb05345887c8a5edd42c87b7`.\n",
    "\n",
    "**NOTE:** This is a beginner-friendly tutorial where I'm assuming you have _some_ Python experience, but are unfamiliar with many of the functions."
   ]
  },
  {
   "cell_type": "markdown",
   "metadata": {},
   "source": [
    "### Input and Output\n",
    "\n",
    "During this tutorial, we're going to use `Hi!` as the input message, but you can make it anything you want."
   ]
  },
  {
   "cell_type": "code",
   "execution_count": 65,
   "metadata": {},
   "outputs": [],
   "source": [
    "sha_256_input = r\"Hi!\""
   ]
  },
  {
   "cell_type": "markdown",
   "metadata": {},
   "source": [
    "#### SHA-256: The _EASY_ Way.\n",
    "\n",
    "The easiest way to get the SHA-256 Hash is to use `hashlib`."
   ]
  },
  {
   "cell_type": "code",
   "execution_count": 68,
   "metadata": {},
   "outputs": [
    {
     "name": "stdout",
     "output_type": "stream",
     "text": [
      "SHA-256 INPUT: Hi!\n",
      "\n",
      "If our algorithm is correct, this should be the output hash:\n",
      "\n",
      "SHA-256 OUTPUT: ca51ce1fb15acc6d69b8a5700256172fcc507e02073e6f19592e341bd6508ab8\n"
     ]
    }
   ],
   "source": [
    "import hashlib\n",
    "\n",
    "def quick_sha256(text):\n",
    "    # Convert text to bytes\n",
    "    text_bytes = text.encode('utf-8')\n",
    "    \n",
    "    # Create SHA-256 hash object\n",
    "    sha256_hash = hashlib.sha256()\n",
    "    \n",
    "    # Update hash with bytes\n",
    "    sha256_hash.update(text_bytes)\n",
    "    \n",
    "    # Get hexadecimal representation\n",
    "    return sha256_hash.hexdigest()\n",
    "\n",
    "correct_sha_256_output_hash = quick_sha256(sha_256_input)\n",
    "print(f\"SHA-256 INPUT: {sha_256_input}\")\n",
    "print(\"\\nIf our algorithm is correct, this should be the output hash:\\n\")\n",
    "print(f\"SHA-256 OUTPUT: {correct_sha_256_output_hash}\")\n"
   ]
  },
  {
   "cell_type": "markdown",
   "metadata": {},
   "source": [
    "## Step 1: Convert Input to Binary\n",
    "\n",
    "...But, we're masochists who want to understand this at a deep level, so we're gonna do this step-by-step. And the tThe first thing we need to do is convert each of the characters in the text `Hi!` to `ASCII` then `8-bit binary` and combine those numbers into a single string. Like this:\n",
    "- `H` -> `72` -> `01001000` \n",
    "- `i` -> `105` -> `01101001`\n",
    "- `!` -> `33` -> `00100001`\n",
    "\n",
    "Combining the three, we get our output binary string:\n",
    "\n",
    "`01001000` + `01101001` + `00100001` ➡ `010010000110100100100001`"
   ]
  },
  {
   "cell_type": "markdown",
   "metadata": {},
   "source": [
    "#### `ord()`\n",
    "\n",
    "We're going to need some lesser known functions, and the first one is `ord()` converts **ONE** character into its ascii equivalent."
   ]
  },
  {
   "cell_type": "code",
   "execution_count": 69,
   "metadata": {},
   "outputs": [
    {
     "name": "stdout",
     "output_type": "stream",
     "text": [
      "H 72\n",
      "i 105\n",
      "! 33\n"
     ]
    }
   ],
   "source": [
    "print('H', ord('H'))\n",
    "print('i', ord('i'))\n",
    "print('!', ord('!'))"
   ]
  },
  {
   "cell_type": "markdown",
   "metadata": {},
   "source": [
    "Let's do this for the entire message."
   ]
  },
  {
   "cell_type": "code",
   "execution_count": 70,
   "metadata": {},
   "outputs": [
    {
     "name": "stdout",
     "output_type": "stream",
     "text": [
      "H -> 72\n",
      "i -> 105\n",
      "! -> 33\n"
     ]
    }
   ],
   "source": [
    "for char in sha_256_input:\n",
    "    print(f'{char} -> {ord(char)}')"
   ]
  },
  {
   "cell_type": "markdown",
   "metadata": {},
   "source": [
    "#### `bin()`\n",
    "We also have `bin()` which converts an integer into its binary equivalent."
   ]
  },
  {
   "cell_type": "code",
   "execution_count": 71,
   "metadata": {},
   "outputs": [
    {
     "name": "stdout",
     "output_type": "stream",
     "text": [
      "0b1 0b10 0b11 0b100 0b101\n"
     ]
    }
   ],
   "source": [
    "print(bin(1), bin(2), bin(3), bin(4), bin(5))\n"
   ]
  },
  {
   "cell_type": "markdown",
   "metadata": {},
   "source": [
    "Notice how\n",
    "1. The output is a string, meaning we can't do any math on it.\n",
    "2. The string starts with the '0b' prefix, which is no good.\n",
    "3. For SHA-256, the output must be exactly 8-bits. No more, no less."
   ]
  },
  {
   "cell_type": "code",
   "execution_count": 75,
   "metadata": {},
   "outputs": [
    {
     "name": "stdout",
     "output_type": "stream",
     "text": [
      "H 0b1001000\n",
      "String Length: 9\n"
     ]
    }
   ],
   "source": [
    "print('H', bin(ord('H')))\n",
    "print(f\"String Length: {len(bin(ord('H')))}\")\n"
   ]
  },
  {
   "cell_type": "markdown",
   "metadata": {},
   "source": [
    "But this is what it looks like when we convert the message."
   ]
  },
  {
   "cell_type": "code",
   "execution_count": 76,
   "metadata": {},
   "outputs": [
    {
     "name": "stdout",
     "output_type": "stream",
     "text": [
      "H -> 72 -> 0b1001000\n",
      "i -> 105 -> 0b1101001\n",
      "! -> 33 -> 0b100001\n"
     ]
    }
   ],
   "source": [
    "for char in sha_256_input:\n",
    "    ascii_val = ord(char)\n",
    "    binary_val = bin(ascii_val)\n",
    "    print(f'{char} -> {ascii_val} -> {binary_val}')"
   ]
  },
  {
   "cell_type": "markdown",
   "metadata": {},
   "source": [
    "#### `format()`\n",
    "So what we're going to use instead is `format()` which allows us to convert the ascii to binary and add zeros to the left to make it exactly 8 bits.\n",
    "\n",
    "`H` ➡ `72` ➡ `1001000` ➡ `01001000` (add zero to left to make 8 bits)"
   ]
  },
  {
   "cell_type": "code",
   "execution_count": 83,
   "metadata": {},
   "outputs": [
    {
     "name": "stdout",
     "output_type": "stream",
     "text": [
      "H -> 72 -> 01001000 (length: 8)\n"
     ]
    }
   ],
   "source": [
    "char = 'H'\n",
    "ascii_val = ord(char)\n",
    "\n",
    "# format() works with ascii values\n",
    "# '0' means fill with zeros, '8' means 8 bits, 'b' means binary\n",
    "binary_val = format(ascii_val, '08b')\n",
    "print(f\"{char} -> {ascii_val} -> {binary_val} (length: {len(binary_val)})\")"
   ]
  },
  {
   "cell_type": "markdown",
   "metadata": {},
   "source": [
    "### Combining the Binary Strings\n",
    "Now that we know how to convert characters into 8-bit binary, we're going to put it all together to create our binary message, which comes out as a *STRING*."
   ]
  },
  {
   "cell_type": "code",
   "execution_count": 87,
   "metadata": {},
   "outputs": [
    {
     "name": "stdout",
     "output_type": "stream",
     "text": [
      "010010000110100100100001 <class 'str'>\n"
     ]
    }
   ],
   "source": [
    "binary_message = ''\n",
    "\n",
    "for char in sha_256_input:\n",
    "    ascii_val = ord(char)\n",
    "    for bit in format(ascii_val, '08b'):\n",
    "        binary_message += bit\n",
    "\n",
    "print(binary_message, type(binary_message))"
   ]
  },
  {
   "cell_type": "markdown",
   "metadata": {},
   "source": [
    "A more elegant way to write it with `join()` which iterates through every `char` of the input message, converts it to ascii, then binary, then squishes them all into one string."
   ]
  },
  {
   "cell_type": "code",
   "execution_count": 93,
   "metadata": {},
   "outputs": [
    {
     "data": {
      "text/plain": [
       "True"
      ]
     },
     "execution_count": 93,
     "metadata": {},
     "output_type": "execute_result"
    }
   ],
   "source": [
    "binary_message = ''.join(format(ord(char), '08b') for char in sha_256_input)"
   ]
  },
  {
   "cell_type": "markdown",
   "metadata": {},
   "source": [
    "#### `text_to_binary()`\n",
    "Let's abstract this and turn it into a function."
   ]
  },
  {
   "cell_type": "code",
   "execution_count": 94,
   "metadata": {},
   "outputs": [
    {
     "name": "stdout",
     "output_type": "stream",
     "text": [
      "010010000110100100100001 <class 'str'>\n"
     ]
    }
   ],
   "source": [
    "def text_to_binary(input_text):\n",
    "    return ''.join(format(ord(char), '08b') for char in input_text)\n",
    "\n",
    "binary_message = text_to_binary(sha_256_input)\n",
    "print(binary_message, type(binary_message))"
   ]
  },
  {
   "cell_type": "markdown",
   "metadata": {},
   "source": [
    "## Step 2: Padding the Binary Message"
   ]
  },
  {
   "cell_type": "markdown",
   "metadata": {},
   "source": [
    "### Recap\n",
    "Step 1 was turning the each character of the input message `Hi!` into the binary message `010010000110100100100001` using our cursom `text_to_binary()` function."
   ]
  },
  {
   "cell_type": "code",
   "execution_count": 95,
   "metadata": {},
   "outputs": [
    {
     "name": "stdout",
     "output_type": "stream",
     "text": [
      "SHA-256 INPUT: Hi!\n",
      "BINARY MESSAGE: 010010000110100100100001\n"
     ]
    }
   ],
   "source": [
    "print('SHA-256 INPUT:', sha_256_input)\n",
    "print('BINARY MESSAGE:', text_to_binary(sha_256_input))"
   ]
  },
  {
   "cell_type": "markdown",
   "metadata": {},
   "source": [
    "### Now for the next step...\n",
    "\n",
    "Now that we have our binary string, we need to pad it to make sure it fits SHA-256's requirements. Here's what needs to happen:\n",
    "\n",
    "1. First, we add a single '1' bit to the end of our message\n",
    "2. Then we add zeros until our message length is 64 bits less than a multiple of 512\n",
    "3. Finally, we add the original message length (in binary) as a 64-bit number\n",
    "\n",
    "For example, let's pad our binary message:"
   ]
  },
  {
   "cell_type": "markdown",
   "metadata": {},
   "source": [
    "- Original: 010010000110100100100001\n",
    "- Add '1': 0100100001101001001000011\n",
    "- Add '0's: 0100100001101001001000011000...000 (until length = 448 bits)\n",
    "- Add len: 0100100001101001001000011000...000[64-bit length]"
   ]
  },
  {
   "cell_type": "markdown",
   "metadata": {},
   "source": [
    "The final padded message must be a multiple of 512 bits. This padding is crucial because:\n",
    "- SHA-256 processes data in 512-bit blocks\n",
    "- The '1' bit ensures we can tell where the original message ends\n",
    "- The length at the end provides extra security\n",
    "\n",
    "Let's implement this padding step..."
   ]
  },
  {
   "cell_type": "markdown",
   "metadata": {},
   "source": []
  }
 ],
 "metadata": {
  "kernelspec": {
   "display_name": "Python 3",
   "language": "python",
   "name": "python3"
  },
  "language_info": {
   "codemirror_mode": {
    "name": "ipython",
    "version": 3
   },
   "file_extension": ".py",
   "mimetype": "text/x-python",
   "name": "python",
   "nbconvert_exporter": "python",
   "pygments_lexer": "ipython3",
   "version": "3.11.9"
  }
 },
 "nbformat": 4,
 "nbformat_minor": 2
}
