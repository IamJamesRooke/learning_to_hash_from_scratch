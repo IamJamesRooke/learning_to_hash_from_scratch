{
 "cells": [
  {
   "cell_type": "markdown",
   "metadata": {},
   "source": [
    "# Why Does Bitcoin Use SHA-256 Twice?\n",
    "Bitcoin's double SHA-256 hashing (i.e., applying SHA-256 twice to the same data) is primarily used for enhanced security and protection against potential attacks in the distant future.\n",
    "\n",
    "Reason #1: Protection Against Length Extension Attacks\n",
    "A length extension attack occurs when a cryptographic hash function based on the Merkle–Damgård construction (like SHA-256) allows an attacker to append additional data to a hashed message without knowing the original message.\n",
    "\n",
    "SHA-256 follows the Merkle–Damgård structure, meaning that if an attacker knows H(message), they might be able to compute H(message || extra_data) without knowing the original message.\n",
    "Bitcoin prevents this attack by hashing twice, because applying SHA-256 again means the second hash has no clear structure that an attacker can manipulate.\n",
    "🔹 Example:\n",
    "If Bitcoin only used single SHA-256, an attacker might exploit H(message) to forge a new valid hash with additional data.\n",
    "Double hashing removes this risk, because SHA-256(SHA-256(message)) destroys any internal structure that could be exploited.\n",
    "\n",
    "Reason #2: Hardening Against Future Cryptanalysis\n",
    "Cryptographic breakthroughs (like advanced pre-image attacks or potential weaknesses in SHA-256) could reduce its effective security.\n",
    "If SHA-256 is weakened, a single round might become vulnerable earlier than expected.\n",
    "Double hashing significantly increases the difficulty of breaking the hash.\n",
    "🔹 Example:\n",
    "If researchers find an attack that reduces SHA-256 security to 2¹²⁸ operations (instead of the full 2²⁵⁶), double hashing would still require 2²⁵⁶ operations, making attacks infeasible."
   ]
  },
  {
   "cell_type": "markdown",
   "metadata": {},
   "source": []
  }
 ],
 "metadata": {
  "language_info": {
   "name": "python"
  }
 },
 "nbformat": 4,
 "nbformat_minor": 2
}
